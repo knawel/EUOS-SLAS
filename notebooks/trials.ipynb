{
 "cells": [
  {
   "cell_type": "code",
   "execution_count": 2,
   "id": "247a9b5b-7c9c-4ad5-a907-2627ff5b9702",
   "metadata": {},
   "outputs": [],
   "source": [
    "import pickle\n",
    "\n",
    "import pandas as pd\n",
    "from os.path import join\n",
    "import os\n",
    "\n",
    "# Sk learn\n",
    "\n",
    "from sklearn.preprocessing import StandardScaler\n",
    "from sklearn.metrics import f1_score, cohen_kappa_score\n",
    "from sklearn.pipeline import Pipeline\n",
    "from sklearn.model_selection import train_test_split\n"
   ]
  },
  {
   "cell_type": "code",
   "execution_count": 8,
   "id": "42819fc0-6eab-4268-9a3b-6c0fb0a80275",
   "metadata": {},
   "outputs": [],
   "source": [
    "data_folder = '../data/preprocessed/'\n",
    "X = pd.read_pickle(join(data_folder, \"X.pk\"))\n",
    "y = pd.read_pickle(join(data_folder, \"Y.pk\"))\n",
    "\n",
    "X_mat = X.values\n",
    "y_vec = y.values.flatten()\n",
    "X_train, X_test, y_train, y_test = train_test_split(X_mat, y_vec, test_size=0.2, random_state=123)"
   ]
  },
  {
   "cell_type": "code",
   "execution_count": 9,
   "id": "d94b2145-2d82-4c59-9bb1-abcf7671bd29",
   "metadata": {},
   "outputs": [
    {
     "data": {
      "text/plain": [
       "array([[  2.9458    ,   8.67773764, 107.2052    , ...,   0.        ,\n",
       "          5.        ,   0.        ],\n",
       "       [  1.3871    ,   1.92404641,  71.1174    , ...,   0.        ,\n",
       "          3.        ,   0.        ],\n",
       "       [  1.6544    ,   2.73703936,  83.0778    , ...,   0.        ,\n",
       "          2.        ,   0.        ],\n",
       "       ...,\n",
       "       [ -0.4522    ,   0.20448484, 115.4314    , ...,   0.        ,\n",
       "          3.        ,   0.        ],\n",
       "       [  1.7032    ,   2.90089024,  94.2962    , ...,   0.        ,\n",
       "          2.        ,   1.        ],\n",
       "       [  0.7869    ,   0.61921161,  99.995     , ...,   0.        ,\n",
       "          4.        ,   1.        ]])"
      ]
     },
     "execution_count": 9,
     "metadata": {},
     "output_type": "execute_result"
    }
   ],
   "source": [
    "X_train"
   ]
  }
 ],
 "metadata": {
  "kernelspec": {
   "display_name": "Python 3 (ipykernel)",
   "language": "python",
   "name": "python3"
  },
  "language_info": {
   "codemirror_mode": {
    "name": "ipython",
    "version": 3
   },
   "file_extension": ".py",
   "mimetype": "text/x-python",
   "name": "python",
   "nbconvert_exporter": "python",
   "pygments_lexer": "ipython3",
   "version": "3.10.4"
  }
 },
 "nbformat": 4,
 "nbformat_minor": 5
}
