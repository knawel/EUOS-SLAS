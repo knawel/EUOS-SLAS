{
 "cells": [
  {
   "cell_type": "code",
   "execution_count": 2,
   "id": "86191bf3",
   "metadata": {},
   "outputs": [
    {
     "name": "stderr",
     "output_type": "stream",
     "text": [
      "/home/dima/miniconda3/envs/ctpesto/lib/python3.10/site-packages/tqdm/auto.py:22: TqdmWarning: IProgress not found. Please update jupyter and ipywidgets. See https://ipywidgets.readthedocs.io/en/stable/user_install.html\n",
      "  from .autonotebook import tqdm as notebook_tqdm\n"
     ]
    }
   ],
   "source": [
    "import torch as pt\n",
    "import torch.nn as nn\n",
    "from torch.utils.data import random_split\n",
    "from src.dataset import MolDataset\n",
    "import numpy as np\n",
    "from torch.utils.data import DataLoader\n",
    "import torch.nn as nn"
   ]
  },
  {
   "cell_type": "code",
   "execution_count": 3,
   "id": "d9fa26b3-c1c6-44ce-a787-1596e83e6a02",
   "metadata": {},
   "outputs": [],
   "source": [
    "class NeuralNet(nn.Module):\n",
    "    def __init__(self, input_size, hidden_size, num_classes):\n",
    "        super(NeuralNet, self).__init__()\n",
    "        self.fc1 = nn.Linear(input_size, hidden_size) \n",
    "        self.relu = nn.ReLU()\n",
    "        self.hid = nn.Linear(hidden_size, hidden_size) \n",
    "        self.fc2 = nn.Linear(hidden_size, num_classes)  \n",
    "    \n",
    "    def forward(self, x):\n",
    "        out = self.fc1(x)\n",
    "        out = self.relu(out)\n",
    "        out = self.hid(out)\n",
    "        out = self.relu(out)\n",
    "        out = self.fc2(out)\n",
    "        return out"
   ]
  },
  {
   "cell_type": "code",
   "execution_count": 28,
   "id": "aa80e3ff-ebc5-4b0e-9cde-d5d5fc8f710f",
   "metadata": {},
   "outputs": [
    {
     "data": {
      "text/plain": [
       "<torch._C.Generator at 0x7fbdc868b790>"
      ]
     },
     "execution_count": 28,
     "metadata": {},
     "output_type": "execute_result"
    }
   ],
   "source": [
    "pt.manual_seed(110)"
   ]
  },
  {
   "cell_type": "code",
   "execution_count": 2,
   "id": "f591ad2f",
   "metadata": {},
   "outputs": [
    {
     "name": "stdout",
     "output_type": "stream",
     "text": [
      "Using cuda device\n"
     ]
    }
   ],
   "source": [
    "device = \"cuda\" if pt.cuda.is_available() else \"cpu\"\n",
    "print(f\"Using {device} device\")"
   ]
  },
  {
   "cell_type": "code",
   "execution_count": 29,
   "id": "76bb410f-d5cc-4a9e-9c38-a0fcd890882a",
   "metadata": {},
   "outputs": [],
   "source": [
    "N = 18000\n",
    "dataset = MolDataset(\"../data/preprocessed/X.pk\", \n",
    "                     y_datafile=\"../data/preprocessed/Y.pk\", normal = True)\n",
    "train_dataset, test_dataset = random_split(dataset, [len(dataset) - N, N])"
   ]
  },
  {
   "cell_type": "code",
   "execution_count": 30,
   "id": "da9686d4-2ee2-4bdc-8e27-e373385dd645",
   "metadata": {},
   "outputs": [
    {
     "data": {
      "text/plain": [
       "array([[0., 0., 1.],\n",
       "       [0., 0., 1.],\n",
       "       [0., 0., 1.],\n",
       "       [0., 0., 1.],\n",
       "       [0., 0., 1.],\n",
       "       [0., 0., 1.],\n",
       "       [0., 0., 1.],\n",
       "       [0., 1., 0.],\n",
       "       [0., 0., 1.],\n",
       "       [0., 0., 1.]])"
      ]
     },
     "execution_count": 30,
     "metadata": {},
     "output_type": "execute_result"
    }
   ],
   "source": [
    "test_dataset[:10][1]"
   ]
  },
  {
   "cell_type": "code",
   "execution_count": 77,
   "id": "13a6fe60-e24a-4a48-8f57-0137b22e87cc",
   "metadata": {},
   "outputs": [],
   "source": [
    "class NeuralNetwork(nn.Module):\n",
    "    def __init__(self):\n",
    "        super(NeuralNetwork, self).__init__()\n",
    "        self.linear_relu_stack = nn.Sequential(\n",
    "            nn.Linear(42, 64),\n",
    "            nn.ReLU(),\n",
    "            nn.Linear(64, 64),\n",
    "            nn.ReLU(),\n",
    "            nn.Linear(64, 64),\n",
    "            nn.ReLU(),\n",
    "            nn.Linear(64, 64),\n",
    "            nn.ReLU(),\n",
    "            nn.Linear(64, 3),\n",
    "        )\n",
    "\n",
    "    def forward(self, x):\n",
    "        logits = self.linear_relu_stack(x)\n",
    "        return logits\n",
    "    \n",
    "\n",
    "class NeuralNet(nn.Module):\n",
    "    def __init__(self, input_size, hidden_size, num_classes):\n",
    "        super(NeuralNet, self).__init__()\n",
    "        self.fc1 = nn.Linear(input_size, hidden_size) \n",
    "        self.relu = nn.ReLU()\n",
    "        self.hid = nn.Linear(hidden_size, hidden_size) \n",
    "        self.fc2 = nn.Linear(hidden_size, num_classes)  \n",
    "    \n",
    "    def forward(self, x):\n",
    "        out = self.fc1(x)\n",
    "        out = self.relu(out)\n",
    "        out = self.hid(out)\n",
    "        out = self.relu(out)\n",
    "        out = self.fc2(out)\n",
    "        return out"
   ]
  },
  {
   "cell_type": "code",
   "execution_count": 78,
   "id": "af828146-b788-417f-a749-e92f98f86804",
   "metadata": {},
   "outputs": [
    {
     "name": "stdout",
     "output_type": "stream",
     "text": [
      "NeuralNet(\n",
      "  (fc1): Linear(in_features=42, out_features=512, bias=True)\n",
      "  (relu): ReLU()\n",
      "  (hid): Linear(in_features=512, out_features=512, bias=True)\n",
      "  (fc2): Linear(in_features=512, out_features=3, bias=True)\n",
      ")\n"
     ]
    }
   ],
   "source": [
    "\n",
    "model = NeuralNet(42,512,3).to(device)\n",
    "print(model)"
   ]
  },
  {
   "cell_type": "code",
   "execution_count": null,
   "id": "d588ce47-e2f2-48a8-a740-90602518323d",
   "metadata": {},
   "outputs": [],
   "source": []
  },
  {
   "cell_type": "code",
   "execution_count": 79,
   "id": "c98d3a5f-e23d-4933-b96d-c02f7dd4b7d4",
   "metadata": {},
   "outputs": [
    {
     "name": "stdout",
     "output_type": "stream",
     "text": [
      "Predicted class: tensor([[0, 0, 0]], device='cuda:0')\n"
     ]
    }
   ],
   "source": [
    "X1 = np.array(train_dataset[81][0])\n",
    "X1 = X1[None, :]\n",
    "X = pt.tensor(X1, device=device)\n",
    "# X = torch.unsqueeze(X, dim=0)\n",
    "\n",
    "logits = model(X)\n",
    "pred_probab = nn.Softmax(dim=1)(logits)\n",
    "y_pred = pred_probab.argmax(1)\n",
    "print(f\"Predicted class: {y_pred}\")"
   ]
  },
  {
   "cell_type": "code",
   "execution_count": 80,
   "id": "e2de60ac-840a-4fac-b71b-8b0fd00a6a12",
   "metadata": {},
   "outputs": [
    {
     "data": {
      "text/plain": [
       "tensor([18., 18.,  1.], device='cuda:0')"
      ]
     },
     "execution_count": 80,
     "metadata": {},
     "output_type": "execute_result"
    }
   ],
   "source": [
    "class_weights = pt.Tensor([18, 18, 1])\n",
    "class_weights.to(device)"
   ]
  },
  {
   "cell_type": "code",
   "execution_count": 81,
   "id": "8adcc18f-bda7-407b-8844-83e648c72d3c",
   "metadata": {},
   "outputs": [],
   "source": [
    "# class_weights = [0.8, 0.8, 0.1]\n",
    "loss_fn = nn.BCEWithLogitsLoss(weight=class_weights)\n",
    "# loss_fn = nn.CrossEntropyLoss(weight=pt.tensor([5.,5.,1.]))\n",
    "optimizer = pt.optim.Adam(model.parameters())"
   ]
  },
  {
   "cell_type": "code",
   "execution_count": 82,
   "id": "0f2120c9-cdf6-413e-8d88-b3ea17a01c16",
   "metadata": {},
   "outputs": [
    {
     "data": {
      "text/plain": [
       "BCEWithLogitsLoss()"
      ]
     },
     "execution_count": 82,
     "metadata": {},
     "output_type": "execute_result"
    }
   ],
   "source": [
    "loss_fn.to(device)"
   ]
  },
  {
   "cell_type": "code",
   "execution_count": 83,
   "id": "814d876e-299e-469b-a66b-1bff6c001c5b",
   "metadata": {},
   "outputs": [],
   "source": [
    "\n",
    "def train_loop(dataloader, model, loss_fn, optimizer):\n",
    "    size = len(dataloader.dataset)\n",
    "    for batch, (X, Y) in enumerate(dataloader):\n",
    "        # Compute prediction and loss\n",
    "        x = X.to(device)\n",
    "        y = Y[:,None,:].to(device)\n",
    "        pred = model(x)\n",
    "        # print(pred,y)\n",
    "        loss = loss_fn(pred, y.float())\n",
    "\n",
    "        # Backpropagation\n",
    "        optimizer.zero_grad()\n",
    "        loss.backward()\n",
    "        optimizer.step()\n",
    "\n",
    "        if batch % 200 == 0:\n",
    "            loss, current = loss.item(), batch * len(X)\n",
    "            print(f\"loss: {loss:>7f}  [{current:>5d}/{size:>5d}]\")\n",
    "\n",
    "\n",
    "\n",
    "def test_loop(dataloader, model, loss_fn):\n",
    "    size = len(dataloader.dataset)\n",
    "    num_batches = len(dataloader)\n",
    "    test_loss, correct = 0, 0\n",
    "\n",
    "    with pt.no_grad():\n",
    "        for X, Y in dataloader:\n",
    "            x = X.to(device)\n",
    "            y = Y[:,None,:].to(device)\n",
    "            pred = model(x)\n",
    "            test_loss += loss_fn(pred, y.float()).item()\n",
    "    #             correct += (pred.argmax(1) == y).type(torch.float).sum().item()\n",
    "\n",
    "    test_loss /= num_batches\n",
    "    #     correct /= size\n",
    "    #     print(f\"Test Error: \\n Accuracy: {(100*correct):>0.1f}%, Avg loss: {test_loss:>8f} \\n\")\n",
    "    print(f\"Avg loss: {test_loss:>8f} \\n\")\n",
    "\n"
   ]
  },
  {
   "cell_type": "code",
   "execution_count": 85,
   "id": "68d3926b-93d3-48f4-abc9-1ebf05410ee9",
   "metadata": {},
   "outputs": [
    {
     "name": "stdout",
     "output_type": "stream",
     "text": [
      "Epoch 1\n",
      "-------------------------------\n",
      "loss: 1.492551  [    0/52711]\n",
      "Avg loss: 1.877420 \n",
      "\n",
      "Epoch 2\n",
      "-------------------------------\n",
      "loss: 1.688777  [    0/52711]\n",
      "Avg loss: 1.882305 \n",
      "\n",
      "Epoch 3\n",
      "-------------------------------\n",
      "loss: 1.919940  [    0/52711]\n",
      "Avg loss: 1.899627 \n",
      "\n",
      "Epoch 4\n",
      "-------------------------------\n",
      "loss: 1.538989  [    0/52711]\n",
      "Avg loss: 1.894449 \n",
      "\n",
      "Epoch 5\n",
      "-------------------------------\n",
      "loss: 1.572258  [    0/52711]\n",
      "Avg loss: 1.897527 \n",
      "\n",
      "Epoch 6\n",
      "-------------------------------\n",
      "loss: 1.590208  [    0/52711]\n",
      "Avg loss: 1.908379 \n",
      "\n",
      "Epoch 7\n",
      "-------------------------------\n",
      "loss: 1.755535  [    0/52711]\n",
      "Avg loss: 1.901678 \n",
      "\n",
      "Done!\n"
     ]
    }
   ],
   "source": [
    "epochs = 7\n",
    "# train model\n",
    "train_dataloader = DataLoader(train_dataset, batch_size=1024,\n",
    "                              shuffle=True, pin_memory=True)\n",
    "test_dataloader = DataLoader(test_dataset, batch_size=1024,\n",
    "                             shuffle=True, pin_memory=True)\n",
    "\n",
    "for t in range(epochs):\n",
    "    print(f\"Epoch {t + 1}\\n-------------------------------\")\n",
    "    # logger.store_progress(0, is_train=True, epoch=t+1)\n",
    "    train_loop(train_dataloader, model, loss_fn, optimizer)\n",
    "    test_loop(test_dataloader, model, loss_fn)\n",
    "print(\"Done!\")"
   ]
  },
  {
   "cell_type": "code",
   "execution_count": null,
   "id": "7d5e567c-15de-4000-ba94-79fe332bb33b",
   "metadata": {},
   "outputs": [],
   "source": []
  },
  {
   "cell_type": "code",
   "execution_count": 70,
   "id": "d6b6d29a-1c5f-4dc2-8266-a885655de7be",
   "metadata": {},
   "outputs": [],
   "source": [
    "pt.save(model.state_dict(), \"model.pt\")"
   ]
  },
  {
   "cell_type": "code",
   "execution_count": 86,
   "id": "93fa952a-6031-416c-9ba3-9937d9c43a27",
   "metadata": {},
   "outputs": [],
   "source": [
    "with pt.no_grad():\n",
    "    for X, Y in train_dataloader:\n",
    "        x = X.to(device)\n",
    "        y = Y[:,None,:].to(device)"
   ]
  },
  {
   "cell_type": "code",
   "execution_count": 87,
   "id": "44c45248-4644-4606-b059-01e82d58c168",
   "metadata": {},
   "outputs": [],
   "source": [
    "logits = model(x)\n",
    "pred_probab = nn.Softmax(dim=1)(logits)\n",
    "y_pred = pred_probab.argmax(1)"
   ]
  },
  {
   "cell_type": "code",
   "execution_count": 88,
   "id": "b3bfda51-ab1a-4420-968c-0c99734fc0cc",
   "metadata": {},
   "outputs": [
    {
     "data": {
      "text/plain": [
       "torch.Size([487, 1, 42])"
      ]
     },
     "execution_count": 88,
     "metadata": {},
     "output_type": "execute_result"
    }
   ],
   "source": [
    "x.shape"
   ]
  },
  {
   "cell_type": "code",
   "execution_count": 90,
   "id": "62629121-deeb-4e1d-8e9c-090f72ca7291",
   "metadata": {},
   "outputs": [
    {
     "data": {
      "text/plain": [
       "tensor([[[-4.3805, -3.5956,  3.1753]],\n",
       "\n",
       "        [[-3.0419, -3.5770,  2.5254]],\n",
       "\n",
       "        [[-2.3859, -2.6075,  1.9775]],\n",
       "\n",
       "        [[-3.8351, -2.7911,  2.4693]],\n",
       "\n",
       "        [[-4.3270, -3.1107,  2.8222]],\n",
       "\n",
       "        [[-2.8488, -3.5158,  2.5445]],\n",
       "\n",
       "        [[-3.3458, -2.9673,  2.3939]],\n",
       "\n",
       "        [[-4.0330, -3.0436,  2.6762]],\n",
       "\n",
       "        [[-4.4319, -3.2398,  2.9119]],\n",
       "\n",
       "        [[-3.8627, -3.2036,  2.6865]]], device='cuda:0',\n",
       "       grad_fn=<SliceBackward0>)"
      ]
     },
     "execution_count": 90,
     "metadata": {},
     "output_type": "execute_result"
    }
   ],
   "source": [
    "logits[0:10]"
   ]
  },
  {
   "cell_type": "code",
   "execution_count": 75,
   "id": "cd741672-05a4-427d-a1fb-d9f46db85fb8",
   "metadata": {},
   "outputs": [
    {
     "data": {
      "text/plain": [
       "tensor([[[0., 0., 1.]],\n",
       "\n",
       "        [[0., 0., 1.]],\n",
       "\n",
       "        [[0., 0., 1.]],\n",
       "\n",
       "        [[0., 0., 1.]],\n",
       "\n",
       "        [[0., 0., 1.]],\n",
       "\n",
       "        [[1., 0., 0.]],\n",
       "\n",
       "        [[0., 1., 0.]],\n",
       "\n",
       "        [[0., 0., 1.]]], device='cuda:0', dtype=torch.float64)"
      ]
     },
     "execution_count": 75,
     "metadata": {},
     "output_type": "execute_result"
    }
   ],
   "source": [
    "y[0:8,:,:]"
   ]
  },
  {
   "cell_type": "code",
   "execution_count": null,
   "id": "e33240f9-bdf4-40b7-9c0c-cbc2381cce7f",
   "metadata": {},
   "outputs": [],
   "source": []
  }
 ],
 "metadata": {
  "kernelspec": {
   "display_name": "Python 3 (ipykernel)",
   "language": "python",
   "name": "python3"
  },
  "language_info": {
   "codemirror_mode": {
    "name": "ipython",
    "version": 3
   },
   "file_extension": ".py",
   "mimetype": "text/x-python",
   "name": "python",
   "nbconvert_exporter": "python",
   "pygments_lexer": "ipython3",
   "version": "3.10.5"
  }
 },
 "nbformat": 4,
 "nbformat_minor": 5
}
