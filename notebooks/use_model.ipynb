{
 "cells": [
  {
   "cell_type": "code",
   "execution_count": 19,
   "id": "d8e3156e-9470-49f0-b2d3-32aa7a5cba50",
   "metadata": {},
   "outputs": [],
   "source": [
    "import torch as pt\n",
    "import torch.nn as nn\n",
    "from torch.utils.data import random_split\n",
    "from src.dataset import MolDataset\n",
    "import numpy as np\n",
    "from torch.utils.data import DataLoader\n",
    "import pandas as pd\n",
    "from sklearn.metrics import f1_score, cohen_kappa_score"
   ]
  },
  {
   "cell_type": "code",
   "execution_count": 2,
   "id": "7d2eded7-caff-4099-9f83-58c922e9b8b8",
   "metadata": {},
   "outputs": [
    {
     "name": "stdout",
     "output_type": "stream",
     "text": [
      "Using cuda device\n"
     ]
    }
   ],
   "source": [
    "device = \"cuda\" if pt.cuda.is_available() else \"cpu\"\n",
    "print(f\"Using {device} device\")"
   ]
  },
  {
   "cell_type": "code",
   "execution_count": 3,
   "id": "961a1bf8-6bf8-4119-a105-3ed1568b7666",
   "metadata": {},
   "outputs": [],
   "source": [
    "dataset = MolDataset(\"../data/preprocessed/X.pk\", \n",
    "                     y_datafile=\"../data/preprocessed/Y.pk\", normal = True)"
   ]
  },
  {
   "cell_type": "markdown",
   "id": "df4e3fec-72c9-4d27-afd6-80253eb4f5ed",
   "metadata": {},
   "source": [
    "# Load "
   ]
  },
  {
   "cell_type": "code",
   "execution_count": 4,
   "id": "5e88c0a5-91d2-4a57-b8f6-31d38508e99e",
   "metadata": {},
   "outputs": [],
   "source": [
    "class NeuralNet(nn.Module):\n",
    "    def __init__(self, input_size, hidden_size, num_classes):\n",
    "        super(NeuralNet, self).__init__()\n",
    "        self.fc1 = nn.Linear(input_size, hidden_size) \n",
    "        self.relu = nn.ReLU()\n",
    "        self.hid = nn.Linear(hidden_size, hidden_size) \n",
    "        self.hid2 = nn.Linear(hidden_size, hidden_size) \n",
    "        self.fc2 = nn.Linear(hidden_size, num_classes)  \n",
    "    \n",
    "    def forward(self, x):\n",
    "        out = self.fc1(x)\n",
    "        out = self.relu(out)\n",
    "        out = self.hid(out)\n",
    "        out = self.relu(out)\n",
    "        out = self.hid2(out)\n",
    "        out = self.relu(out)\n",
    "        out = self.fc2(out)\n",
    "        return out"
   ]
  },
  {
   "cell_type": "code",
   "execution_count": 5,
   "id": "f4b27bf4-ae96-474b-8b3f-38db4652941b",
   "metadata": {},
   "outputs": [
    {
     "data": {
      "text/plain": [
       "NeuralNet(\n",
       "  (fc1): Linear(in_features=42, out_features=512, bias=True)\n",
       "  (relu): ReLU()\n",
       "  (hid): Linear(in_features=512, out_features=512, bias=True)\n",
       "  (hid2): Linear(in_features=512, out_features=512, bias=True)\n",
       "  (fc2): Linear(in_features=512, out_features=3, bias=True)\n",
       ")"
      ]
     },
     "execution_count": 5,
     "metadata": {},
     "output_type": "execute_result"
    }
   ],
   "source": [
    "n_categories = 3\n",
    "n_features = 42\n",
    "learning_rate = 1e-5\n",
    "n_hidden = 512\n",
    "# n_layers = config_runtime['layers']\n",
    "\n",
    "\n",
    "model = NeuralNet(n_features,n_hidden,n_categories).to(device)\n",
    "model.load_state_dict(pt.load(\"../model/torch/model.pt\"))\n",
    "model.eval()"
   ]
  },
  {
   "cell_type": "markdown",
   "id": "3fd7936a-81fd-45f3-88a5-7abc8a50513e",
   "metadata": {},
   "source": [
    "# Test"
   ]
  },
  {
   "cell_type": "code",
   "execution_count": 23,
   "id": "e5d2d85b-1f53-4670-b569-70bd8b811911",
   "metadata": {},
   "outputs": [
    {
     "ename": "SyntaxError",
     "evalue": "invalid syntax (2955248105.py, line 1)",
     "output_type": "error",
     "traceback": [
      "\u001b[0;36m  Input \u001b[0;32mIn [23]\u001b[0;36m\u001b[0m\n\u001b[0;31m    ids = [8:2100]\u001b[0m\n\u001b[0m            ^\u001b[0m\n\u001b[0;31mSyntaxError\u001b[0m\u001b[0;31m:\u001b[0m invalid syntax\n"
     ]
    }
   ],
   "source": [
    "ids = [8:2100]"
   ]
  },
  {
   "cell_type": "code",
   "execution_count": 30,
   "id": "47f4c58a-06d3-45f2-bc4e-93b9463db695",
   "metadata": {},
   "outputs": [],
   "source": [
    "X1 = dataset[:][0]\n",
    "treu_y = dataset[:][1]\n",
    "X = pt.tensor(X1, device=device)\n",
    "\n",
    "logits = model(X)\n",
    "pred_probab = nn.Softmax(dim=1)(logits)"
   ]
  },
  {
   "cell_type": "code",
   "execution_count": 8,
   "id": "09140776-0f0b-4cac-b174-b013042f618f",
   "metadata": {},
   "outputs": [
    {
     "data": {
      "text/plain": [
       "array([[1., 0., 0.],\n",
       "       [0., 1., 0.],\n",
       "       [0., 0., 1.],\n",
       "       [0., 1., 0.],\n",
       "       [0., 0., 1.]])"
      ]
     },
     "execution_count": 8,
     "metadata": {},
     "output_type": "execute_result"
    }
   ],
   "source": [
    "# treu_y' pred_probab"
   ]
  },
  {
   "cell_type": "code",
   "execution_count": 31,
   "id": "838931c3-7e22-49a3-acf6-baa5a0694cc5",
   "metadata": {},
   "outputs": [],
   "source": [
    "pred_cats = np.array(pred_probab.argmax(2).cpu()[0])\n",
    "true_cat = treu_y.argmax(1)"
   ]
  },
  {
   "cell_type": "code",
   "execution_count": 32,
   "id": "c16ac7aa-55b9-4754-a2d7-848a359fb93e",
   "metadata": {},
   "outputs": [
    {
     "name": "stdout",
     "output_type": "stream",
     "text": [
      "[1 0 2 ... 1 0 2] [0 0 0 ... 2 2 2]\n"
     ]
    }
   ],
   "source": [
    "print(pred_cats, true_cat)"
   ]
  },
  {
   "cell_type": "code",
   "execution_count": 33,
   "id": "ac992ec3-c3a1-45b5-be53-884b87856b15",
   "metadata": {},
   "outputs": [],
   "source": [
    "score = f1_score(pred_cats, true_cat, average=None)\n",
    "score2 = cohen_kappa_score(pred_cats, true_cat)"
   ]
  },
  {
   "cell_type": "code",
   "execution_count": 36,
   "id": "f5aa7465-dcfd-498b-8172-8db26807ca3c",
   "metadata": {},
   "outputs": [
    {
     "name": "stdout",
     "output_type": "stream",
     "text": [
      "[0.07987241 0.09279098 0.658779  ] 34.024649270853324\n"
     ]
    }
   ],
   "source": [
    "print(score, 1/score2)"
   ]
  },
  {
   "cell_type": "markdown",
   "id": "bd8ac4cb-de1a-4724-91bb-e6ebb28b5045",
   "metadata": {},
   "source": [
    "# Real predictions\n"
   ]
  },
  {
   "cell_type": "code",
   "execution_count": null,
   "id": "20db02f1-cb84-410f-b0a3-59aa777ec46f",
   "metadata": {},
   "outputs": [],
   "source": [
    "X_test = pd.read_pickle(\"../data/preprocessed/test.pk\")\n",
    "scaler = joblib.load(\"../model/torch/scaler.save\") "
   ]
  },
  {
   "cell_type": "code",
   "execution_count": null,
   "id": "35bb55de-120b-4831-96d4-3dda25a02e3e",
   "metadata": {},
   "outputs": [],
   "source": [
    "X_test_mat = np.array(X_test.loc[:, X_test.columns != 'Id'].values,\n",
    "                 dtype=np.float32)\n",
    "X_test_mat = scaler.fit_transform(X_test_mat)\n",
    "X_id = list(X_test.loc[:,'Id'])"
   ]
  },
  {
   "cell_type": "code",
   "execution_count": null,
   "id": "2ef23d80-a3b3-4de0-8e5b-71a4fc1fbac1",
   "metadata": {},
   "outputs": [],
   "source": [
    "X = pt.tensor(X_test_mat[None, :,:], device=device)\n",
    "# # X = torch.unsqueeze(X, dim=0)\n",
    "\n",
    "logits = model(X)\n",
    "pred_probab = nn.Softmax(dim=1)(logits)"
   ]
  },
  {
   "cell_type": "code",
   "execution_count": null,
   "id": "08e38c74-dd13-4dad-a26e-fb45d14b6047",
   "metadata": {},
   "outputs": [],
   "source": [
    "X"
   ]
  },
  {
   "cell_type": "code",
   "execution_count": null,
   "id": "8b1e5731-4770-4165-95d5-05f5a1b8ab62",
   "metadata": {},
   "outputs": [],
   "source": [
    "pred_probab"
   ]
  },
  {
   "cell_type": "code",
   "execution_count": null,
   "id": "a8de37f6-f07c-48c5-8e84-8b65f5fb0e5b",
   "metadata": {},
   "outputs": [],
   "source": [
    "vals = np.array(pred_probab.argmax(2).cpu())[0]"
   ]
  },
  {
   "cell_type": "code",
   "execution_count": null,
   "id": "0b2c1e48-1342-4166-80f8-ba6482b5eb09",
   "metadata": {},
   "outputs": [],
   "source": [
    "report = pd.DataFrame({'Id': X_id, 'pred': vals})\n",
    "report.to_csv(\"submission.csv\", index=False)"
   ]
  }
 ],
 "metadata": {
  "kernelspec": {
   "display_name": "Python 3 (ipykernel)",
   "language": "python",
   "name": "python3"
  },
  "language_info": {
   "codemirror_mode": {
    "name": "ipython",
    "version": 3
   },
   "file_extension": ".py",
   "mimetype": "text/x-python",
   "name": "python",
   "nbconvert_exporter": "python",
   "pygments_lexer": "ipython3",
   "version": "3.10.5"
  }
 },
 "nbformat": 4,
 "nbformat_minor": 5
}
