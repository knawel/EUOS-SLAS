{
 "cells": [
  {
   "cell_type": "code",
   "execution_count": 12,
   "id": "d8e3156e-9470-49f0-b2d3-32aa7a5cba50",
   "metadata": {},
   "outputs": [],
   "source": [
    "import torch as pt\n",
    "import torch.nn as nn\n",
    "from torch.utils.data import random_split\n",
    "from src.dataset import MolDataset\n",
    "import numpy as np\n",
    "from torch.utils.data import DataLoader\n",
    "import pandas as pd"
   ]
  },
  {
   "cell_type": "code",
   "execution_count": 3,
   "id": "7d2eded7-caff-4099-9f83-58c922e9b8b8",
   "metadata": {},
   "outputs": [
    {
     "name": "stdout",
     "output_type": "stream",
     "text": [
      "Using cuda device\n"
     ]
    }
   ],
   "source": [
    "device = \"cuda\" if pt.cuda.is_available() else \"cpu\"\n",
    "print(f\"Using {device} device\")"
   ]
  },
  {
   "cell_type": "code",
   "execution_count": 4,
   "id": "961a1bf8-6bf8-4119-a105-3ed1568b7666",
   "metadata": {},
   "outputs": [],
   "source": [
    "dataset = MolDataset(\"../data/preprocessed/X.pk\", \n",
    "                     y_datafile=\"../data/preprocessed/Y.pk\", normal = True)"
   ]
  },
  {
   "cell_type": "code",
   "execution_count": 70,
   "id": "50cbd0f0-ad0d-4d16-8a63-923c43f58c14",
   "metadata": {},
   "outputs": [],
   "source": [
    "X_original = pd.read_pickle(\"../data/preprocessed/X.pk\")"
   ]
  },
  {
   "cell_type": "code",
   "execution_count": 16,
   "id": "0eaaf969-693e-4e16-9682-d11f93562811",
   "metadata": {},
   "outputs": [],
   "source": [
    "y = pd.read_pickle(\"../data/preprocessed/Y.pk\")"
   ]
  },
  {
   "cell_type": "code",
   "execution_count": 26,
   "id": "cee279dd-37b7-477e-b81e-1d2a91e45243",
   "metadata": {},
   "outputs": [
    {
     "data": {
      "text/plain": [
       "array([ 2041.,  2835., 65835.])"
      ]
     },
     "execution_count": 26,
     "metadata": {},
     "output_type": "execute_result"
    }
   ],
   "source": [
    "labels = dataset[:][1]\n",
    "labels.sum(axis=0)"
   ]
  },
  {
   "cell_type": "markdown",
   "id": "df4e3fec-72c9-4d27-afd6-80253eb4f5ed",
   "metadata": {},
   "source": [
    "# Load "
   ]
  },
  {
   "cell_type": "code",
   "execution_count": 119,
   "id": "5e88c0a5-91d2-4a57-b8f6-31d38508e99e",
   "metadata": {},
   "outputs": [],
   "source": [
    "class NeuralNet(nn.Module):\n",
    "    def __init__(self, input_size, hidden_size, num_classes):\n",
    "        super(NeuralNet, self).__init__()\n",
    "        self.fc1 = nn.Linear(input_size, hidden_size) \n",
    "        self.relu = nn.ReLU()\n",
    "        self.hid = nn.Linear(hidden_size, hidden_size) \n",
    "        self.hid2 = nn.Linear(hidden_size, hidden_size) \n",
    "        self.fc2 = nn.Linear(hidden_size, num_classes)  \n",
    "    \n",
    "    def forward(self, x):\n",
    "        out = self.fc1(x)\n",
    "        out = self.relu(out)\n",
    "        out = self.hid(out)\n",
    "        out = self.relu(out)\n",
    "        out = self.hid2(out)\n",
    "        out = self.relu(out)\n",
    "        out = self.fc2(out)\n",
    "        return out"
   ]
  },
  {
   "cell_type": "code",
   "execution_count": 120,
   "id": "f4b27bf4-ae96-474b-8b3f-38db4652941b",
   "metadata": {},
   "outputs": [
    {
     "data": {
      "text/plain": [
       "NeuralNet(\n",
       "  (fc1): Linear(in_features=42, out_features=512, bias=True)\n",
       "  (relu): ReLU()\n",
       "  (hid): Linear(in_features=512, out_features=512, bias=True)\n",
       "  (hid2): Linear(in_features=512, out_features=512, bias=True)\n",
       "  (fc2): Linear(in_features=512, out_features=3, bias=True)\n",
       ")"
      ]
     },
     "execution_count": 120,
     "metadata": {},
     "output_type": "execute_result"
    }
   ],
   "source": [
    "n_categories = 3\n",
    "n_features = 42\n",
    "learning_rate = 1e-5\n",
    "n_hidden = 512\n",
    "# n_layers = config_runtime['layers']\n",
    "\n",
    "\n",
    "model = NeuralNet(n_features,n_hidden,n_categories).to(device)\n",
    "model.load_state_dict(pt.load(\"../model/torch/model.pt\"))\n",
    "model.eval()"
   ]
  },
  {
   "cell_type": "markdown",
   "id": "3fd7936a-81fd-45f3-88a5-7abc8a50513e",
   "metadata": {},
   "source": [
    "# Test"
   ]
  },
  {
   "cell_type": "code",
   "execution_count": 121,
   "id": "e5d2d85b-1f53-4670-b569-70bd8b811911",
   "metadata": {},
   "outputs": [],
   "source": [
    "ids = [8,2100,20000, 3674,9867]"
   ]
  },
  {
   "cell_type": "code",
   "execution_count": 76,
   "id": "17f515e7-906f-49bb-a4b4-fa3b48a2665c",
   "metadata": {},
   "outputs": [],
   "source": [
    "scaler = joblib.load(\"../model/torch/scaler.save\") "
   ]
  },
  {
   "cell_type": "code",
   "execution_count": 78,
   "id": "0f3bea0d-c6ee-4655-9e73-1df99ca0ad4d",
   "metadata": {},
   "outputs": [],
   "source": [
    "X_mat = np.array(X_original.loc[:, X_original.columns != 'Id'].values,\n",
    "                 dtype=np.float32)\n",
    "X_mat = scaler.fit_transform(X_mat)"
   ]
  },
  {
   "cell_type": "code",
   "execution_count": 82,
   "id": "2416100c-7ffa-423c-a0fc-fd517ded9932",
   "metadata": {},
   "outputs": [],
   "source": [
    "# X_mat[13] dataset[13]"
   ]
  },
  {
   "cell_type": "code",
   "execution_count": 101,
   "id": "27b42feb-27da-48b9-92cc-05ee56cbcecc",
   "metadata": {},
   "outputs": [
    {
     "name": "stdout",
     "output_type": "stream",
     "text": [
      "(1, 70711, 42) (1, 46, 42)\n"
     ]
    }
   ],
   "source": [
    "print(X_mat[None, :].shape, dataset[13:59][0].shape)"
   ]
  },
  {
   "cell_type": "code",
   "execution_count": 122,
   "id": "47f4c58a-06d3-45f2-bc4e-93b9463db695",
   "metadata": {},
   "outputs": [],
   "source": [
    "X1 = dataset[ids][0]\n",
    "# X1 = X_mat[None, ids,:]\n",
    "treu_y = dataset[ids][1]\n",
    "X = pt.tensor(X1, device=device)\n",
    "# # X = torch.unsqueeze(X, dim=0)\n",
    "\n",
    "logits = model(X)\n",
    "pred_probab = nn.Softmax(dim=1)(logits)\n",
    "# y_pred = pred_probab.argmax(2)\n",
    "# print(f\"Predicted class: {y_pred}\")"
   ]
  },
  {
   "cell_type": "code",
   "execution_count": 123,
   "id": "09140776-0f0b-4cac-b174-b013042f618f",
   "metadata": {},
   "outputs": [
    {
     "data": {
      "text/plain": [
       "array([[1., 0., 0.],\n",
       "       [0., 1., 0.],\n",
       "       [0., 0., 1.],\n",
       "       [0., 1., 0.],\n",
       "       [0., 0., 1.]])"
      ]
     },
     "execution_count": 123,
     "metadata": {},
     "output_type": "execute_result"
    }
   ],
   "source": [
    "treu_y"
   ]
  },
  {
   "cell_type": "code",
   "execution_count": 124,
   "id": "838931c3-7e22-49a3-acf6-baa5a0694cc5",
   "metadata": {},
   "outputs": [
    {
     "data": {
      "text/plain": [
       "tensor([[[0.3569, 0.3597, 0.1007],\n",
       "         [0.1990, 0.1780, 0.1670],\n",
       "         [0.1108, 0.0838, 0.3021],\n",
       "         [0.2249, 0.2648, 0.1521],\n",
       "         [0.1085, 0.1137, 0.2781]]], device='cuda:0',\n",
       "       grad_fn=<SoftmaxBackward0>)"
      ]
     },
     "execution_count": 124,
     "metadata": {},
     "output_type": "execute_result"
    }
   ],
   "source": [
    "pred_probab"
   ]
  },
  {
   "cell_type": "code",
   "execution_count": 125,
   "id": "c16ac7aa-55b9-4754-a2d7-848a359fb93e",
   "metadata": {},
   "outputs": [
    {
     "data": {
      "text/plain": [
       "tensor([[1, 0, 2, 1, 2]])"
      ]
     },
     "execution_count": 125,
     "metadata": {},
     "output_type": "execute_result"
    }
   ],
   "source": [
    "pred_probab.argmax(2).cpu()"
   ]
  },
  {
   "cell_type": "markdown",
   "id": "bd8ac4cb-de1a-4724-91bb-e6ebb28b5045",
   "metadata": {},
   "source": [
    "# Real predictions\n"
   ]
  },
  {
   "cell_type": "code",
   "execution_count": 126,
   "id": "20db02f1-cb84-410f-b0a3-59aa777ec46f",
   "metadata": {},
   "outputs": [],
   "source": [
    "X_test = pd.read_pickle(\"../data/preprocessed/test.pk\")"
   ]
  },
  {
   "cell_type": "code",
   "execution_count": 127,
   "id": "35bb55de-120b-4831-96d4-3dda25a02e3e",
   "metadata": {},
   "outputs": [],
   "source": [
    "X_test_mat = np.array(X_test.loc[:, X_test.columns != 'Id'].values,\n",
    "                 dtype=np.float32)\n",
    "X_test_mat = scaler.fit_transform(X_test_mat)\n",
    "X_id = list(X_test.loc[:,'Id'])"
   ]
  },
  {
   "cell_type": "code",
   "execution_count": 131,
   "id": "2ef23d80-a3b3-4de0-8e5b-71a4fc1fbac1",
   "metadata": {},
   "outputs": [],
   "source": [
    "X = pt.tensor(X_test_mat[None, :,:], device=device)\n",
    "# # X = torch.unsqueeze(X, dim=0)\n",
    "\n",
    "logits = model(X)\n",
    "pred_probab = nn.Softmax(dim=1)(logits)"
   ]
  },
  {
   "cell_type": "code",
   "execution_count": 136,
   "id": "08e38c74-dd13-4dad-a26e-fb45d14b6047",
   "metadata": {},
   "outputs": [
    {
     "data": {
      "text/plain": [
       "tensor([[[-0.0708, -0.1973,  0.1632,  ...,  0.1958, -0.0197,  1.0612],\n",
       "         [-0.0708, -0.1973,  6.2304,  ...,  2.6953, -0.7196,  1.9774],\n",
       "         [ 8.4149, -0.1973,  2.4745,  ...,  0.6957,  1.3801, -1.6874],\n",
       "         ...,\n",
       "         [-0.0708, -0.1973,  1.3189,  ..., -0.3041,  0.6802, -0.3131],\n",
       "         [-0.0708, -0.1973,  1.8967,  ...,  0.1958, -0.0197, -0.7712],\n",
       "         [-0.0708, -0.1973, -0.7035,  ..., -0.3041, -0.7196,  0.6031]]],\n",
       "       device='cuda:0')"
      ]
     },
     "execution_count": 136,
     "metadata": {},
     "output_type": "execute_result"
    }
   ],
   "source": [
    "X"
   ]
  },
  {
   "cell_type": "code",
   "execution_count": 133,
   "id": "8b1e5731-4770-4165-95d5-05f5a1b8ab62",
   "metadata": {},
   "outputs": [
    {
     "data": {
      "text/plain": [
       "tensor([[[2.5525e-05, 2.6870e-05, 3.3730e-05],\n",
       "         [4.1668e-04, 6.2742e-05, 3.1555e-06],\n",
       "         [2.6150e-04, 1.1765e-04, 5.8290e-06],\n",
       "         ...,\n",
       "         [1.0146e-04, 7.5468e-05, 1.0910e-05],\n",
       "         [6.9153e-05, 6.0813e-05, 1.5180e-05],\n",
       "         [3.8105e-05, 3.4889e-05, 2.8269e-05]]], device='cuda:0',\n",
       "       grad_fn=<SoftmaxBackward0>)"
      ]
     },
     "execution_count": 133,
     "metadata": {},
     "output_type": "execute_result"
    }
   ],
   "source": [
    "pred_probab"
   ]
  },
  {
   "cell_type": "code",
   "execution_count": 142,
   "id": "a8de37f6-f07c-48c5-8e84-8b65f5fb0e5b",
   "metadata": {},
   "outputs": [],
   "source": [
    "vals = np.array(pred_probab.argmax(2).cpu())[0]"
   ]
  },
  {
   "cell_type": "code",
   "execution_count": 152,
   "id": "0b2c1e48-1342-4166-80f8-ba6482b5eb09",
   "metadata": {},
   "outputs": [
    {
     "data": {
      "text/plain": [
       "9329"
      ]
     },
     "execution_count": 152,
     "metadata": {},
     "output_type": "execute_result"
    }
   ],
   "source": [
    "np.sum(vals==0)"
   ]
  }
 ],
 "metadata": {
  "kernelspec": {
   "display_name": "Python 3 (ipykernel)",
   "language": "python",
   "name": "python3"
  },
  "language_info": {
   "codemirror_mode": {
    "name": "ipython",
    "version": 3
   },
   "file_extension": ".py",
   "mimetype": "text/x-python",
   "name": "python",
   "nbconvert_exporter": "python",
   "pygments_lexer": "ipython3",
   "version": "3.10.5"
  }
 },
 "nbformat": 4,
 "nbformat_minor": 5
}
