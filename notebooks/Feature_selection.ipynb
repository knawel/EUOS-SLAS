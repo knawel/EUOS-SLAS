{
 "cells": [
  {
   "cell_type": "code",
   "execution_count": 10,
   "id": "bd6e0b85-c340-41e1-a00a-07403c4ee1f3",
   "metadata": {},
   "outputs": [],
   "source": [
    "import pickle\n",
    "import pandas as pd\n",
    "from os.path import join\n",
    "import os\n",
    "import numpy as np\n",
    "# Sk learn\n",
    "from sklearn.preprocessing import StandardScaler\n",
    "from sklearn.metrics import f1_score, cohen_kappa_score\n",
    "from sklearn.pipeline import Pipeline\n",
    "from sklearn.model_selection import train_test_split\n"
   ]
  },
  {
   "cell_type": "code",
   "execution_count": 11,
   "id": "63dd898b-99bb-46fa-bfd5-ab2a018b34a2",
   "metadata": {},
   "outputs": [],
   "source": [
    "from sklearn.tree import DecisionTreeClassifier\n",
    "from sklearn.ensemble import RandomForestClassifier, AdaBoostClassifier, GradientBoostingClassifier"
   ]
  },
  {
   "cell_type": "code",
   "execution_count": 12,
   "id": "999376c1-bfa4-4306-b6e3-82b675318863",
   "metadata": {},
   "outputs": [],
   "source": [
    "from scipy.stats import ttest_ind"
   ]
  },
  {
   "cell_type": "code",
   "execution_count": 13,
   "id": "248103da-1d2b-4aea-9fac-46bdd6ed0d4c",
   "metadata": {},
   "outputs": [],
   "source": [
    "import seaborn as sns\n",
    "import matplotlib.pyplot as plt \n",
    "%matplotlib inline\n",
    "%config InlineBackend.figure_format =   'svg'\n",
    "\n",
    "CT_blue = '#4a79a5'\n",
    "CT_gray = '#848688'\n",
    "CT_pink = '#da6388'\n",
    "CT_orig = '#3c71a3'"
   ]
  },
  {
   "cell_type": "code",
   "execution_count": 66,
   "id": "891cc10f-e9e0-4bfc-9a08-7e4c44a16844",
   "metadata": {},
   "outputs": [],
   "source": [
    "data_folder = '../data/preprocessed/'\n",
    "X = pd.read_pickle(join(data_folder, \"X.pk.zip\"))\n",
    "y = pd.read_pickle(join(data_folder, \"Y.pk.zip\"))\n",
    "\n",
    "X_mat = X.values\n",
    "y_vec = y.values.flatten()\n",
    "X_train, X_test, y_train, y_test = train_test_split(X_mat, y_vec, test_size=0.2, random_state=123)"
   ]
  },
  {
   "cell_type": "code",
   "execution_count": 67,
   "id": "566f008f-64a9-455d-a136-a2e1920ca17a",
   "metadata": {},
   "outputs": [
    {
     "data": {
      "text/plain": [
       "(70711, 189)"
      ]
     },
     "execution_count": 67,
     "metadata": {},
     "output_type": "execute_result"
    }
   ],
   "source": [
    "X.shape"
   ]
  },
  {
   "cell_type": "code",
   "execution_count": 51,
   "id": "e550f1af-86a3-46ec-8769-aa1d5383811f",
   "metadata": {},
   "outputs": [],
   "source": [
    "# X"
   ]
  },
  {
   "cell_type": "markdown",
   "id": "5ef28ffc-56cb-4098-8e5d-cf2b496fa726",
   "metadata": {},
   "source": [
    "## Difference in values"
   ]
  },
  {
   "cell_type": "code",
   "execution_count": 68,
   "id": "fc213fe4-91ff-418e-a93d-c2a13b87657b",
   "metadata": {},
   "outputs": [],
   "source": [
    "m0 = y_vec < 0.9\n",
    "m1 = (y_vec > 0.9) * (y_vec < 1.1)\n",
    "m2 = y_vec > 1.9"
   ]
  },
  {
   "cell_type": "code",
   "execution_count": 33,
   "id": "65b7f803-eb18-4dcb-b10f-d0edff56ce01",
   "metadata": {},
   "outputs": [],
   "source": [
    "# X.columns[:10]"
   ]
  },
  {
   "cell_type": "code",
   "execution_count": 69,
   "id": "93c7a4b5-c798-477b-b254-ede77bfcfd45",
   "metadata": {},
   "outputs": [
    {
     "name": "stdout",
     "output_type": "stream",
     "text": [
      "descr\t0-1\t0-2\t1-2\n",
      "Weta3.unity\t-1.108\t 0.019\t-1.738\n",
      "FMF\t-1.704\t 0.008\t-2.794\n",
      "khs.sCH3\t 1.772\t 2.326\t 0.042\n",
      "khs.tCH\t 0.031\t 2.538\t-2.897\n",
      "khs.ssNH2\t-0.351\t-0.455\t 0.006\n",
      "khs.aaN\t-0.726\t 0.045\t-1.174\n",
      "khs.ssO\t 0.011\t 1.144\t-1.323\n",
      "khs.aaS\t 0.119\t 0.136\t 0.024\n",
      "khs.ddssS\t-0.027\t-0.579\t 0.640\n",
      "MOMI-XY\t-0.042\t 0.832\t-1.038\n",
      "nRings5\t 0.007\t-1.062\t 1.257\n"
     ]
    }
   ],
   "source": [
    "pvalt = 0.05\n",
    "print('descr\\t0-1\\t0-2\\t1-2')\n",
    "for i in X.columns:\n",
    "    par = i\n",
    "    res0 = ttest_ind(X.loc[m0, [par]], X.loc[m1, [par]])[0][0]\n",
    "    res1 = ttest_ind(X.loc[m0, [par]], X.loc[m2, [par]])[0][0]\n",
    "    res2 = ttest_ind(X.loc[m2, [par]], X.loc[m1, [par]])[0][0]\n",
    "    if (abs(res0) < pvalt) | (abs(res1) < pvalt) | (abs(res2) < pvalt) :\n",
    "        print(f'{i}\\t{res0:6.3f}\\t{res1:6.3f}\\t{res2:6.3f}')\n",
    "# res1 = ttest_ind(X.loc[m1, [par]], y[m1])[0][0]"
   ]
  },
  {
   "cell_type": "code",
   "execution_count": 54,
   "id": "19c31dcd-42ca-46e7-8f90-bbfe32e6e2b6",
   "metadata": {},
   "outputs": [
    {
     "data": {
      "text/plain": [
       "(0.014242191899012591, 0.02855601805445669, -0.01202994957471932)"
      ]
     },
     "execution_count": 54,
     "metadata": {},
     "output_type": "execute_result"
    }
   ],
   "source": [
    "res0, res1, res2"
   ]
  },
  {
   "cell_type": "markdown",
   "id": "db5d120c-a5e8-489f-a7e0-c492e5dd9509",
   "metadata": {},
   "source": [
    "## Classification"
   ]
  },
  {
   "cell_type": "code",
   "execution_count": 32,
   "id": "00dfbe90-76ca-46ff-af55-6f9d1ad9ca84",
   "metadata": {},
   "outputs": [],
   "source": [
    "# X"
   ]
  },
  {
   "cell_type": "code",
   "execution_count": 70,
   "id": "ab81eac3-b12f-4575-8907-bd7b331c9272",
   "metadata": {},
   "outputs": [],
   "source": [
    "scaler = StandardScaler()"
   ]
  },
  {
   "cell_type": "code",
   "execution_count": 71,
   "id": "3130b0f4-69d4-4496-a871-89d3f27eba5d",
   "metadata": {},
   "outputs": [],
   "source": [
    "scaler = scaler.fit(X_train)\n",
    "X_train_norm = scaler.transform(X_train)"
   ]
  },
  {
   "cell_type": "code",
   "execution_count": 72,
   "id": "e1f26792-fb9c-444e-a139-cce12cfad74a",
   "metadata": {},
   "outputs": [
    {
     "data": {
      "text/plain": [
       "(189,)"
      ]
     },
     "execution_count": 72,
     "metadata": {},
     "output_type": "execute_result"
    }
   ],
   "source": [
    "features = X.columns.values\n",
    "features.shape"
   ]
  },
  {
   "cell_type": "markdown",
   "id": "ffeb429a-266f-449e-a5c5-f9464c0cc490",
   "metadata": {},
   "source": [
    "### Random Forest"
   ]
  },
  {
   "cell_type": "code",
   "execution_count": 73,
   "id": "4321a3e2-77dd-4cb4-8bb9-43421798adde",
   "metadata": {},
   "outputs": [],
   "source": [
    "cl =  RandomForestClassifier(class_weight='balanced')\n",
    "pred = cl.fit(X_train_norm, y_train)"
   ]
  },
  {
   "cell_type": "code",
   "execution_count": 78,
   "id": "e0973b51-82c3-43d0-9e02-9e100168dbf3",
   "metadata": {},
   "outputs": [
    {
     "data": {
      "text/plain": [
       "array(['ALogP', 'ALogp2', 'Wlambda1.unity', 'Wnu1.unity', 'Weta2.unity',\n",
       "       'Weta3.unity', 'MOMI-XY', 'geomShape', 'XLogP'], dtype=object)"
      ]
     },
     "execution_count": 78,
     "metadata": {},
     "output_type": "execute_result"
    }
   ],
   "source": [
    "features[cl.feature_importances_ > 0.015]"
   ]
  },
  {
   "cell_type": "markdown",
   "id": "fa01bee0-f5db-4652-a3bc-d56638864b65",
   "metadata": {},
   "source": [
    "### Decision Tree"
   ]
  },
  {
   "cell_type": "code",
   "execution_count": 79,
   "id": "9a74caac-77e0-44d7-a8f3-528093ee2354",
   "metadata": {},
   "outputs": [],
   "source": [
    "cl = DecisionTreeClassifier(max_depth=8, class_weight='balanced')\n",
    "pred = cl.fit(X_train_norm, y_train)"
   ]
  },
  {
   "cell_type": "code",
   "execution_count": 80,
   "id": "c258d471-d807-4f91-8544-816c2355609c",
   "metadata": {},
   "outputs": [
    {
     "data": {
      "text/plain": [
       "array(['ALogp2', 'Wlambda1.unity', 'nAromBond', 'XLogP'], dtype=object)"
      ]
     },
     "execution_count": 80,
     "metadata": {},
     "output_type": "execute_result"
    }
   ],
   "source": [
    "features[cl.feature_importances_ > 0.05]"
   ]
  }
 ],
 "metadata": {
  "kernelspec": {
   "display_name": "Python 3 (ipykernel)",
   "language": "python",
   "name": "python3"
  },
  "language_info": {
   "codemirror_mode": {
    "name": "ipython",
    "version": 3
   },
   "file_extension": ".py",
   "mimetype": "text/x-python",
   "name": "python",
   "nbconvert_exporter": "python",
   "pygments_lexer": "ipython3",
   "version": "3.10.5"
  }
 },
 "nbformat": 4,
 "nbformat_minor": 5
}
