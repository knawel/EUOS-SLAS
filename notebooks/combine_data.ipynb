{
 "cells": [
  {
   "cell_type": "code",
   "execution_count": 1,
   "id": "f3ed8eed",
   "metadata": {},
   "outputs": [],
   "source": [
    "import pandas as pd\n",
    "import sys\n",
    "import os\n",
    "from os.path import join"
   ]
  },
  {
   "cell_type": "code",
   "execution_count": 15,
   "id": "d0ea434c-afe7-4a75-885a-0277a9ec684f",
   "metadata": {},
   "outputs": [],
   "source": [
    "feature_files = ['cdk_descr.csv', 'substr_count.csv']\n",
    "train_raw_file = \"../data/raw/train.csv\"\n",
    "test_raw_file = \"../data/raw/test.csv\"\n",
    "folder_put = \"../data/preprocessed/\""
   ]
  },
  {
   "cell_type": "markdown",
   "id": "696c02e5-21f5-4998-81cf-decc5184afb7",
   "metadata": {},
   "source": [
    "# read"
   ]
  },
  {
   "cell_type": "markdown",
   "id": "979d37f5-3318-4fc5-92b9-801a561ea220",
   "metadata": {},
   "source": [
    "## raw data"
   ]
  },
  {
   "cell_type": "code",
   "execution_count": 3,
   "id": "fea56c60-838a-403f-a97e-0f257357730c",
   "metadata": {},
   "outputs": [],
   "source": [
    "# names of specific columns\n",
    "y_column_name = \"sol_category\"\n",
    "# ID of examples is 'Id'\n",
    "\n",
    "train_raw_data = pd.read_csv(train_raw_file, index_col='Id')\n",
    "test_raw_data = pd.read_csv(test_raw_file, index_col='Id')\n",
    "# rename\n",
    "train_raw_data = train_raw_data.loc[:, [y_column_name]]\n",
    "train_raw_data.rename(columns={y_column_name: \"Y\"}, inplace=True)"
   ]
  },
  {
   "cell_type": "code",
   "execution_count": null,
   "id": "19cfd301-8893-4388-b474-594771f11483",
   "metadata": {},
   "outputs": [],
   "source": [
    "# test_raw_data"
   ]
  },
  {
   "cell_type": "markdown",
   "id": "406fe7dd-f3d2-4dd0-8901-88c3b6ba9ac7",
   "metadata": {},
   "source": [
    "## Read features"
   ]
  },
  {
   "cell_type": "code",
   "execution_count": 4,
   "id": "fe2f816f-e590-404d-8829-abec40d468fb",
   "metadata": {},
   "outputs": [
    {
     "name": "stdout",
     "output_type": "stream",
     "text": [
      "all good\n",
      "all good\n"
     ]
    }
   ],
   "source": [
    "features = []\n",
    "for f in feature_files:\n",
    "\n",
    "    dfile = join(\"../data/derived/\", f)\n",
    "    data = pd.read_csv(dfile)\n",
    "    data.dropna(axis=1, inplace=True)\n",
    "\n",
    "    if not('Id' in data.columns):\n",
    "        print('error')\n",
    "    else:\n",
    "        print('all good')\n",
    "    \n",
    "    features.append(data)\n"
   ]
  },
  {
   "cell_type": "code",
   "execution_count": 5,
   "id": "2ca66054-087c-4499-bc55-4e6754c25724",
   "metadata": {},
   "outputs": [
    {
     "name": "stdout",
     "output_type": "stream",
     "text": [
      "Data was imported \n"
     ]
    }
   ],
   "source": [
    "# combine\n",
    "df = features[0]\n",
    "for d in features[1:]:\n",
    "    df = pd.merge(df, d, on='Id')\n",
    "\n",
    "df.set_index('Id', inplace=True)\n",
    "if df.isnull().values.any():\n",
    "    sys.stdout.write(\"Merge failed\\n\")\n",
    "else:\n",
    "    sys.stdout.write(\"Data was imported \\n\")"
   ]
  },
  {
   "cell_type": "code",
   "execution_count": 6,
   "id": "c2c74987-37b3-47fd-a909-4a1c6c7afae0",
   "metadata": {},
   "outputs": [],
   "source": [
    "train_raw_data.sort_index(inplace=True)\n",
    "test_raw_data.sort_index(inplace=True)\n",
    "train_indx = list(train_raw_data.index)\n",
    "test_indx  = list(test_raw_data.index)"
   ]
  },
  {
   "cell_type": "code",
   "execution_count": 18,
   "id": "2304e5c4-11fa-4c72-86b6-0b25e41e6b3c",
   "metadata": {},
   "outputs": [],
   "source": [
    "# train_raw_data"
   ]
  },
  {
   "cell_type": "code",
   "execution_count": null,
   "id": "c875622a-870a-4768-a44f-003b0f6a0ab0",
   "metadata": {},
   "outputs": [],
   "source": []
  },
  {
   "cell_type": "code",
   "execution_count": 9,
   "id": "54b160bf-4558-4275-b382-de74a3f1d567",
   "metadata": {},
   "outputs": [],
   "source": [
    "train_data = df.loc[train_indx,:]\n",
    "test_data = df.loc[test_indx,:]\n"
   ]
  },
  {
   "cell_type": "code",
   "execution_count": 10,
   "id": "3cb2c07f",
   "metadata": {},
   "outputs": [],
   "source": [
    "\n",
    "\n",
    "# #Sort\n",
    "train_data.sort_index(inplace=True)\n",
    "test_data.sort_index(inplace=True)\n",
    "\n",
    "\n",
    "\n",
    "\n",
    "# check if the same Id for X and Y\n",
    "\n",
    "list_id_x = list(train_data.index)\n",
    "list_id_y = list(test_data.index)\n",
    "if (list_id_x == train_indx) and (list_id_y == test_indx):\n",
    "    sys.stdout.write(\"Data was splitted\\n\")\n",
    "else:\n",
    "    sys.stdout.write(\"errors with indexing\\n\")\n",
    "\n",
    "# # placeholder for memory reduction\n",
    "# df_train = data\n",
    "# df_train_y = data_y\n",
    "# df_test = data_test\n",
    "\n",
    "# sys.stdout.write(\"Data was prepared \\n\")"
   ]
  },
  {
   "cell_type": "code",
   "execution_count": 17,
   "id": "e5ee6df6",
   "metadata": {},
   "outputs": [
    {
     "name": "stdout",
     "output_type": "stream",
     "text": [
      "Data was saved in ../data/preprocessed/ \n"
     ]
    },
    {
     "data": {
      "text/plain": [
       "41"
      ]
     },
     "execution_count": 17,
     "metadata": {},
     "output_type": "execute_result"
    }
   ],
   "source": [
    "train_data.to_pickle(os.path.join(folder_put, \"X.pk\"))\n",
    "train_raw_data.to_pickle(os.path.join(folder_put, \"Y.pk\"))\n",
    "test_data.to_pickle(os.path.join(folder_put, \"test.pk\"))\n",
    "\n",
    "sys.stdout.write(f\"Data was saved in {folder_put} \\n\")"
   ]
  },
  {
   "cell_type": "code",
   "execution_count": null,
   "id": "6e84f671",
   "metadata": {},
   "outputs": [],
   "source": [
    "data_test_des"
   ]
  }
 ],
 "metadata": {
  "kernelspec": {
   "display_name": "Python 3 (ipykernel)",
   "language": "python",
   "name": "python3"
  },
  "language_info": {
   "codemirror_mode": {
    "name": "ipython",
    "version": 3
   },
   "file_extension": ".py",
   "mimetype": "text/x-python",
   "name": "python",
   "nbconvert_exporter": "python",
   "pygments_lexer": "ipython3",
   "version": "3.10.4"
  }
 },
 "nbformat": 4,
 "nbformat_minor": 5
}
