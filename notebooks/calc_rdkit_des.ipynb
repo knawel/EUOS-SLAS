{
 "cells": [
  {
   "cell_type": "code",
   "execution_count": 8,
   "id": "acf7d345",
   "metadata": {},
   "outputs": [],
   "source": [
    "from rdkit import Chem\n",
    "from rdkit.ML.Descriptors import MoleculeDescriptors\n",
    "import numpy as np\n",
    "import pandas as pd"
   ]
  },
  {
   "cell_type": "code",
   "execution_count": 2,
   "id": "84df44ec",
   "metadata": {},
   "outputs": [],
   "source": [
    "smi_file = \"../data/derived/test.smi\""
   ]
  },
  {
   "cell_type": "code",
   "execution_count": 3,
   "id": "858ac413",
   "metadata": {},
   "outputs": [],
   "source": [
    "smiles = []\n",
    "ind_names = []\n",
    "smiles_dict = {}\n",
    "with open(smi_file, 'r') as iFile:\n",
    "    for i, s in enumerate(iFile):\n",
    "        S = s.strip().split()\n",
    "        smiles.append([S[0], i])\n",
    "        ind_names.append(S[1])\n",
    "        smiles_dict[S[1]] = S[0]"
   ]
  },
  {
   "cell_type": "code",
   "execution_count": 4,
   "id": "4a4fe72e",
   "metadata": {},
   "outputs": [
    {
     "name": "stdout",
     "output_type": "stream",
     "text": [
      "30307 30307\n"
     ]
    }
   ],
   "source": [
    "print(len(smiles_dict), len(smiles))"
   ]
  },
  {
   "cell_type": "code",
   "execution_count": 5,
   "id": "6dadaeb0",
   "metadata": {},
   "outputs": [],
   "source": [
    "all_mols = []\n",
    "for i in list(smiles_dict):\n",
    "    m = Chem.MolFromSmiles(smiles_dict[i])\n",
    "    m.SetProp(\"_Name\",i)\n",
    "    all_mols.append(m)"
   ]
  },
  {
   "cell_type": "code",
   "execution_count": null,
   "id": "fd195b56",
   "metadata": {},
   "outputs": [],
   "source": []
  },
  {
   "cell_type": "code",
   "execution_count": 6,
   "id": "81160b6a",
   "metadata": {},
   "outputs": [
    {
     "data": {
      "image/png": "[encoded data removed]",
      "text/plain": [
       "<rdkit.Chem.rdchem.Mol at 0x7fb289f6b1c0>"
      ]
     },
     "execution_count": 6,
     "metadata": {},
     "output_type": "execute_result"
    }
   ],
   "source": [
    "# m = Chem.MolFromSmiles('C1OCCC1c1c(Br)nc(O)cc1CC(=O)OCc1cnoc1')\n",
    "m"
   ]
  },
  {
   "cell_type": "code",
   "execution_count": 7,
   "id": "e5d3748c-8616-434d-8fbb-61b2afbd2383",
   "metadata": {},
   "outputs": [
    {
     "ename": "NameError",
     "evalue": "name 'rdMolDescriptors' is not defined",
     "output_type": "error",
     "traceback": [
      "\u001b[0;31m---------------------------------------------------------------------------\u001b[0m",
      "\u001b[0;31mNameError\u001b[0m                                 Traceback (most recent call last)",
      "Input \u001b[0;32mIn [7]\u001b[0m, in \u001b[0;36m<cell line: 1>\u001b[0;34m()\u001b[0m\n\u001b[0;32m----> 1\u001b[0m descriptor_names \u001b[38;5;241m=\u001b[39m \u001b[38;5;28mlist\u001b[39m(\u001b[43mrdMolDescriptors\u001b[49m\u001b[38;5;241m.\u001b[39mProperties\u001b[38;5;241m.\u001b[39mGetAvailableProperties())\n\u001b[1;32m      3\u001b[0m get_descriptors \u001b[38;5;241m=\u001b[39m rdMolDescriptors\u001b[38;5;241m.\u001b[39mProperties(descriptor_names)\n",
      "\u001b[0;31mNameError\u001b[0m: name 'rdMolDescriptors' is not defined"
     ]
    }
   ],
   "source": [
    "descriptor_names = list(rdMolDescriptors.Properties.GetAvailableProperties())\n",
    "\n",
    "get_descriptors = rdMolDescriptors.Properties(descriptor_names)"
   ]
  },
  {
   "cell_type": "code",
   "execution_count": null,
   "id": "a82141d0-c1a2-4b9e-b289-e1fcdc0fa30c",
   "metadata": {},
   "outputs": [],
   "source": []
  },
  {
   "cell_type": "code",
   "execution_count": 99,
   "id": "73ef65e4",
   "metadata": {},
   "outputs": [],
   "source": [
    "df = pd.DataFrame({'Id':list(smiles_dict)})"
   ]
  },
  {
   "cell_type": "code",
   "execution_count": 100,
   "id": "c53fa4ec",
   "metadata": {},
   "outputs": [
    {
     "data": {
      "text/plain": [
       "(30307, 1)"
      ]
     },
     "execution_count": 100,
     "metadata": {},
     "output_type": "execute_result"
    }
   ],
   "source": [
    "df.shape"
   ]
  },
  {
   "cell_type": "code",
   "execution_count": 101,
   "id": "e711bdfd",
   "metadata": {},
   "outputs": [],
   "source": [
    "sub_mat = []\n",
    "\n",
    "for i, smart in enumerate(substr_list):\n",
    "    sub_id = f'sma_{i}'\n",
    "    sub_col = []\n",
    "    for m in all_mols:\n",
    "            bis = m.GetSubstructMatches(Chem.MolFromSmarts(smart))\n",
    "            sub_col.append(len(bis))\n",
    "    df[sub_id] = np.array(sub_col)\n",
    "\n"
   ]
  },
  {
   "cell_type": "code",
   "execution_count": 102,
   "id": "395f84b1",
   "metadata": {},
   "outputs": [
    {
     "data": {
      "text/plain": [
       "(30307, 28)"
      ]
     },
     "execution_count": 102,
     "metadata": {},
     "output_type": "execute_result"
    }
   ],
   "source": [
    "df.shape"
   ]
  },
  {
   "cell_type": "code",
   "execution_count": 103,
   "id": "0153fa58",
   "metadata": {},
   "outputs": [],
   "source": [
    "df.to_csv('test_substr.csv', index=False)"
   ]
  },
  {
   "cell_type": "code",
   "execution_count": null,
   "id": "065b26eb",
   "metadata": {},
   "outputs": [],
   "source": []
  }
 ],
 "metadata": {
  "kernelspec": {
   "display_name": "Python 3 (ipykernel)",
   "language": "python",
   "name": "python3"
  },
  "language_info": {
   "codemirror_mode": {
    "name": "ipython",
    "version": 3
   },
   "file_extension": ".py",
   "mimetype": "text/x-python",
   "name": "python",
   "nbconvert_exporter": "python",
   "pygments_lexer": "ipython3",
   "version": "3.10.4"
  }
 },
 "nbformat": 4,
 "nbformat_minor": 5
}
