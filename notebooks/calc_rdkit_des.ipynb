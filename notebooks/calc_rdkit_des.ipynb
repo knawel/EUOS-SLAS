{
 "cells": [
  {
   "cell_type": "code",
   "execution_count": 161,
   "id": "acf7d345",
   "metadata": {},
   "outputs": [],
   "source": [
    "from rdkit import Chem\n",
    "from rdkit.ML.Descriptors import MoleculeDescriptors\n",
    "from rdkit.ML.Descriptors.Descriptors import DescriptorCalculator\n",
    "import numpy as np\n",
    "import pandas as pd\n",
    "from tqdm import tqdm\n",
    "from rdkit import Chem\n",
    "from rdkit.Chem import AllChem, Descriptors\n",
    "\n",
    "from rdkit.ML.Descriptors.MoleculeDescriptors import MolecularDescriptorCalculator"
   ]
  },
  {
   "cell_type": "code",
   "execution_count": null,
   "id": "00b43b34-6d23-4347-a376-36a2b6382056",
   "metadata": {},
   "outputs": [],
   "source": [
    "chosen_descriptors = [\n",
    "    'BalabanJ', 'BertzCT', 'Chi0', 'Chi0n', 'Chi0v', 'Chi1', 'Chi1n', 'Chi1v', 'Chi2n', 'Chi2v',\n",
    "    'Chi3n', 'Chi3v', 'Chi4n', 'Chi4v', 'EState_VSA1', 'EState_VSA10', 'EState_VSA11', 'EState_VSA2',\n",
    "    'EState_VSA3', 'EState_VSA4', 'EState_VSA5', 'EState_VSA6', 'EState_VSA7', 'EState_VSA8',\n",
    "    'EState_VSA9', 'ExactMolWt', 'FpDensityMorgan1', 'FpDensityMorgan2', 'FpDensityMorgan3',\n",
    "    'FractionCSP3', 'HallKierAlpha', 'HeavyAtomCount', 'HeavyAtomMolWt', 'Ipc', 'Kappa1', 'Kappa2',\n",
    "    'Kappa3', 'LabuteASA', 'MaxAbsEStateIndex', 'MaxAbsPartialCharge', 'MaxEStateIndex', \n",
    "    'MaxPartialCharge', 'MinAbsEStateIndex', 'MinAbsPartialCharge', 'MinEStateIndex',\n",
    "    'MinPartialCharge', 'MolLogP', 'MolMR', 'MolWt', 'NHOHCount', 'NOCount', 'NumAliphaticCarbocycles',\n",
    "    'NumAliphaticHeterocycles', 'NumAliphaticRings', 'NumAromaticCarbocycles', 'NumAromaticHeterocycles',\n",
    "    'NumAromaticRings', 'NumHAcceptors', 'NumHDonors', 'NumHeteroatoms', 'NumRadicalElectrons',\n",
    "    'NumRotatableBonds', 'NumSaturatedCarbocycles', 'NumSaturatedHeterocycles', 'NumSaturatedRings',\n",
    "    'NumValenceElectrons', 'PEOE_VSA1', 'PEOE_VSA10', 'PEOE_VSA11', 'PEOE_VSA12', 'PEOE_VSA13', \n",
    "    'PEOE_VSA14', 'PEOE_VSA2', 'PEOE_VSA3', 'PEOE_VSA4', 'PEOE_VSA5', 'PEOE_VSA6', 'PEOE_VSA7',\n",
    "    'PEOE_VSA8', 'PEOE_VSA9', 'RingCount', 'SMR_VSA1', 'SMR_VSA10', 'SMR_VSA2', 'SMR_VSA3',\n",
    "    'SMR_VSA4', 'SMR_VSA5', 'SMR_VSA6', 'SMR_VSA7', 'SMR_VSA8', 'SMR_VSA9', 'SlogP_VSA1', \n",
    "    'SlogP_VSA10', 'SlogP_VSA11', 'SlogP_VSA12', 'SlogP_VSA2', 'SlogP_VSA3', 'SlogP_VSA4', \n",
    "    'SlogP_VSA5', 'SlogP_VSA6', 'SlogP_VSA7', 'SlogP_VSA8', 'SlogP_VSA9', 'TPSA', 'VSA_EState1',\n",
    "    'VSA_EState10', 'VSA_EState2', 'VSA_EState3', 'VSA_EState4', 'VSA_EState5', 'VSA_EState6',\n",
    "    'VSA_EState7', 'VSA_EState8', 'VSA_EState9', 'fr_Al_COO', 'fr_Al_OH', 'fr_Al_OH_noTert', \n",
    "    'fr_ArN', 'fr_Ar_COO', 'fr_Ar_N', 'fr_Ar_NH', 'fr_Ar_OH', 'fr_COO', 'fr_COO2', 'fr_C_O',\n",
    "    'fr_C_O_noCOO', 'fr_C_S', 'fr_HOCCN', 'fr_Imine', 'fr_NH0', 'fr_NH1', 'fr_NH2', 'fr_N_O',\n",
    "    'fr_Ndealkylation1', 'fr_Ndealkylation2', 'fr_Nhpyrrole', 'fr_SH', 'fr_aldehyde',\n",
    "    'fr_alkyl_carbamate', 'fr_alkyl_halide', 'fr_allylic_oxid', 'fr_amide', 'fr_amidine',\n",
    "    'fr_aniline', 'fr_aryl_methyl', 'fr_azide', 'fr_azo', 'fr_barbitur', 'fr_benzene',\n",
    "    'fr_benzodiazepine', 'fr_bicyclic', 'fr_diazo', 'fr_dihydropyridine', 'fr_epoxide',\n",
    "    'fr_ester', 'fr_ether', 'fr_furan', 'fr_guanido', 'fr_halogen', 'fr_hdrzine', 'fr_hdrzone',\n",
    "    'fr_imidazole', 'fr_imide', 'fr_isocyan', 'fr_isothiocyan', 'fr_ketone', 'fr_ketone_Topliss',\n",
    "    'fr_lactam', 'fr_lactone', 'fr_methoxy', 'fr_morpholine', 'fr_nitrile', 'fr_nitro',\n",
    "    'fr_nitro_arom', 'fr_nitro_arom_nonortho', 'fr_nitroso', 'fr_oxazole', 'fr_oxime',\n",
    "    'fr_para_hydroxylation', 'fr_phenol', 'fr_phenol_noOrthoHbond', 'fr_phos_acid',\n",
    "    'fr_phos_ester', 'fr_piperdine', 'fr_piperzine', 'fr_priamide', 'fr_prisulfonamd',\n",
    "    'fr_pyridine', 'fr_quatN', 'fr_sulfide', 'fr_sulfonamd', 'fr_sulfone', 'fr_term_acetylene',\n",
    " 'fr_tetrazole', 'fr_thiazole', 'fr_thiocyan', 'fr_thiophene', 'fr_unbrch_alkane', 'fr_urea', 'qed'\n",
    "]\n"
   ]
  },
  {
   "cell_type": "code",
   "execution_count": 160,
   "id": "2a0cd511-fad3-405b-bb66-93a5a415a6c6",
   "metadata": {},
   "outputs": [],
   "source": [
    "some_descriptors = [\n",
    "'ExactMolWt', 'FpDensityMorgan1', 'FpDensityMorgan2', 'FpDensityMorgan3',\n",
    "    'FractionCSP3', 'HallKierAlpha', 'HeavyAtomCount', 'HeavyAtomMolWt', 'Ipc', 'Kappa1', 'Kappa2',\n",
    "    'Kappa3', 'LabuteASA', 'MaxAbsEStateIndex', 'MaxAbsPartialCharge', 'MaxEStateIndex', \n",
    "    'MaxPartialCharge', 'MinAbsEStateIndex', 'MinAbsPartialCharge', 'MinEStateIndex',\n",
    "    'MinPartialCharge', 'MolLogP', 'MolMR', 'MolWt', 'NHOHCount', 'NOCount', 'NumAliphaticCarbocycles',\n",
    "    'NumAliphaticHeterocycles', 'NumAliphaticRings', 'NumAromaticCarbocycles', 'NumAromaticHeterocycles',\n",
    "    'NumAromaticRings', 'NumHAcceptors', 'NumHDonors', 'NumHeteroatoms', 'NumRadicalElectrons',\n",
    "    'NumRotatableBonds', 'NumSaturatedCarbocycles', 'NumSaturatedHeterocycles', 'NumSaturatedRings',\n",
    "    'NumValenceElectrons', 'RingCount', 'SlogP_VSA1', \n",
    "    'SlogP_VSA10', 'SlogP_VSA11', 'SlogP_VSA12', 'SlogP_VSA2', 'SlogP_VSA3', 'SlogP_VSA4', \n",
    "    'SlogP_VSA5', 'SlogP_VSA6', 'SlogP_VSA7', 'SlogP_VSA8', 'SlogP_VSA9', 'TPSA', 'VSA_EState1',\n",
    "    'VSA_EState10', 'VSA_EState2', 'VSA_EState3', 'VSA_EState4', 'VSA_EState5', 'VSA_EState6',\n",
    "    'VSA_EState7', 'VSA_EState8', 'VSA_EState9'\n",
    "]\n"
   ]
  },
  {
   "cell_type": "markdown",
   "id": "9dbd01d6-91cc-49ab-b59c-6e6798f43c75",
   "metadata": {},
   "source": [
    "# Read"
   ]
  },
  {
   "cell_type": "markdown",
   "id": "1dbb5c2c-c11a-473d-a4b0-955488359f6d",
   "metadata": {},
   "source": [
    "## SMILES"
   ]
  },
  {
   "cell_type": "code",
   "execution_count": 13,
   "id": "858ac413",
   "metadata": {},
   "outputs": [],
   "source": [
    "smi_file = \"../data/derived/compounds_desalt.smi\"\n",
    "smiles = []\n",
    "ind_names = []\n",
    "smiles_dict = {}\n",
    "with open(smi_file, 'r') as iFile:\n",
    "    for i, s in enumerate(iFile):\n",
    "        S = s.strip().split()\n",
    "        smiles.append([S[0], i])\n",
    "        ind_names.append(S[1])\n",
    "        smiles_dict[S[1]] = S[0]\n",
    "print(len(smiles_dict), len(smiles))\n",
    "all_mols = []\n",
    "for i in tqdm(list(smiles_dict)):\n",
    "    m = Chem.MolFromSmiles(smiles_dict[i])\n",
    "    m.SetProp(\"_Name\",i)\n",
    "    all_mols.append(m)"
   ]
  },
  {
   "cell_type": "markdown",
   "id": "7fe7234e-4e11-4567-b31d-012e775f243d",
   "metadata": {},
   "source": [
    "## SDF"
   ]
  },
  {
   "cell_type": "code",
   "execution_count": 145,
   "id": "6dadaeb0",
   "metadata": {},
   "outputs": [],
   "source": [
    "suppl = Chem.SDMolSupplier('../data/derived/compounds_desalt_3d.sdf')"
   ]
  },
  {
   "cell_type": "code",
   "execution_count": 148,
   "id": "fa38ccdc-7236-4e80-bb0d-f5e2a37e60ec",
   "metadata": {},
   "outputs": [],
   "source": [
    "mols = [x for x in suppl]\n"
   ]
  },
  {
   "cell_type": "code",
   "execution_count": 155,
   "id": "495096ea-12e9-4147-924e-b3107f6f0d01",
   "metadata": {},
   "outputs": [
    {
     "name": "stdout",
     "output_type": "stream",
     "text": [
      "101018\n"
     ]
    }
   ],
   "source": [
    "print(len(mols))\n",
    "m  = mols[-122]"
   ]
  },
  {
   "cell_type": "markdown",
   "id": "9b926ef4-7962-449f-b2f5-f1a58584e19c",
   "metadata": {
    "tags": []
   },
   "source": [
    "# Trials"
   ]
  },
  {
   "cell_type": "code",
   "execution_count": 156,
   "id": "81160b6a",
   "metadata": {},
   "outputs": [
    {
     "data": {
      "image/png": "[encoded data removed]",
      "text/html": [
       "<table><tr><td colspan=2 style=\"text-align:center\"><image src=\"data:image/png;base64,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\"></td></tr>\n",
       "<tr><th style=\"text-align:right\">energy</th><td style=\"text-align:left\">41.30726992561968</td></tr></table>"
      ],
      "text/plain": [
       "<rdkit.Chem.rdchem.Mol at 0x7fb27defc7c0>"
      ]
     },
     "execution_count": 156,
     "metadata": {},
     "output_type": "execute_result"
    }
   ],
   "source": [
    "# m = Chem.MolFromSmiles('C1OCCC1c1c(Br)nc(O)cc1CC(=O)OCc1cnoc1')\n",
    "m"
   ]
  },
  {
   "cell_type": "code",
   "execution_count": 34,
   "id": "065b26eb",
   "metadata": {},
   "outputs": [
    {
     "data": {
      "image/png": "[encoded data removed]",
      "text/plain": [
       "<rdkit.Chem.rdchem.Mol at 0x7fb286d51a20>"
      ]
     },
     "execution_count": 34,
     "metadata": {},
     "output_type": "execute_result"
    }
   ],
   "source": [
    "m2=Chem.AddHs(m)\n",
    "m2"
   ]
  },
  {
   "cell_type": "code",
   "execution_count": 36,
   "id": "6e20f287-86e6-4bb0-9d3f-ea9b53c434f9",
   "metadata": {},
   "outputs": [
    {
     "data": {
      "text/plain": [
       "0"
      ]
     },
     "execution_count": 36,
     "metadata": {},
     "output_type": "execute_result"
    }
   ],
   "source": [
    "AllChem.EmbedMolecule(m2)\n",
    "AllChem.MMFFOptimizeMolecule(m2)"
   ]
  },
  {
   "cell_type": "code",
   "execution_count": 37,
   "id": "914891dd-610b-40ca-b17f-35184c34393e",
   "metadata": {},
   "outputs": [
    {
     "data": {
      "text/plain": [
       "1"
      ]
     },
     "execution_count": 37,
     "metadata": {},
     "output_type": "execute_result"
    }
   ],
   "source": []
  },
  {
   "cell_type": "code",
   "execution_count": 38,
   "id": "6a2372d8-8c5b-4570-9545-ff488c49e04d",
   "metadata": {},
   "outputs": [
    {
     "data": {
      "image/png": "[encoded data removed]",
      "text/plain": [
       "<rdkit.Chem.rdchem.Mol at 0x7fb286d51a20>"
      ]
     },
     "execution_count": 38,
     "metadata": {},
     "output_type": "execute_result"
    }
   ],
   "source": [
    "m2"
   ]
  },
  {
   "cell_type": "code",
   "execution_count": 40,
   "id": "40d7ee3f-d664-468f-a1c3-2b6d3ccc42d4",
   "metadata": {},
   "outputs": [],
   "source": [
    "from rdkit.Chem import Descriptors\n",
    "from rdkit.Chem import rdMolDescriptors"
   ]
  },
  {
   "cell_type": "code",
   "execution_count": 94,
   "id": "ad98b914-85e5-4ea9-9193-f905baf03c8e",
   "metadata": {},
   "outputs": [],
   "source": [
    "chosen_descriptors = [\n",
    "    'BalabanJ', 'BertzCT', 'Chi0', 'Chi0n', 'Chi0v', 'Chi1', 'Chi1n', 'Chi1v', 'Chi2n', 'Chi2v',\n",
    "    'Chi3n', 'Chi3v', 'Chi4n', 'Chi4v', 'EState_VSA1', 'EState_VSA10', 'EState_VSA11', 'EState_VSA2',\n",
    "    'EState_VSA3', 'EState_VSA4', 'EState_VSA5', 'EState_VSA6', 'EState_VSA7', 'EState_VSA8',\n",
    "    'EState_VSA9', 'ExactMolWt', 'FpDensityMorgan1', 'FpDensityMorgan2', 'FpDensityMorgan3',\n",
    "    'FractionCSP3', 'HallKierAlpha', 'HeavyAtomCount', 'HeavyAtomMolWt', 'Ipc', 'Kappa1', 'Kappa2',\n",
    "    'Kappa3', 'LabuteASA', 'MaxAbsEStateIndex', 'MaxAbsPartialCharge', 'MaxEStateIndex', \n",
    "    'MaxPartialCharge', 'MinAbsEStateIndex', 'MinAbsPartialCharge', 'MinEStateIndex',\n",
    "    'MinPartialCharge', 'MolLogP', 'MolMR', 'MolWt', 'NHOHCount', 'NOCount', 'NumAliphaticCarbocycles',\n",
    "    'NumAliphaticHeterocycles', 'NumAliphaticRings', 'NumAromaticCarbocycles', 'NumAromaticHeterocycles',\n",
    "    'NumAromaticRings', 'NumHAcceptors', 'NumHDonors', 'NumHeteroatoms', 'NumRadicalElectrons',\n",
    "    'NumRotatableBonds', 'NumSaturatedCarbocycles', 'NumSaturatedHeterocycles', 'NumSaturatedRings',\n",
    "    'NumValenceElectrons', 'PEOE_VSA1', 'PEOE_VSA10', 'PEOE_VSA11', 'PEOE_VSA12', 'PEOE_VSA13', \n",
    "    'PEOE_VSA14', 'PEOE_VSA2', 'PEOE_VSA3', 'PEOE_VSA4', 'PEOE_VSA5', 'PEOE_VSA6', 'PEOE_VSA7',\n",
    "    'PEOE_VSA8', 'PEOE_VSA9', 'RingCount', 'SMR_VSA1', 'SMR_VSA10', 'SMR_VSA2', 'SMR_VSA3',\n",
    "    'SMR_VSA4', 'SMR_VSA5', 'SMR_VSA6', 'SMR_VSA7', 'SMR_VSA8', 'SMR_VSA9', 'SlogP_VSA1', \n",
    "    'SlogP_VSA10', 'SlogP_VSA11', 'SlogP_VSA12', 'SlogP_VSA2', 'SlogP_VSA3', 'SlogP_VSA4', \n",
    "    'SlogP_VSA5', 'SlogP_VSA6', 'SlogP_VSA7', 'SlogP_VSA8', 'SlogP_VSA9', 'TPSA', 'VSA_EState1',\n",
    "    'VSA_EState10', 'VSA_EState2', 'VSA_EState3', 'VSA_EState4', 'VSA_EState5', 'VSA_EState6',\n",
    "    'VSA_EState7', 'VSA_EState8', 'VSA_EState9', 'fr_Al_COO', 'fr_Al_OH', 'fr_Al_OH_noTert', \n",
    "    'fr_ArN', 'fr_Ar_COO', 'fr_Ar_N', 'fr_Ar_NH', 'fr_Ar_OH', 'fr_COO', 'fr_COO2', 'fr_C_O',\n",
    "    'fr_C_O_noCOO', 'fr_C_S', 'fr_HOCCN', 'fr_Imine', 'fr_NH0', 'fr_NH1', 'fr_NH2', 'fr_N_O',\n",
    "    'fr_Ndealkylation1', 'fr_Ndealkylation2', 'fr_Nhpyrrole', 'fr_SH', 'fr_aldehyde',\n",
    "    'fr_alkyl_carbamate', 'fr_alkyl_halide', 'fr_allylic_oxid', 'fr_amide', 'fr_amidine',\n",
    "    'fr_aniline', 'fr_aryl_methyl', 'fr_azide', 'fr_azo', 'fr_barbitur', 'fr_benzene',\n",
    "    'fr_benzodiazepine', 'fr_bicyclic', 'fr_diazo', 'fr_dihydropyridine', 'fr_epoxide',\n",
    "    'fr_ester', 'fr_ether', 'fr_furan', 'fr_guanido', 'fr_halogen', 'fr_hdrzine', 'fr_hdrzone',\n",
    "    'fr_imidazole', 'fr_imide', 'fr_isocyan', 'fr_isothiocyan', 'fr_ketone', 'fr_ketone_Topliss',\n",
    "    'fr_lactam', 'fr_lactone', 'fr_methoxy', 'fr_morpholine', 'fr_nitrile', 'fr_nitro',\n",
    "    'fr_nitro_arom', 'fr_nitro_arom_nonortho', 'fr_nitroso', 'fr_oxazole', 'fr_oxime',\n",
    "    'fr_para_hydroxylation', 'fr_phenol', 'fr_phenol_noOrthoHbond', 'fr_phos_acid',\n",
    "    'fr_phos_ester', 'fr_piperdine', 'fr_piperzine', 'fr_priamide', 'fr_prisulfonamd',\n",
    "    'fr_pyridine', 'fr_quatN', 'fr_sulfide', 'fr_sulfonamd', 'fr_sulfone', 'fr_term_acetylene',\n",
    " 'fr_tetrazole', 'fr_thiazole', 'fr_thiocyan', 'fr_thiophene', 'fr_unbrch_alkane', 'fr_urea', 'qed'\n",
    "]\n"
   ]
  },
  {
   "cell_type": "code",
   "execution_count": null,
   "id": "bafab0cb-d44a-4b54-a7b8-56b793f86f1c",
   "metadata": {},
   "outputs": [],
   "source": []
  },
  {
   "cell_type": "code",
   "execution_count": null,
   "id": "5a66099f-9f80-4ca1-9b6b-42c2db5b5942",
   "metadata": {},
   "outputs": [],
   "source": []
  },
  {
   "cell_type": "code",
   "execution_count": 76,
   "id": "45f14925-bdd0-4b05-9720-0d544758c922",
   "metadata": {},
   "outputs": [],
   "source": [
    "# Descriptors.MinAbsPartialCharge(m)\n",
    "# rdMolDescriptors.CalcFractionCSP3(all_mols[3])\n",
    "# Descriptors.rdMolDescriptors.CalcCrippenDescriptors(all_mols[3])\n",
    "\n",
    "# create molecular descriptor calculator\n",
    "\n"
   ]
  },
  {
   "cell_type": "code",
   "execution_count": 84,
   "id": "ffee04b0-6f20-4e53-9574-29cd4da19cd6",
   "metadata": {},
   "outputs": [],
   "source": [
    "smi_based = np.array(list(mol_descriptor_calculator.CalcDescriptors(m)))\n",
    "\n",
    "ff_based = np.array(list(mol_descriptor_calculator.CalcDescriptors(m2)))"
   ]
  },
  {
   "cell_type": "code",
   "execution_count": 92,
   "id": "1571d6ea-869a-49c8-83f0-e5aa23a045b2",
   "metadata": {},
   "outputs": [],
   "source": [
    "mask = np.abs((smi_based - ff_based)/(ff_based+0.01)) > 0.2"
   ]
  },
  {
   "cell_type": "code",
   "execution_count": 93,
   "id": "44cf4e19-373a-4fc5-95bc-7a8d95d7d507",
   "metadata": {},
   "outputs": [
    {
     "data": {
      "text/plain": [
       "array(['BalabanJ', 'BertzCT', 'Chi0', 'Chi0n', 'Chi0v', 'Chi1', 'Chi1n',\n",
       "       'Chi1v', 'Chi2n', 'Chi2v', 'Chi3n', 'Chi3v', 'Chi4n', 'Chi4v',\n",
       "       'EState_VSA1', 'EState_VSA2', 'EState_VSA3', 'EState_VSA4',\n",
       "       'EState_VSA6', 'EState_VSA7', 'EState_VSA8', 'EState_VSA9', 'Ipc',\n",
       "       'Kappa1', 'MinAbsEStateIndex', 'MinEStateIndex',\n",
       "       'NumRotatableBonds', 'PEOE_VSA11', 'PEOE_VSA9', 'SMR_VSA1',\n",
       "       'SlogP_VSA5', 'SlogP_VSA7', 'VSA_EState1', 'VSA_EState2',\n",
       "       'VSA_EState3', 'VSA_EState4', 'VSA_EState5', 'VSA_EState6',\n",
       "       'VSA_EState8', 'VSA_EState9'], dtype='<U24')"
      ]
     },
     "execution_count": 93,
     "metadata": {},
     "output_type": "execute_result"
    }
   ],
   "source": [
    "np.array(chosen_descriptors)[mask]"
   ]
  },
  {
   "cell_type": "code",
   "execution_count": 164,
   "id": "7dd7648b-e6c8-4e4e-86e4-c4c4a289d794",
   "metadata": {},
   "outputs": [],
   "source": [
    "from rdkit.Chem import Descriptors3D "
   ]
  },
  {
   "cell_type": "code",
   "execution_count": 173,
   "id": "3824bd66-829b-41b4-ada1-c3894b2e42c7",
   "metadata": {},
   "outputs": [
    {
     "data": {
      "text/plain": [
       "[-0.48669210711907757,\n",
       " 0.4459014050316848,\n",
       " 0.17432060863163903,\n",
       " 0.09487810758513822,\n",
       " -0.1928889728215644,\n",
       " 1.7593844452462053,\n",
       " -0.7596227156678086,\n",
       " -0.7806651678463541,\n",
       " -0.15360405702718608,\n",
       " -0.28741905329643636,\n",
       " -0.3642508441774166,\n",
       " 0.1846778377771272,\n",
       " 0.06691576638150175,\n",
       " 0.021814933192089946,\n",
       " -0.013562185031219457,\n",
       " 0.019565974133514734,\n",
       " 0.07055516999145969,\n",
       " 0.06680329895009536,\n",
       " -0.23470419516986935,\n",
       " 1.9413147767393457,\n",
       " -0.7929656523541619,\n",
       " -0.8273447801463525,\n",
       " -0.6177527784474159,\n",
       " 0.19232355735521586,\n",
       " 0.1591778901706453,\n",
       " -0.4257287060808825,\n",
       " 0.18583800033629558,\n",
       " 0.2256204374437061,\n",
       " 0.157711308961033,\n",
       " -0.022315466789723577,\n",
       " 0.013693338251351082,\n",
       " 0.005697274629477061,\n",
       " 0.012771097794954707,\n",
       " -0.07764090486203533,\n",
       " 0.11173232044018114,\n",
       " 0.06942395088817402,\n",
       " 0.057036086906669205]"
      ]
     },
     "execution_count": 173,
     "metadata": {},
     "output_type": "execute_result"
    }
   ],
   "source": [
    "rdMolDescriptors.CalcEEMcharges(m)"
   ]
  },
  {
   "cell_type": "markdown",
   "id": "efad8898-a009-428a-9fd2-c896cc500db2",
   "metadata": {},
   "source": [
    "# Compute descriptors"
   ]
  },
  {
   "cell_type": "markdown",
   "id": "9f6d0360-ceac-4c53-ab11-0fd452efa11c",
   "metadata": {
    "tags": []
   },
   "source": [
    "## Generate 3D"
   ]
  },
  {
   "cell_type": "code",
   "execution_count": 157,
   "id": "b9ecb1ed-7807-4b6a-a254-ef9b1bd057cc",
   "metadata": {},
   "outputs": [
    {
     "name": "stderr",
     "output_type": "stream",
     "text": [
      "  0%|          | 5/101018 [00:00<1:51:33, 15.09it/s][22:44:21] UFFTYPER: Unrecognized atom type: V_3 (1)\n",
      "  0%|          | 468/101018 [00:47<2:51:46,  9.76it/s]\n"
     ]
    },
    {
     "ename": "KeyboardInterrupt",
     "evalue": "",
     "output_type": "error",
     "traceback": [
      "\u001b[0;31m---------------------------------------------------------------------------\u001b[0m",
      "\u001b[0;31mKeyboardInterrupt\u001b[0m                         Traceback (most recent call last)",
      "Input \u001b[0;32mIn [157]\u001b[0m, in \u001b[0;36m<cell line: 3>\u001b[0;34m()\u001b[0m\n\u001b[1;32m      5\u001b[0m AllChem\u001b[38;5;241m.\u001b[39mEmbedMolecule(m2)\n\u001b[1;32m      6\u001b[0m \u001b[38;5;66;03m# AllChem.MMFFOptimizeMolecule(m2)\u001b[39;00m\n\u001b[0;32m----> 7\u001b[0m \u001b[43mAllChem\u001b[49m\u001b[38;5;241;43m.\u001b[39;49m\u001b[43mMMFFOptimizeMoleculeConfs\u001b[49m\u001b[43m(\u001b[49m\u001b[43mm2\u001b[49m\u001b[43m,\u001b[49m\u001b[43m \u001b[49m\u001b[43mnumThreads\u001b[49m\u001b[38;5;241;43m=\u001b[39;49m\u001b[38;5;241;43m0\u001b[39;49m\u001b[43m)\u001b[49m\n\u001b[1;32m      8\u001b[0m all_mols_modif\u001b[38;5;241m.\u001b[39mappend(m2)\n",
      "\u001b[0;31mKeyboardInterrupt\u001b[0m: "
     ]
    }
   ],
   "source": [
    "# TODO it later \n",
    "all_mols_modif = []\n",
    "for m in tqdm(mols):\n",
    "    m2 = Chem.AddHs(m)\n",
    "    AllChem.EmbedMolecule(m2)\n",
    "    # AllChem.MMFFOptimizeMolecule(m2)\n",
    "    AllChem.MMFFOptimizeMoleculeConfs(m2, numThreads=0)\n",
    "    all_mols_modif.append(m2)"
   ]
  },
  {
   "cell_type": "code",
   "execution_count": 158,
   "id": "5c2f750d-7ea3-442d-b3fc-74908a17a8d9",
   "metadata": {},
   "outputs": [
    {
     "data": {
      "image/png": "[encoded data removed]",
      "text/html": [
       "<table><tr><td colspan=2 style=\"text-align:center\"><image src=\"data:image/png;base64,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\"></td></tr>\n",
       "<tr><th style=\"text-align:right\">energy</th><td style=\"text-align:left\">104.03280990715665</td></tr></table>"
      ],
      "text/plain": [
       "<rdkit.Chem.rdchem.Mol at 0x7fb22e013f40>"
      ]
     },
     "execution_count": 158,
     "metadata": {},
     "output_type": "execute_result"
    }
   ],
   "source": [
    "all_mols_modif[50]"
   ]
  },
  {
   "cell_type": "markdown",
   "id": "c35e22e4-3007-44b5-a1f4-6cbf4474e738",
   "metadata": {},
   "source": [
    "## Calc descr"
   ]
  },
  {
   "cell_type": "code",
   "execution_count": 162,
   "id": "3d8a9ee6-f416-415e-a4f7-1cac635b259f",
   "metadata": {},
   "outputs": [
    {
     "name": "stderr",
     "output_type": "stream",
     "text": [
      "100%|██████████| 101018/101018 [04:58<00:00, 338.93it/s]\n"
     ]
    }
   ],
   "source": [
    "mol_descriptor_calculator = MolecularDescriptorCalculator(some_descriptors)\n",
    "all_des = []\n",
    "\n",
    "for m in tqdm(mols):\n",
    "    d = list(mol_descriptor_calculator.CalcDescriptors(m))\n",
    "    all_des.append(d)\n",
    "all_des = np.array(all_des)"
   ]
  },
  {
   "cell_type": "code",
   "execution_count": 175,
   "id": "176565d3-90e9-4409-bec0-b11512450c46",
   "metadata": {},
   "outputs": [],
   "source": [
    "df_des = pd.DataFrame(all_des)\n",
    "df_des.columns = some_descriptors"
   ]
  },
  {
   "cell_type": "code",
   "execution_count": 176,
   "id": "6f01b3cb-83a3-4e60-bead-798dbb7d8f96",
   "metadata": {},
   "outputs": [
    {
     "data": {
      "text/plain": [
       "(101018, 65)"
      ]
     },
     "execution_count": 176,
     "metadata": {},
     "output_type": "execute_result"
    }
   ],
   "source": [
    "df_des.shape"
   ]
  },
  {
   "cell_type": "code",
   "execution_count": 136,
   "id": "d3c5bb4b-fc05-4df5-85f1-93a3fe86ce2f",
   "metadata": {},
   "outputs": [],
   "source": [
    "# ind_names"
   ]
  },
  {
   "cell_type": "code",
   "execution_count": 177,
   "id": "bdecd984-9337-44d9-8375-2ce53843fa87",
   "metadata": {},
   "outputs": [],
   "source": [
    "df_des.dropna(axis=1, inplace=True)\n",
    "df_des['Id'] = ind_names"
   ]
  },
  {
   "cell_type": "code",
   "execution_count": 178,
   "id": "3d8bbfcd-ae14-466d-8784-ce249900e6f0",
   "metadata": {},
   "outputs": [],
   "source": [
    "df_des.to_csv('../data/derived/rdkit_3d_des.csv', index=False)\n"
   ]
  }
 ],
 "metadata": {
  "kernelspec": {
   "display_name": "Python 3 (ipykernel)",
   "language": "python",
   "name": "python3"
  },
  "language_info": {
   "codemirror_mode": {
    "name": "ipython",
    "version": 3
   },
   "file_extension": ".py",
   "mimetype": "text/x-python",
   "name": "python",
   "nbconvert_exporter": "python",
   "pygments_lexer": "ipython3",
   "version": "3.10.4"
  }
 },
 "nbformat": 4,
 "nbformat_minor": 5
}
