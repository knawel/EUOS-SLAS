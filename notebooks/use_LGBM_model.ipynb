{
 "cells": [
  {
   "cell_type": "code",
   "execution_count": 10,
   "id": "08b08f47-1977-4fe8-b9d7-b8e591b9ffc4",
   "metadata": {},
   "outputs": [],
   "source": [
    "import pickle\n",
    "from os.path import join\n",
    "import pandas as pd\n",
    "import numpy as np\n",
    "from sklearn.metrics import confusion_matrix\n"
   ]
  },
  {
   "cell_type": "code",
   "execution_count": 23,
   "id": "3ab667a0-5c43-43c6-9a95-99e370bad982",
   "metadata": {},
   "outputs": [],
   "source": [
    "# PLOT\n",
    "import matplotlib as mpl\n",
    "import matplotlib.pyplot as plt\n",
    "import seaborn as sns"
   ]
  },
  {
   "cell_type": "code",
   "execution_count": 11,
   "id": "293478d9-d0ab-4acd-825c-bde09a10aed8",
   "metadata": {},
   "outputs": [],
   "source": [
    "with open('../model/LightGBM/model.pickle', 'rb') as handle:\n",
    "    model = pickle.load(handle)"
   ]
  },
  {
   "cell_type": "code",
   "execution_count": 12,
   "id": "61f65ee1-0935-4171-8a5d-fea56bd94ad6",
   "metadata": {},
   "outputs": [],
   "source": [
    "scaler = model[0]\n",
    "lgb = model[1]"
   ]
  },
  {
   "cell_type": "code",
   "execution_count": 14,
   "id": "992912d6-6e76-4d32-a4ea-853d3e9401cd",
   "metadata": {},
   "outputs": [
    {
     "data": {
      "text/html": [
       "<style>#sk-container-id-1 {color: black;background-color: white;}#sk-container-id-1 pre{padding: 0;}#sk-container-id-1 div.sk-toggleable {background-color: white;}#sk-container-id-1 label.sk-toggleable__label {cursor: pointer;display: block;width: 100%;margin-bottom: 0;padding: 0.3em;box-sizing: border-box;text-align: center;}#sk-container-id-1 label.sk-toggleable__label-arrow:before {content: \"▸\";float: left;margin-right: 0.25em;color: #696969;}#sk-container-id-1 label.sk-toggleable__label-arrow:hover:before {color: black;}#sk-container-id-1 div.sk-estimator:hover label.sk-toggleable__label-arrow:before {color: black;}#sk-container-id-1 div.sk-toggleable__content {max-height: 0;max-width: 0;overflow: hidden;text-align: left;background-color: #f0f8ff;}#sk-container-id-1 div.sk-toggleable__content pre {margin: 0.2em;color: black;border-radius: 0.25em;background-color: #f0f8ff;}#sk-container-id-1 input.sk-toggleable__control:checked~div.sk-toggleable__content {max-height: 200px;max-width: 100%;overflow: auto;}#sk-container-id-1 input.sk-toggleable__control:checked~label.sk-toggleable__label-arrow:before {content: \"▾\";}#sk-container-id-1 div.sk-estimator input.sk-toggleable__control:checked~label.sk-toggleable__label {background-color: #d4ebff;}#sk-container-id-1 div.sk-label input.sk-toggleable__control:checked~label.sk-toggleable__label {background-color: #d4ebff;}#sk-container-id-1 input.sk-hidden--visually {border: 0;clip: rect(1px 1px 1px 1px);clip: rect(1px, 1px, 1px, 1px);height: 1px;margin: -1px;overflow: hidden;padding: 0;position: absolute;width: 1px;}#sk-container-id-1 div.sk-estimator {font-family: monospace;background-color: #f0f8ff;border: 1px dotted black;border-radius: 0.25em;box-sizing: border-box;margin-bottom: 0.5em;}#sk-container-id-1 div.sk-estimator:hover {background-color: #d4ebff;}#sk-container-id-1 div.sk-parallel-item::after {content: \"\";width: 100%;border-bottom: 1px solid gray;flex-grow: 1;}#sk-container-id-1 div.sk-label:hover label.sk-toggleable__label {background-color: #d4ebff;}#sk-container-id-1 div.sk-serial::before {content: \"\";position: absolute;border-left: 1px solid gray;box-sizing: border-box;top: 0;bottom: 0;left: 50%;z-index: 0;}#sk-container-id-1 div.sk-serial {display: flex;flex-direction: column;align-items: center;background-color: white;padding-right: 0.2em;padding-left: 0.2em;position: relative;}#sk-container-id-1 div.sk-item {position: relative;z-index: 1;}#sk-container-id-1 div.sk-parallel {display: flex;align-items: stretch;justify-content: center;background-color: white;position: relative;}#sk-container-id-1 div.sk-item::before, #sk-container-id-1 div.sk-parallel-item::before {content: \"\";position: absolute;border-left: 1px solid gray;box-sizing: border-box;top: 0;bottom: 0;left: 50%;z-index: -1;}#sk-container-id-1 div.sk-parallel-item {display: flex;flex-direction: column;z-index: 1;position: relative;background-color: white;}#sk-container-id-1 div.sk-parallel-item:first-child::after {align-self: flex-end;width: 50%;}#sk-container-id-1 div.sk-parallel-item:last-child::after {align-self: flex-start;width: 50%;}#sk-container-id-1 div.sk-parallel-item:only-child::after {width: 0;}#sk-container-id-1 div.sk-dashed-wrapped {border: 1px dashed gray;margin: 0 0.4em 0.5em 0.4em;box-sizing: border-box;padding-bottom: 0.4em;background-color: white;}#sk-container-id-1 div.sk-label label {font-family: monospace;font-weight: bold;display: inline-block;line-height: 1.2em;}#sk-container-id-1 div.sk-label-container {text-align: center;}#sk-container-id-1 div.sk-container {/* jupyter's `normalize.less` sets `[hidden] { display: none; }` but bootstrap.min.css set `[hidden] { display: none !important; }` so we also need the `!important` here to be able to override the default hidden behavior on the sphinx rendered scikit-learn.org. See: https://github.com/scikit-learn/scikit-learn/issues/21755 */display: inline-block !important;position: relative;}#sk-container-id-1 div.sk-text-repr-fallback {display: none;}</style><div id=\"sk-container-id-1\" class=\"sk-top-container\"><div class=\"sk-text-repr-fallback\"><pre>StandardScaler()</pre><b>In a Jupyter environment, please rerun this cell to show the HTML representation or trust the notebook. <br />On GitHub, the HTML representation is unable to render, please try loading this page with nbviewer.org.</b></div><div class=\"sk-container\" hidden><div class=\"sk-item\"><div class=\"sk-estimator sk-toggleable\"><input class=\"sk-toggleable__control sk-hidden--visually\" id=\"sk-estimator-id-1\" type=\"checkbox\" checked><label for=\"sk-estimator-id-1\" class=\"sk-toggleable__label sk-toggleable__label-arrow\">StandardScaler</label><div class=\"sk-toggleable__content\"><pre>StandardScaler()</pre></div></div></div></div></div>"
      ],
      "text/plain": [
       "StandardScaler()"
      ]
     },
     "execution_count": 14,
     "metadata": {},
     "output_type": "execute_result"
    }
   ],
   "source": [
    "scaler"
   ]
  },
  {
   "cell_type": "markdown",
   "id": "dbe92451-4391-4264-b4e2-1e0c76f5a4fa",
   "metadata": {},
   "source": [
    "# Plot the model performance"
   ]
  },
  {
   "cell_type": "code",
   "execution_count": 7,
   "id": "160b7f52-a8bf-4c85-aa16-1bc28502db56",
   "metadata": {},
   "outputs": [
    {
     "name": "stdout",
     "output_type": "stream",
     "text": [
      "\u001b[0m\u001b[01;31mX.pk.zip\u001b[0m  \u001b[01;31mY.pk.zip\u001b[0m  \u001b[01;31mtest.pk.zip\u001b[0m\n"
     ]
    }
   ],
   "source": [
    "ls ../data/preprocessed/"
   ]
  },
  {
   "cell_type": "code",
   "execution_count": 8,
   "id": "73656b94-d200-483e-b168-e9f2235ef126",
   "metadata": {},
   "outputs": [],
   "source": [
    "X_training = pd.read_pickle(join(\"../data/preprocessed/\", \"X.pk.zip\"))\n",
    "y = pd.read_pickle(join(\"../data/preprocessed/\", \"Y.pk.zip\"))\n"
   ]
  },
  {
   "cell_type": "code",
   "execution_count": 15,
   "id": "e1e5aa9c-456e-464d-b905-f79384aa1c07",
   "metadata": {},
   "outputs": [
    {
     "name": "stderr",
     "output_type": "stream",
     "text": [
      "/home/dima/miniconda3/envs/chem/lib/python3.10/site-packages/sklearn/base.py:443: UserWarning: X has feature names, but StandardScaler was fitted without feature names\n",
      "  warnings.warn(\n"
     ]
    }
   ],
   "source": [
    "data_scaled = scaler.transform(X_training)"
   ]
  },
  {
   "cell_type": "code",
   "execution_count": 17,
   "id": "a2830abb-22ac-4693-a1b5-ac700c84c776",
   "metadata": {},
   "outputs": [],
   "source": [
    "y_pred = lgb.predict(data_scaled)"
   ]
  },
  {
   "cell_type": "code",
   "execution_count": 19,
   "id": "aaed34bd-d23d-4ee4-851a-22385167a9e7",
   "metadata": {},
   "outputs": [],
   "source": [
    "predicted_vals = [np.argmax(line) for line in y_pred]"
   ]
  },
  {
   "cell_type": "code",
   "execution_count": 21,
   "id": "42a0ca54-f7ad-47ce-97c1-a0192c543aea",
   "metadata": {},
   "outputs": [],
   "source": [
    "cm = confusion_matrix(y, predicted_vals)"
   ]
  },
  {
   "cell_type": "code",
   "execution_count": 22,
   "id": "8048f1ee-eb22-4acc-8764-b606c9adf08e",
   "metadata": {},
   "outputs": [
    {
     "data": {
      "text/plain": [
       "array([[  619,    75,  1347],\n",
       "       [   85,   797,  1953],\n",
       "       [ 1521,  2871, 61443]])"
      ]
     },
     "execution_count": 22,
     "metadata": {},
     "output_type": "execute_result"
    }
   ],
   "source": [
    "cm"
   ]
  },
  {
   "cell_type": "code",
   "execution_count": 24,
   "id": "f05c0286-3171-42a0-bf0b-520627ee8733",
   "metadata": {},
   "outputs": [
    {
     "data": {
      "image/png": "[encoded data removed]",
      "text/plain": [
       "<Figure size 400x300 with 2 Axes>"
      ]
     },
     "metadata": {},
     "output_type": "display_data"
    }
   ],
   "source": [
    "fig, ax = plt.subplots(figsize=(4,3))\n",
    "sns.heatmap(cm/np.sum(cm, axis=0), annot=True, \n",
    "            fmt='.2%', cmap='Blues')\n",
    "fig.savefig(\"cm.png\")"
   ]
  },
  {
   "cell_type": "markdown",
   "id": "e55cf3f0-c718-4b87-be1a-50d761ba7540",
   "metadata": {},
   "source": [
    "# Real predictions"
   ]
  },
  {
   "cell_type": "code",
   "execution_count": 2,
   "id": "70fe65ea-02ba-46c2-ad28-d051d5a80d46",
   "metadata": {},
   "outputs": [],
   "source": [
    "X = pd.read_pickle(join(\"../data/preprocessed/\", \"test.pk.zip\"))\n",
    "X_mat = X.values\n",
    "\n",
    "with open('../model/LightGBM/model.pickle', 'rb') as handle:\n",
    "    model = pickle.load(handle)\n"
   ]
  },
  {
   "cell_type": "code",
   "execution_count": 3,
   "id": "2531a4c8-a640-43e3-a2b8-974be7e18521",
   "metadata": {},
   "outputs": [],
   "source": []
  },
  {
   "cell_type": "code",
   "execution_count": 25,
   "id": "3d4c1d85-bc62-47b4-8d8a-32db61604481",
   "metadata": {},
   "outputs": [],
   "source": [
    "da"
   ]
  },
  {
   "cell_type": "code",
   "execution_count": 4,
   "id": "cb78bcdc-9a7a-4f00-8dfd-e0bcc46a8895",
   "metadata": {},
   "outputs": [
    {
     "ename": "NameError",
     "evalue": "name 'data_sc' is not defined",
     "output_type": "error",
     "traceback": [
      "\u001b[0;31m---------------------------------------------------------------------------\u001b[0m",
      "\u001b[0;31mNameError\u001b[0m                                 Traceback (most recent call last)",
      "Cell \u001b[0;32mIn[4], line 1\u001b[0m\n\u001b[0;32m----> 1\u001b[0m predicted_vals \u001b[38;5;241m=\u001b[39m lgb\u001b[38;5;241m.\u001b[39mpredict(\u001b[43mdata_sc\u001b[49m)\n",
      "\u001b[0;31mNameError\u001b[0m: name 'data_sc' is not defined"
     ]
    }
   ],
   "source": [
    "predicted_vals = lgb.predict(data_sc)"
   ]
  },
  {
   "cell_type": "code",
   "execution_count": 27,
   "id": "13601c9f-a49f-47d1-8074-32f9aecfddb4",
   "metadata": {},
   "outputs": [],
   "source": [
    "\n",
    "ypr = [np.argmax(line) for line in predicted_vals]"
   ]
  },
  {
   "cell_type": "code",
   "execution_count": 28,
   "id": "3f697c6c-bdb2-460a-9dff-031470f1e01b",
   "metadata": {},
   "outputs": [
    {
     "data": {
      "text/plain": [
       "59045"
      ]
     },
     "execution_count": 28,
     "metadata": {},
     "output_type": "execute_result"
    }
   ],
   "source": [
    "np.sum(ypr)"
   ]
  },
  {
   "cell_type": "code",
   "execution_count": 29,
   "id": "e5b2067f-35cb-4127-a0e8-76f0bdf8f2ce",
   "metadata": {},
   "outputs": [],
   "source": [
    "\n",
    "report = pd.DataFrame({'Id': X.index, 'pred': ypr})\n",
    "report.to_csv(\"submission.csv\", index=False)"
   ]
  }
 ],
 "metadata": {
  "kernelspec": {
   "display_name": "Python 3 (ipykernel)",
   "language": "python",
   "name": "python3"
  },
  "language_info": {
   "codemirror_mode": {
    "name": "ipython",
    "version": 3
   },
   "file_extension": ".py",
   "mimetype": "text/x-python",
   "name": "python",
   "nbconvert_exporter": "python",
   "pygments_lexer": "ipython3",
   "version": "3.10.8"
  }
 },
 "nbformat": 4,
 "nbformat_minor": 5
}
