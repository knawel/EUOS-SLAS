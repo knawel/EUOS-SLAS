{
 "cells": [
  {
   "cell_type": "code",
   "execution_count": 22,
   "id": "08b08f47-1977-4fe8-b9d7-b8e591b9ffc4",
   "metadata": {},
   "outputs": [],
   "source": [
    "import pickle\n",
    "from os.path import join\n",
    "\n",
    "import pandas as pd\n",
    "import numpy as np\n",
    "\n"
   ]
  },
  {
   "cell_type": "code",
   "execution_count": 23,
   "id": "70fe65ea-02ba-46c2-ad28-d051d5a80d46",
   "metadata": {},
   "outputs": [],
   "source": [
    "X = pd.read_pickle(join(\"../data/preprocessed/\", \"test.pk.zip\"))\n",
    "X_mat = X.values\n",
    "\n",
    "with open('../model/LightGBM/model.pickle', 'rb') as handle:\n",
    "    model = pickle.load(handle)\n"
   ]
  },
  {
   "cell_type": "code",
   "execution_count": 24,
   "id": "2531a4c8-a640-43e3-a2b8-974be7e18521",
   "metadata": {},
   "outputs": [],
   "source": [
    "scaler = model[0]\n",
    "lgb = model[1]"
   ]
  },
  {
   "cell_type": "code",
   "execution_count": 25,
   "id": "3d4c1d85-bc62-47b4-8d8a-32db61604481",
   "metadata": {},
   "outputs": [],
   "source": []
  },
  {
   "cell_type": "code",
   "execution_count": 26,
   "id": "cb78bcdc-9a7a-4f00-8dfd-e0bcc46a8895",
   "metadata": {},
   "outputs": [],
   "source": [
    "predicted_vals = lgb.predict(data_sc)"
   ]
  },
  {
   "cell_type": "code",
   "execution_count": 27,
   "id": "13601c9f-a49f-47d1-8074-32f9aecfddb4",
   "metadata": {},
   "outputs": [],
   "source": [
    "\n",
    "ypr = [np.argmax(line) for line in predicted_vals]"
   ]
  },
  {
   "cell_type": "code",
   "execution_count": 28,
   "id": "3f697c6c-bdb2-460a-9dff-031470f1e01b",
   "metadata": {},
   "outputs": [
    {
     "data": {
      "text/plain": [
       "59045"
      ]
     },
     "execution_count": 28,
     "metadata": {},
     "output_type": "execute_result"
    }
   ],
   "source": [
    "np.sum(ypr)"
   ]
  },
  {
   "cell_type": "code",
   "execution_count": 29,
   "id": "e5b2067f-35cb-4127-a0e8-76f0bdf8f2ce",
   "metadata": {},
   "outputs": [],
   "source": [
    "\n",
    "report = pd.DataFrame({'Id': X.index, 'pred': ypr})\n",
    "report.to_csv(\"submission.csv\", index=False)"
   ]
  }
 ],
 "metadata": {
  "kernelspec": {
   "display_name": "Python 3 (ipykernel)",
   "language": "python",
   "name": "python3"
  },
  "language_info": {
   "codemirror_mode": {
    "name": "ipython",
    "version": 3
   },
   "file_extension": ".py",
   "mimetype": "text/x-python",
   "name": "python",
   "nbconvert_exporter": "python",
   "pygments_lexer": "ipython3",
   "version": "3.10.6"
  }
 },
 "nbformat": 4,
 "nbformat_minor": 5
}
