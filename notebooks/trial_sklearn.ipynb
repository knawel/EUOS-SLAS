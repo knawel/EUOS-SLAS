{
 "cells": [
  {
   "cell_type": "code",
   "execution_count": 1,
   "id": "d53a1ee8-4988-476e-9cd9-bf9c225b0847",
   "metadata": {},
   "outputs": [],
   "source": [
    "import pickle\n",
    "import sys\n",
    "\n",
    "import pandas as pd\n",
    "from os.path import join\n",
    "import os\n",
    "import numpy as np"
   ]
  },
  {
   "cell_type": "code",
   "execution_count": 2,
   "id": "e76c86f3-b596-4c66-a95d-1f2d4b6d79c4",
   "metadata": {},
   "outputs": [],
   "source": [
    "import lightgbm as lgb\n",
    "from lightgbm import LGBMClassifier\n",
    "\n",
    "from sklearn.tree import DecisionTreeClassifier\n",
    "from sklearn.preprocessing import StandardScaler\n",
    "from sklearn.metrics import f1_score, cohen_kappa_score\n",
    "from sklearn.pipeline import Pipeline\n",
    "from sklearn.model_selection import train_test_split"
   ]
  },
  {
   "cell_type": "code",
   "execution_count": 110,
   "id": "9430a48e-f3c4-4d4a-ad60-08bdc8742a2b",
   "metadata": {},
   "outputs": [],
   "source": [
    "data_folder = \"../data/preprocessed/\"\n",
    "X = pd.read_pickle(join(data_folder, \"X.pk.zip\"))\n",
    "y = pd.read_pickle(join(data_folder, \"Y.pk.zip\"))\n",
    "\n",
    "X_mat = X.values\n",
    "y_vec = y.values.flatten()\n",
    "X_train, X_test, y_train, y_test = train_test_split(X_mat, y_vec, test_size=0.12, random_state=123)\n"
   ]
  },
  {
   "cell_type": "code",
   "execution_count": 111,
   "id": "d214b9f8-f3cf-49e6-a3ff-d6da6c6c0acc",
   "metadata": {},
   "outputs": [
    {
     "name": "stdout",
     "output_type": "stream",
     "text": [
      "The number of features: 195\n",
      "TRAIN 0: 1802, 1: 2487, 2: 57936\n",
      "TEST  0: 239, 1: 348, 2: 7899\n"
     ]
    },
    {
     "data": {
      "text/plain": [
       "30"
      ]
     },
     "execution_count": 111,
     "metadata": {},
     "output_type": "execute_result"
    }
   ],
   "source": [
    "sys.stdout.write(f\"The number of features: {X_mat.shape[1]}\\n\")\n",
    "sys.stdout.write(f\"TRAIN \\\n",
    "0: {np.sum(y_train == 0)}, 1: {np.sum(y_train == 1)}, 2: {np.sum(y_train == 2)}\\n\")\n",
    "\n",
    "sys.stdout.write(f\"TEST  \\\n",
    "0: {np.sum(y_test == 0)}, 1: {np.sum(y_test == 1)}, 2: {np.sum(y_test == 2)}\\n\")"
   ]
  },
  {
   "cell_type": "markdown",
   "id": "06d8b83f-68c6-4c63-bbd1-0c8d9833e43a",
   "metadata": {},
   "source": [
    "# Model"
   ]
  },
  {
   "cell_type": "markdown",
   "id": "ae64b0a6-b46d-4920-9fbf-907da6431edc",
   "metadata": {},
   "source": [
    "## SKlearn - like"
   ]
  },
  {
   "cell_type": "code",
   "execution_count": 112,
   "id": "552e980f-d08e-4dab-acd7-9843a0bd5777",
   "metadata": {},
   "outputs": [],
   "source": [
    "classifiers = {\n",
    "    \"Tree w\": DecisionTreeClassifier(class_weight='balanced'),\n",
    "    \"Tree cw\": DecisionTreeClassifier(criterion = 'log_loss',\n",
    "                                     class_weight='balanced'),\n",
    "    # \"LGBMC\": LGBMClassifier(class_weight={0: 5, 1: 5, 2: 1}),\n",
    "    \"LGBMC\": LGBMClassifier(),\n",
    "    \"LGBMC bo\": LGBMClassifier(\n",
    "        class_weight='balanced',\n",
    "    objective = 'multiclass')\n",
    "}"
   ]
  },
  {
   "cell_type": "code",
   "execution_count": 113,
   "id": "8675ba2c-f7af-4f0c-bdcf-c3cd35d86e4d",
   "metadata": {},
   "outputs": [
    {
     "name": "stdout",
     "output_type": "stream",
     "text": [
      "Model:Tree w; score:0.0035355118963036336; all_score:[0.03396226 0.04260985 0.92498885]\n",
      "Model:Tree cw; score:0.020508496789827135; all_score:[0.06118547 0.04109589 0.92830333]\n",
      "Model:LGBMC; score:0.007278791126420936; all_score:[0.01626016 0.         0.96409818]\n",
      "Model:LGBMC bo; score:0.03782731570286835; all_score:[0.08225617 0.07469414 0.86010434]\n"
     ]
    }
   ],
   "source": [
    "preprocessor = StandardScaler()\n",
    "for cla in classifiers:\n",
    "    pipeline = Pipeline(steps=[\n",
    "        ('preprocessor', preprocessor)\n",
    "        , ('classifier', classifiers[cla])\n",
    "    ])\n",
    "    model = pipeline.fit(X_train, y_train)\n",
    "    predictions = model.predict(X_test)\n",
    "    score = f1_score(predictions, y_test, average=None)\n",
    "    score2 = cohen_kappa_score(y_test, predictions)\n",
    "    print(f'Model:{cla}; score:{score2}; all_score:{score}')"
   ]
  },
  {
   "cell_type": "markdown",
   "id": "6f1899f5-294a-42bd-80ef-da7b00708785",
   "metadata": {},
   "source": [
    "## lgb-like"
   ]
  },
  {
   "cell_type": "code",
   "execution_count": 114,
   "id": "9ec37568-5618-40cc-a863-5b50ac00b562",
   "metadata": {},
   "outputs": [],
   "source": [
    "train_data = lgb.Dataset(X_train, label=y_train)\n",
    "validation_data = lgb.Dataset(X_test, label=y_test)"
   ]
  },
  {
   "cell_type": "code",
   "execution_count": 116,
   "id": "6c5c9b20-f243-4160-9426-ac25b7aeade1",
   "metadata": {},
   "outputs": [],
   "source": [
    "def kappa_metric(dy_true, dy_pred):\n",
    "    \"\"\"An eval metric that always returns the same value\"\"\"\n",
    "    metric_name = 'constant_metric'\n",
    "    preds = dy_pred.reshape(3, -1).T\n",
    "    preds = preds.argmax(axis = 1)\n",
    "    value = cohen_kappa_score(dy_true, dy_pred)\n",
    "    is_higher_better = True\n",
    "    return metric_name, value, is_higher_better\n",
    "\n",
    "evals_result = {}\n",
    "\n",
    "\n",
    "def evalerror(preds, dtrain):\n",
    "\n",
    "    labels = dtrain.get_label()\n",
    "    preds = preds.reshape(3, -1).T\n",
    "    preds = preds.argmax(axis = 1)\n",
    "    f_score = f1_score(labels , preds,  average = 'weighted')\n",
    "    return 'f1_score', f_score, True"
   ]
  },
  {
   "cell_type": "code",
   "execution_count": 22,
   "id": "8e8793fe-b85a-4c07-81d2-514bc310d4fb",
   "metadata": {},
   "outputs": [],
   "source": [
    "# y_train"
   ]
  },
  {
   "cell_type": "code",
   "execution_count": 123,
   "id": "641bd92a-2801-4932-b96a-4bfac75fc5a0",
   "metadata": {},
   "outputs": [],
   "source": [
    "#setting up the parameters\n",
    "params={}\n",
    "params['learning_rate']=0.01\n",
    "params['boosting_type']='gbdt' #GradientBoostingDecisionTree\n",
    "params['objective']='multiclassova' #Multi-class target feature\n",
    "params['metric']='multi_logloss' #metric for multi-class\n",
    "# params['max_depth']=10\n",
    "params['num_class']=3 \n",
    "params['is_unbalance']=True"
   ]
  },
  {
   "cell_type": "code",
   "execution_count": 124,
   "id": "00b62bf5-67a3-4a6a-8aad-6923078a8a93",
   "metadata": {},
   "outputs": [
    {
     "name": "stdout",
     "output_type": "stream",
     "text": [
      "[LightGBM] [Info] Number of positive: 1802, number of negative: 60423\n",
      "[LightGBM] [Info] Number of positive: 2487, number of negative: 59738\n",
      "[LightGBM] [Info] Number of positive: 57936, number of negative: 4289\n",
      "[LightGBM] [Warning] Auto-choosing col-wise multi-threading, the overhead of testing was 0.031559 seconds.\n",
      "You can set `force_col_wise=true` to remove the overhead.\n",
      "[LightGBM] [Info] Total Bins 18927\n",
      "[LightGBM] [Info] Number of data points in the train set: 62225, number of used features: 188\n",
      "[LightGBM] [Info] [binary:BoostFromScore]: pavg=0.028959 -> initscore=-3.512473\n",
      "[LightGBM] [Info] Start training from score -3.512473\n",
      "[LightGBM] [Info] [binary:BoostFromScore]: pavg=0.039968 -> initscore=-3.178891\n",
      "[LightGBM] [Info] Start training from score -3.178891\n",
      "[LightGBM] [Info] [binary:BoostFromScore]: pavg=0.931073 -> initscore=2.603285\n",
      "[LightGBM] [Info] Start training from score 2.603285\n"
     ]
    }
   ],
   "source": [
    "num_round = 800\n",
    "bst = lgb.train(params, train_data, num_round)#, feval=kappa_metric)"
   ]
  },
  {
   "cell_type": "code",
   "execution_count": 125,
   "id": "0f9a71cd-7901-43c1-b4c3-90366ecba4ca",
   "metadata": {},
   "outputs": [
    {
     "data": {
      "text/plain": [
       "0.04987254963898424"
      ]
     },
     "execution_count": 125,
     "metadata": {},
     "output_type": "execute_result"
    }
   ],
   "source": [
    "ypred = bst.predict(X_test)\n",
    "ypr = [np.argmax(line) for line in ypred]\n",
    "cohen_kappa_score(y_test, ypr)"
   ]
  }
 ],
 "metadata": {
  "kernelspec": {
   "display_name": "Python 3 (ipykernel)",
   "language": "python",
   "name": "python3"
  },
  "language_info": {
   "codemirror_mode": {
    "name": "ipython",
    "version": 3
   },
   "file_extension": ".py",
   "mimetype": "text/x-python",
   "name": "python",
   "nbconvert_exporter": "python",
   "pygments_lexer": "ipython3",
   "version": "3.10.6"
  }
 },
 "nbformat": 4,
 "nbformat_minor": 5
}
