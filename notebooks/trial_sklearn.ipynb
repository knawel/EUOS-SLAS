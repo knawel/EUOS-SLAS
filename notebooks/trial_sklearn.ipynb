{
 "cells": [
  {
   "cell_type": "code",
   "execution_count": 1,
   "id": "d53a1ee8-4988-476e-9cd9-bf9c225b0847",
   "metadata": {},
   "outputs": [],
   "source": [
    "import pickle\n",
    "import sys\n",
    "\n",
    "import pandas as pd\n",
    "from os.path import join\n",
    "import os\n",
    "import numpy as np\n",
    "\n",
    "# # Sk learn\n",
    "\n",
    "\n"
   ]
  },
  {
   "cell_type": "code",
   "execution_count": 14,
   "id": "e76c86f3-b596-4c66-a95d-1f2d4b6d79c4",
   "metadata": {},
   "outputs": [],
   "source": [
    "import lightgbm as lgb\n",
    "from lightgbm import LGBMClassifier\n",
    "\n",
    "from sklearn.tree import DecisionTreeClassifier\n",
    "from sklearn.preprocessing import StandardScaler\n",
    "from sklearn.metrics import f1_score, cohen_kappa_score\n",
    "from sklearn.pipeline import Pipeline\n",
    "from sklearn.model_selection import train_test_split"
   ]
  },
  {
   "cell_type": "code",
   "execution_count": 45,
   "id": "261bef78-8d18-47a2-9e4e-0a3455a65f6d",
   "metadata": {},
   "outputs": [],
   "source": [
    "# from imblearn.over_sampling import RandomOverSampler, SVMSMOTE, BorderlineSMOTE, ADASYN"
   ]
  },
  {
   "cell_type": "code",
   "execution_count": 4,
   "id": "9430a48e-f3c4-4d4a-ad60-08bdc8742a2b",
   "metadata": {},
   "outputs": [],
   "source": [
    "data_folder = \"../data/preprocessed/\"\n",
    "X = pd.read_pickle(join(data_folder, \"X.pk.zip\"))\n",
    "y = pd.read_pickle(join(data_folder, \"Y.pk.zip\"))\n",
    "\n",
    "X_mat = X.values\n",
    "y_vec = y.values.flatten()\n",
    "X_train, X_test, y_train, y_test = train_test_split(X_mat, y_vec, test_size=0.12, random_state=123)\n"
   ]
  },
  {
   "cell_type": "code",
   "execution_count": 5,
   "id": "8171e69e-9844-4b6e-9044-53941db350bc",
   "metadata": {},
   "outputs": [],
   "source": [
    "# ros = RandomOverSampler(random_state=0)\n",
    "# X_resampled, y_resampled = SVMSMOTE(sampling_strategy='auto').fit_resample(X_train, y_train)"
   ]
  },
  {
   "cell_type": "code",
   "execution_count": 6,
   "id": "d214b9f8-f3cf-49e6-a3ff-d6da6c6c0acc",
   "metadata": {},
   "outputs": [
    {
     "name": "stdout",
     "output_type": "stream",
     "text": [
      "The number of features: 195\n",
      "TRAIN 0: 1802, 1: 2487, 2: 57936\n",
      "TEST  0: 239, 1: 348, 2: 7899\n"
     ]
    },
    {
     "data": {
      "text/plain": [
       "30"
      ]
     },
     "execution_count": 6,
     "metadata": {},
     "output_type": "execute_result"
    }
   ],
   "source": [
    "sys.stdout.write(f\"The number of features: {X_mat.shape[1]}\\n\")\n",
    "sys.stdout.write(f\"TRAIN \\\n",
    "0: {np.sum(y_train == 0)}, 1: {np.sum(y_train == 1)}, 2: {np.sum(y_train == 2)}\\n\")\n",
    "\n",
    "# sys.stdout.write(f\"Re sample \\\n",
    "# 0: {np.sum(y_resampled == 0)}, 1: {np.sum(y_resampled == 1)}, 2: {np.sum(y_resampled == 2)}\\n\")\n",
    "\n",
    "sys.stdout.write(f\"TEST  \\\n",
    "0: {np.sum(y_test == 0)}, 1: {np.sum(y_test == 1)}, 2: {np.sum(y_test == 2)}\\n\")\n",
    "\n",
    "# test: {X_test.shape[0]}\\n\")"
   ]
  },
  {
   "cell_type": "markdown",
   "id": "06d8b83f-68c6-4c63-bbd1-0c8d9833e43a",
   "metadata": {},
   "source": [
    "# Model"
   ]
  },
  {
   "cell_type": "markdown",
   "id": "ae64b0a6-b46d-4920-9fbf-907da6431edc",
   "metadata": {},
   "source": [
    "## SKlearn - like"
   ]
  },
  {
   "cell_type": "code",
   "execution_count": 8,
   "id": "552e980f-d08e-4dab-acd7-9843a0bd5777",
   "metadata": {},
   "outputs": [],
   "source": [
    "classifiers = {\n",
    "    # \"Tree w\": DecisionTreeClassifier(max_depth=8, class_weight='balanced'),\n",
    "    # \"LGBMC\": LGBMClassifier(class_weight={0: 5, 1: 5, 2: 1}),\n",
    "    \"LGBMC\": LGBMClassifier(),\n",
    "    \"LGBMC bo\": LGBMClassifier(\n",
    "        class_weight='balanced',\n",
    "    objective = 'multiclass')\n",
    "}"
   ]
  },
  {
   "cell_type": "code",
   "execution_count": 17,
   "id": "8675ba2c-f7af-4f0c-bdcf-c3cd35d86e4d",
   "metadata": {},
   "outputs": [
    {
     "name": "stdout",
     "output_type": "stream",
     "text": [
      "Model:LGBMC; score:0.007278791126420936; all_score:[0.01626016 0.         0.96409818]\n",
      "Model:LGBMC bo; score:0.03782731570286835; all_score:[0.08225617 0.07469414 0.86010434]\n"
     ]
    }
   ],
   "source": [
    "preprocessor = StandardScaler()\n",
    "for cla in classifiers:\n",
    "    pipeline = Pipeline(steps=[\n",
    "        ('preprocessor', preprocessor)\n",
    "        , ('classifier', classifiers[cla])\n",
    "    ])\n",
    "    model = pipeline.fit(X_train, y_train)\n",
    "    predictions = model.predict(X_test)\n",
    "    score = f1_score(predictions, y_test, average=None)\n",
    "    score2 = cohen_kappa_score(y_test, predictions)\n",
    "    print(f'Model:{cla}; score:{score2}; all_score:{score}')"
   ]
  },
  {
   "cell_type": "markdown",
   "id": "6f1899f5-294a-42bd-80ef-da7b00708785",
   "metadata": {},
   "source": [
    "## lgb-like"
   ]
  },
  {
   "cell_type": "code",
   "execution_count": 50,
   "id": "9ec37568-5618-40cc-a863-5b50ac00b562",
   "metadata": {},
   "outputs": [],
   "source": [
    "train_data = lgb.Dataset(X_train, label=y_train)\n",
    "validation_data = lgb.Dataset(X_test, label=y_test)"
   ]
  },
  {
   "cell_type": "code",
   "execution_count": 18,
   "id": "6c5c9b20-f243-4160-9426-ac25b7aeade1",
   "metadata": {},
   "outputs": [],
   "source": [
    "def _constant_metric(dy_true, dy_pred):\n",
    "    \"\"\"An eval metric that always returns the same value\"\"\"\n",
    "    metric_name = 'constant_metric'\n",
    "    value = cohen_kappa_score(dy_true, dy_pred)\n",
    "    is_higher_better = True\n",
    "    return metric_name, value, is_higher_better\n",
    "\n",
    "evals_result = {}\n",
    "\n"
   ]
  },
  {
   "cell_type": "code",
   "execution_count": 57,
   "id": "8e8793fe-b85a-4c07-81d2-514bc310d4fb",
   "metadata": {},
   "outputs": [
    {
     "data": {
      "text/plain": [
       "array([1, 2, 2, ..., 2, 2, 2])"
      ]
     },
     "execution_count": 57,
     "metadata": {},
     "output_type": "execute_result"
    }
   ],
   "source": [
    "y_train"
   ]
  },
  {
   "cell_type": "code",
   "execution_count": 55,
   "id": "641bd92a-2801-4932-b96a-4bfac75fc5a0",
   "metadata": {},
   "outputs": [],
   "source": [
    "#setting up the parameters\n",
    "params={}\n",
    "params['learning_rate']=0.03\n",
    "params['boosting_type']='gbdt' #GradientBoostingDecisionTree\n",
    "params['objective']='multiclass' #Multi-class target feature\n",
    "params['metric']='multi_logloss' #metric for multi-class\n",
    "params['max_depth']=10\n",
    "params['num_class']=3 \n",
    "params['num_class']=3 #no.of unique values in the target class not inclusive of the end value"
   ]
  },
  {
   "cell_type": "code",
   "execution_count": 75,
   "id": "00b62bf5-67a3-4a6a-8aad-6923078a8a93",
   "metadata": {},
   "outputs": [
    {
     "name": "stdout",
     "output_type": "stream",
     "text": [
      "[LightGBM] [Warning] Accuracy may be bad since you didn't explicitly set num_leaves OR 2^max_depth > num_leaves. (num_leaves=31).\n",
      "[LightGBM] [Warning] Accuracy may be bad since you didn't explicitly set num_leaves OR 2^max_depth > num_leaves. (num_leaves=31).\n",
      "[LightGBM] [Warning] Auto-choosing col-wise multi-threading, the overhead of testing was 0.040891 seconds.\n",
      "You can set `force_col_wise=true` to remove the overhead.\n",
      "[LightGBM] [Info] Total Bins 18927\n",
      "[LightGBM] [Info] Number of data points in the train set: 62225, number of used features: 188\n",
      "[LightGBM] [Info] Start training from score -3.541860\n",
      "[LightGBM] [Info] Start training from score -3.219680\n",
      "[LightGBM] [Info] Start training from score -0.071418\n",
      "[LightGBM] [Warning] No further splits with positive gain, best gain: -inf\n"
     ]
    }
   ],
   "source": [
    "num_round = 800\n",
    "bst = lgb.train(params, train_data, num_round)"
   ]
  },
  {
   "cell_type": "code",
   "execution_count": 76,
   "id": "0f9a71cd-7901-43c1-b4c3-90366ecba4ca",
   "metadata": {},
   "outputs": [],
   "source": [
    "ypred = bst.predict(X_test)"
   ]
  },
  {
   "cell_type": "code",
   "execution_count": 77,
   "id": "8c899d7a-0022-4a83-97f5-d73b5c52bd45",
   "metadata": {},
   "outputs": [],
   "source": [
    "ypr = [np.argmax(line) for line in ypred]"
   ]
  },
  {
   "cell_type": "code",
   "execution_count": 78,
   "id": "14f632a6-f3c5-408a-bb95-13059d8ffbbc",
   "metadata": {},
   "outputs": [
    {
     "data": {
      "text/plain": [
       "0.010448287767877984"
      ]
     },
     "execution_count": 78,
     "metadata": {},
     "output_type": "execute_result"
    }
   ],
   "source": [
    "cohen_kappa_score(y_test, ypr)"
   ]
  },
  {
   "cell_type": "code",
   "execution_count": 25,
   "id": "874632f0-6867-4c64-a01f-8c2fc12bd189",
   "metadata": {},
   "outputs": [],
   "source": [
    "# model = lgb.train(\n",
    "#     params={\n",
    "#         # \"objective\": \"multiclass\",\n",
    "#         \"metric\": \"None\",\n",
    "#         # 'num_class' : 3,\n",
    "#         # \"num_iterations\": 100,\n",
    "#         \"first_metric_only\": True,\n",
    "#         \"verbose\": 0,\n",
    "#         \"num_leaves\": 8\n",
    "#     },\n",
    "#     train_set=train_data,\n",
    "#     valid_sets=[validation_data],\n",
    "#     # feval=_constant_metric,\n",
    "#     early_stopping_rounds=5\n",
    "# )"
   ]
  }
 ],
 "metadata": {
  "kernelspec": {
   "display_name": "Python 3 (ipykernel)",
   "language": "python",
   "name": "python3"
  },
  "language_info": {
   "codemirror_mode": {
    "name": "ipython",
    "version": 3
   },
   "file_extension": ".py",
   "mimetype": "text/x-python",
   "name": "python",
   "nbconvert_exporter": "python",
   "pygments_lexer": "ipython3",
   "version": "3.10.6"
  }
 },
 "nbformat": 4,
 "nbformat_minor": 5
}
