{
 "cells": [
  {
   "cell_type": "code",
   "execution_count": 3,
   "id": "d53a1ee8-4988-476e-9cd9-bf9c225b0847",
   "metadata": {},
   "outputs": [],
   "source": [
    "import pickle\n",
    "import sys\n",
    "import pandas as pd\n",
    "from os.path import join\n",
    "import os\n",
    "import numpy as np"
   ]
  },
  {
   "cell_type": "code",
   "execution_count": 4,
   "id": "e76c86f3-b596-4c66-a95d-1f2d4b6d79c4",
   "metadata": {},
   "outputs": [],
   "source": [
    "import lightgbm as lgb\n",
    "from lightgbm import LGBMClassifier\n",
    "\n",
    "from sklearn.tree import DecisionTreeClassifier\n",
    "from sklearn.preprocessing import StandardScaler\n",
    "from sklearn.metrics import f1_score, cohen_kappa_score\n",
    "from sklearn.pipeline import Pipeline\n",
    "from sklearn.model_selection import train_test_split"
   ]
  },
  {
   "cell_type": "code",
   "execution_count": 5,
   "id": "fd0a4d04-58c4-46bd-a9a3-c157e0e32c87",
   "metadata": {},
   "outputs": [],
   "source": [
    "from sklearn.metrics import confusion_matrix"
   ]
  },
  {
   "cell_type": "code",
   "execution_count": 6,
   "id": "70438ec2-9de0-423f-aa46-3ce2e1f8659f",
   "metadata": {},
   "outputs": [],
   "source": [
    "import matplotlib.pyplot as plt"
   ]
  },
  {
   "cell_type": "code",
   "execution_count": 172,
   "id": "8ead4cfc-c71c-4ceb-be8b-5545342532d2",
   "metadata": {},
   "outputs": [],
   "source": []
  },
  {
   "cell_type": "code",
   "execution_count": 7,
   "id": "9430a48e-f3c4-4d4a-ad60-08bdc8742a2b",
   "metadata": {},
   "outputs": [],
   "source": [
    "data_folder = \"../data/preprocessed/\"\n",
    "X = pd.read_pickle(join(data_folder, \"X.pk.zip\"))\n",
    "y = pd.read_pickle(join(data_folder, \"Y.pk.zip\"))\n",
    "\n",
    "X_mat = X.values\n",
    "y_vec = y.values.flatten()\n",
    "X_train, X_test, y_train, y_test = train_test_split(X_mat, y_vec, test_size=0.12, random_state=123)\n"
   ]
  },
  {
   "cell_type": "code",
   "execution_count": 8,
   "id": "d214b9f8-f3cf-49e6-a3ff-d6da6c6c0acc",
   "metadata": {},
   "outputs": [
    {
     "name": "stdout",
     "output_type": "stream",
     "text": [
      "The number of features: 195\n",
      "TRAIN 0: 1802, 1: 2487, 2: 57936\n",
      "TEST  0: 239, 1: 348, 2: 7899\n"
     ]
    },
    {
     "data": {
      "text/plain": [
       "30"
      ]
     },
     "execution_count": 8,
     "metadata": {},
     "output_type": "execute_result"
    }
   ],
   "source": [
    "sys.stdout.write(f\"The number of features: {X_mat.shape[1]}\\n\")\n",
    "sys.stdout.write(f\"TRAIN \\\n",
    "0: {np.sum(y_train == 0)}, 1: {np.sum(y_train == 1)}, 2: {np.sum(y_train == 2)}\\n\")\n",
    "\n",
    "sys.stdout.write(f\"TEST  \\\n",
    "0: {np.sum(y_test == 0)}, 1: {np.sum(y_test == 1)}, 2: {np.sum(y_test == 2)}\\n\")"
   ]
  },
  {
   "cell_type": "markdown",
   "id": "06d8b83f-68c6-4c63-bbd1-0c8d9833e43a",
   "metadata": {
    "tags": []
   },
   "source": [
    "# Model"
   ]
  },
  {
   "cell_type": "markdown",
   "id": "ae64b0a6-b46d-4920-9fbf-907da6431edc",
   "metadata": {
    "tags": []
   },
   "source": [
    "## SKlearn - like"
   ]
  },
  {
   "cell_type": "code",
   "execution_count": 9,
   "id": "552e980f-d08e-4dab-acd7-9843a0bd5777",
   "metadata": {},
   "outputs": [],
   "source": [
    "classifiers = {\n",
    "    \"Tree w\": DecisionTreeClassifier(class_weight='balanced'),\n",
    "    \"Tree cw\": DecisionTreeClassifier(criterion = 'log_loss',\n",
    "                                     class_weight='balanced'),\n",
    "    # \"LGBMC\": LGBMClassifier(class_weight={0: 5, 1: 5, 2: 1}),\n",
    "    \"LGBMC\": LGBMClassifier(),\n",
    "    \"LGBMC bo\": LGBMClassifier(\n",
    "        class_weight='balanced',\n",
    "    objective = 'multiclass')\n",
    "}"
   ]
  },
  {
   "cell_type": "code",
   "execution_count": 10,
   "id": "0be00d0b-2262-409c-b3f6-65969df7afc3",
   "metadata": {},
   "outputs": [],
   "source": [
    "# preprocessor."
   ]
  },
  {
   "cell_type": "code",
   "execution_count": 11,
   "id": "8675ba2c-f7af-4f0c-bdcf-c3cd35d86e4d",
   "metadata": {},
   "outputs": [
    {
     "name": "stdout",
     "output_type": "stream",
     "text": [
      "Model:Tree w; score:0.01708534645955373; all_score:[0.04624277 0.05722071 0.92753992]\n",
      "Model:Tree cw; score:0.02407508162385008; all_score:[0.05681818 0.0541272  0.92760267]\n",
      "Model:LGBMC; score:0.007278791126420936; all_score:[0.01626016 0.         0.96409818]\n",
      "Model:LGBMC bo; score:0.03782731570286835; all_score:[0.08225617 0.07469414 0.86010434]\n"
     ]
    }
   ],
   "source": [
    "preprocessor = StandardScaler()\n",
    "for cla in classifiers:\n",
    "    pipeline = Pipeline(steps=[\n",
    "        ('preprocessor', preprocessor)\n",
    "        , ('classifier', classifiers[cla])\n",
    "    ])\n",
    "    model = pipeline.fit(X_train, y_train)\n",
    "    predictions = model.predict(X_test)\n",
    "    score = f1_score(predictions, y_test, average=None)\n",
    "    score2 = cohen_kappa_score(y_test, predictions)\n",
    "    print(f'Model:{cla}; score:{score2}; all_score:{score}')"
   ]
  },
  {
   "cell_type": "markdown",
   "id": "6f1899f5-294a-42bd-80ef-da7b00708785",
   "metadata": {
    "tags": []
   },
   "source": [
    "## lgb-like"
   ]
  },
  {
   "cell_type": "code",
   "execution_count": 19,
   "id": "6c5c9b20-f243-4160-9426-ac25b7aeade1",
   "metadata": {},
   "outputs": [],
   "source": [
    "def kappa_metric(dy_true, dy_pred):\n",
    "    \"\"\"An eval metric that always returns the same value\"\"\"\n",
    "    metric_name = 'constant_metric'\n",
    "    preds = dy_pred.reshape(3, -1).T\n",
    "    preds = preds.argmax(axis = 1)\n",
    "    value = cohen_kappa_score(dy_true, dy_pred)\n",
    "    is_higher_better = True\n",
    "    return metric_name, value, is_higher_better\n",
    "\n",
    "evals_result = {}\n",
    "\n",
    "\n",
    "def calc_custom_kappa(actuals, preds, n=3):\n",
    "    # from here\n",
    "    # https://www.kaggle.com/code/aroraaman/quadratic-kappa-metric-explained-in-5-simple-steps/notebook\n",
    "    # but later it's better to move to something like that\n",
    "    # https://www.kaggle.com/code/tsmith26/lightgbm-custom-objective-for-weighted-kappa\n",
    "    conf_m = confusion_matrix(actuals, preds)\n",
    "    w = np.zeros((n, n))\n",
    "    for i_ in range(len(w)):\n",
    "        for j_ in range(len(w)):\n",
    "            w[i_][j_] = float(((i_ - j_) ** 2) / (n - 1) ** 2)\n",
    "\n",
    "    act_hist = np.zeros([n])\n",
    "    for item in actuals:\n",
    "        act_hist[item] += 1\n",
    "\n",
    "    pred_hist = np.zeros([n])\n",
    "    for item in preds:\n",
    "        pred_hist[item] += 1\n",
    "    e_mat = np.outer(act_hist, pred_hist)\n",
    "\n",
    "    e_mat = e_mat / e_mat.sum()\n",
    "    conf_m = conf_m / conf_m.sum()\n",
    "\n",
    "    num = 0\n",
    "    den = 0\n",
    "    for i_ in range(len(w)):\n",
    "        for j_ in range(len(w)):\n",
    "            num += w[i_][j_] * conf_m[i_][j_]\n",
    "            den += w[i_][j_] * e_mat[i_][j_]\n",
    "\n",
    "    weighted_kappa = (1 - (num / den))\n",
    "    return weighted_kappa\n",
    "\n",
    "\n",
    "\n",
    "\n",
    "def evalerror(preds, dtrain):\n",
    "\n",
    "    labels = dtrain.get_label()\n",
    "    preds = preds.reshape(3, -1).T\n",
    "    preds = preds.argmax(axis = 1)\n",
    "    f_score = f1_score(labels , preds,  average = 'weighted')\n",
    "    return 'f1_score', f_score, True"
   ]
  },
  {
   "cell_type": "code",
   "execution_count": 15,
   "id": "8e8793fe-b85a-4c07-81d2-514bc310d4fb",
   "metadata": {},
   "outputs": [],
   "source": [
    "scaler = StandardScaler()\n",
    "scaler.fit(X_train)\n",
    "X_train_sc = scaler.transform(X_train)\n",
    "X_test_sc = scaler.transform(X_test)\n",
    "train_data = lgb.Dataset(X_train_sc, label=y_train)\n",
    "validation_data = lgb.Dataset(X_test_sc, label=y_test)"
   ]
  },
  {
   "cell_type": "code",
   "execution_count": 17,
   "id": "641bd92a-2801-4932-b96a-4bfac75fc5a0",
   "metadata": {},
   "outputs": [],
   "source": [
    "params = {\n",
    "    'learning_rate': 0.01,\n",
    "    'boosting_type': 'gbdt',\n",
    "    'objective': 'multiclassova',\n",
    "    'metric': 'multi_logloss',\n",
    "    'num_class': 3,\n",
    "    'is_unbalance': True\n",
    "}\n",
    "\n"
   ]
  },
  {
   "cell_type": "code",
   "execution_count": 20,
   "id": "00b62bf5-67a3-4a6a-8aad-6923078a8a93",
   "metadata": {},
   "outputs": [
    {
     "name": "stdout",
     "output_type": "stream",
     "text": [
      "[LightGBM] [Info] Number of positive: 1802, number of negative: 60423\n",
      "[LightGBM] [Info] Number of positive: 2487, number of negative: 59738\n",
      "[LightGBM] [Info] Number of positive: 57936, number of negative: 4289\n",
      "[LightGBM] [Warning] Auto-choosing col-wise multi-threading, the overhead of testing was 0.033065 seconds.\n",
      "You can set `force_col_wise=true` to remove the overhead.\n",
      "[LightGBM] [Info] Total Bins 19060\n",
      "[LightGBM] [Info] Number of data points in the train set: 62225, number of used features: 188\n",
      "[LightGBM] [Info] [binary:BoostFromScore]: pavg=0.028959 -> initscore=-3.512473\n",
      "[LightGBM] [Info] Start training from score -3.512473\n",
      "[LightGBM] [Info] [binary:BoostFromScore]: pavg=0.039968 -> initscore=-3.178891\n",
      "[LightGBM] [Info] Start training from score -3.178891\n",
      "[LightGBM] [Info] [binary:BoostFromScore]: pavg=0.931073 -> initscore=2.603285\n",
      "[LightGBM] [Info] Start training from score 2.603285\n",
      "[LightGBM] [Info] Number of positive: 1802, number of negative: 60423\n",
      "[LightGBM] [Info] Number of positive: 2487, number of negative: 59738\n",
      "[LightGBM] [Info] Number of positive: 57936, number of negative: 4289\n",
      "[LightGBM] [Warning] Auto-choosing col-wise multi-threading, the overhead of testing was 0.023672 seconds.\n",
      "You can set `force_col_wise=true` to remove the overhead.\n",
      "[LightGBM] [Info] Total Bins 19060\n",
      "[LightGBM] [Info] Number of data points in the train set: 62225, number of used features: 188\n",
      "[LightGBM] [Info] [binary:BoostFromScore]: pavg=0.028959 -> initscore=-3.512473\n",
      "[LightGBM] [Info] Start training from score -3.512473\n",
      "[LightGBM] [Info] [binary:BoostFromScore]: pavg=0.039968 -> initscore=-3.178891\n",
      "[LightGBM] [Info] Start training from score -3.178891\n",
      "[LightGBM] [Info] [binary:BoostFromScore]: pavg=0.931073 -> initscore=2.603285\n",
      "[LightGBM] [Info] Start training from score 2.603285\n",
      "[LightGBM] [Info] Number of positive: 1802, number of negative: 60423\n",
      "[LightGBM] [Info] Number of positive: 2487, number of negative: 59738\n",
      "[LightGBM] [Info] Number of positive: 57936, number of negative: 4289\n",
      "[LightGBM] [Warning] Auto-choosing row-wise multi-threading, the overhead of testing was 0.007361 seconds.\n",
      "You can set `force_row_wise=true` to remove the overhead.\n",
      "And if memory is not enough, you can set `force_col_wise=true`.\n",
      "[LightGBM] [Info] Total Bins 19060\n",
      "[LightGBM] [Info] Number of data points in the train set: 62225, number of used features: 188\n",
      "[LightGBM] [Info] [binary:BoostFromScore]: pavg=0.028959 -> initscore=-3.512473\n",
      "[LightGBM] [Info] Start training from score -3.512473\n",
      "[LightGBM] [Info] [binary:BoostFromScore]: pavg=0.039968 -> initscore=-3.178891\n",
      "[LightGBM] [Info] Start training from score -3.178891\n",
      "[LightGBM] [Info] [binary:BoostFromScore]: pavg=0.931073 -> initscore=2.603285\n",
      "[LightGBM] [Info] Start training from score 2.603285\n",
      "[LightGBM] [Info] Number of positive: 1802, number of negative: 60423\n",
      "[LightGBM] [Info] Number of positive: 2487, number of negative: 59738\n",
      "[LightGBM] [Info] Number of positive: 57936, number of negative: 4289\n",
      "[LightGBM] [Warning] Auto-choosing col-wise multi-threading, the overhead of testing was 0.021680 seconds.\n",
      "You can set `force_col_wise=true` to remove the overhead.\n",
      "[LightGBM] [Info] Total Bins 19060\n",
      "[LightGBM] [Info] Number of data points in the train set: 62225, number of used features: 188\n",
      "[LightGBM] [Info] [binary:BoostFromScore]: pavg=0.028959 -> initscore=-3.512473\n",
      "[LightGBM] [Info] Start training from score -3.512473\n",
      "[LightGBM] [Info] [binary:BoostFromScore]: pavg=0.039968 -> initscore=-3.178891\n",
      "[LightGBM] [Info] Start training from score -3.178891\n",
      "[LightGBM] [Info] [binary:BoostFromScore]: pavg=0.931073 -> initscore=2.603285\n",
      "[LightGBM] [Info] Start training from score 2.603285\n",
      "[LightGBM] [Info] Number of positive: 1802, number of negative: 60423\n",
      "[LightGBM] [Info] Number of positive: 2487, number of negative: 59738\n",
      "[LightGBM] [Info] Number of positive: 57936, number of negative: 4289\n",
      "[LightGBM] [Warning] Auto-choosing col-wise multi-threading, the overhead of testing was 0.023960 seconds.\n",
      "You can set `force_col_wise=true` to remove the overhead.\n",
      "[LightGBM] [Info] Total Bins 19060\n",
      "[LightGBM] [Info] Number of data points in the train set: 62225, number of used features: 188\n",
      "[LightGBM] [Info] [binary:BoostFromScore]: pavg=0.028959 -> initscore=-3.512473\n",
      "[LightGBM] [Info] Start training from score -3.512473\n",
      "[LightGBM] [Info] [binary:BoostFromScore]: pavg=0.039968 -> initscore=-3.178891\n",
      "[LightGBM] [Info] Start training from score -3.178891\n",
      "[LightGBM] [Info] [binary:BoostFromScore]: pavg=0.931073 -> initscore=2.603285\n",
      "[LightGBM] [Info] Start training from score 2.603285\n",
      "[LightGBM] [Info] Number of positive: 1802, number of negative: 60423\n",
      "[LightGBM] [Info] Number of positive: 2487, number of negative: 59738\n",
      "[LightGBM] [Info] Number of positive: 57936, number of negative: 4289\n",
      "[LightGBM] [Warning] Auto-choosing col-wise multi-threading, the overhead of testing was 0.021378 seconds.\n",
      "You can set `force_col_wise=true` to remove the overhead.\n",
      "[LightGBM] [Info] Total Bins 19060\n",
      "[LightGBM] [Info] Number of data points in the train set: 62225, number of used features: 188\n",
      "[LightGBM] [Info] [binary:BoostFromScore]: pavg=0.028959 -> initscore=-3.512473\n",
      "[LightGBM] [Info] Start training from score -3.512473\n",
      "[LightGBM] [Info] [binary:BoostFromScore]: pavg=0.039968 -> initscore=-3.178891\n",
      "[LightGBM] [Info] Start training from score -3.178891\n",
      "[LightGBM] [Info] [binary:BoostFromScore]: pavg=0.931073 -> initscore=2.603285\n",
      "[LightGBM] [Info] Start training from score 2.603285\n",
      "[LightGBM] [Info] Number of positive: 1802, number of negative: 60423\n",
      "[LightGBM] [Info] Number of positive: 2487, number of negative: 59738\n",
      "[LightGBM] [Info] Number of positive: 57936, number of negative: 4289\n",
      "[LightGBM] [Warning] Auto-choosing col-wise multi-threading, the overhead of testing was 0.049572 seconds.\n",
      "You can set `force_col_wise=true` to remove the overhead.\n",
      "[LightGBM] [Info] Total Bins 19060\n",
      "[LightGBM] [Info] Number of data points in the train set: 62225, number of used features: 188\n",
      "[LightGBM] [Info] [binary:BoostFromScore]: pavg=0.028959 -> initscore=-3.512473\n",
      "[LightGBM] [Info] Start training from score -3.512473\n",
      "[LightGBM] [Info] [binary:BoostFromScore]: pavg=0.039968 -> initscore=-3.178891\n",
      "[LightGBM] [Info] Start training from score -3.178891\n",
      "[LightGBM] [Info] [binary:BoostFromScore]: pavg=0.931073 -> initscore=2.603285\n",
      "[LightGBM] [Info] Start training from score 2.603285\n",
      "[LightGBM] [Info] Number of positive: 1802, number of negative: 60423\n",
      "[LightGBM] [Info] Number of positive: 2487, number of negative: 59738\n",
      "[LightGBM] [Info] Number of positive: 57936, number of negative: 4289\n",
      "[LightGBM] [Warning] Auto-choosing col-wise multi-threading, the overhead of testing was 0.020853 seconds.\n",
      "You can set `force_col_wise=true` to remove the overhead.\n",
      "[LightGBM] [Info] Total Bins 19060\n",
      "[LightGBM] [Info] Number of data points in the train set: 62225, number of used features: 188\n",
      "[LightGBM] [Info] [binary:BoostFromScore]: pavg=0.028959 -> initscore=-3.512473\n",
      "[LightGBM] [Info] Start training from score -3.512473\n",
      "[LightGBM] [Info] [binary:BoostFromScore]: pavg=0.039968 -> initscore=-3.178891\n",
      "[LightGBM] [Info] Start training from score -3.178891\n",
      "[LightGBM] [Info] [binary:BoostFromScore]: pavg=0.931073 -> initscore=2.603285\n",
      "[LightGBM] [Info] Start training from score 2.603285\n",
      "[LightGBM] [Info] Number of positive: 1802, number of negative: 60423\n",
      "[LightGBM] [Info] Number of positive: 2487, number of negative: 59738\n",
      "[LightGBM] [Info] Number of positive: 57936, number of negative: 4289\n",
      "[LightGBM] [Warning] Auto-choosing col-wise multi-threading, the overhead of testing was 0.020251 seconds.\n",
      "You can set `force_col_wise=true` to remove the overhead.\n",
      "[LightGBM] [Info] Total Bins 19060\n",
      "[LightGBM] [Info] Number of data points in the train set: 62225, number of used features: 188\n",
      "[LightGBM] [Info] [binary:BoostFromScore]: pavg=0.028959 -> initscore=-3.512473\n",
      "[LightGBM] [Info] Start training from score -3.512473\n",
      "[LightGBM] [Info] [binary:BoostFromScore]: pavg=0.039968 -> initscore=-3.178891\n",
      "[LightGBM] [Info] Start training from score -3.178891\n",
      "[LightGBM] [Info] [binary:BoostFromScore]: pavg=0.931073 -> initscore=2.603285\n",
      "[LightGBM] [Info] Start training from score 2.603285\n",
      "[LightGBM] [Info] Number of positive: 1802, number of negative: 60423\n",
      "[LightGBM] [Info] Number of positive: 2487, number of negative: 59738\n",
      "[LightGBM] [Info] Number of positive: 57936, number of negative: 4289\n",
      "[LightGBM] [Warning] Auto-choosing col-wise multi-threading, the overhead of testing was 0.024067 seconds.\n",
      "You can set `force_col_wise=true` to remove the overhead.\n",
      "[LightGBM] [Info] Total Bins 19060\n",
      "[LightGBM] [Info] Number of data points in the train set: 62225, number of used features: 188\n",
      "[LightGBM] [Info] [binary:BoostFromScore]: pavg=0.028959 -> initscore=-3.512473\n",
      "[LightGBM] [Info] Start training from score -3.512473\n",
      "[LightGBM] [Info] [binary:BoostFromScore]: pavg=0.039968 -> initscore=-3.178891\n",
      "[LightGBM] [Info] Start training from score -3.178891\n",
      "[LightGBM] [Info] [binary:BoostFromScore]: pavg=0.931073 -> initscore=2.603285\n",
      "[LightGBM] [Info] Start training from score 2.603285\n"
     ]
    }
   ],
   "source": [
    "scores = []\n",
    "for i in range(10):\n",
    "    steps = (i + 1) * 20\n",
    "    bst = lgb.train(params, train_data, steps)  # , feval=kappa_metric)\n",
    "    y_predicted = bst.predict(X_test_sc)\n",
    "    ypr = [np.argmax(line) for line in y_predicted]\n",
    "    k_score = cohen_kappa_score(y_test, ypr)\n",
    "    kk_score = calc_custom_kappa(y_test, ypr)\n",
    "    f1_scores = f1_score(y_test, ypr, average=None)\n",
    "    s = np.append(f1_scores, k_score)\n",
    "    s = np.append(s, kk_score)\n",
    "    scores.append(s)"
   ]
  },
  {
   "cell_type": "code",
   "execution_count": 21,
   "id": "3d389d9a-ffee-451e-b928-c87769fbac68",
   "metadata": {},
   "outputs": [
    {
     "data": {
      "text/plain": [
       "0.0839866991283077"
      ]
     },
     "execution_count": 21,
     "metadata": {},
     "output_type": "execute_result"
    }
   ],
   "source": [
    "calc_custom_kappa(y_test, ypr)\n",
    "    "
   ]
  },
  {
   "cell_type": "code",
   "execution_count": 22,
   "id": "0f9a71cd-7901-43c1-b4c3-90366ecba4ca",
   "metadata": {},
   "outputs": [
    {
     "name": "stdout",
     "output_type": "stream",
     "text": [
      "[[0.         0.         0.96417455 0.         0.        ]\n",
      " [0.         0.         0.96417455 0.         0.        ]\n",
      " [0.         0.         0.96417455 0.         0.        ]\n",
      " [0.03212851 0.         0.96427481 0.01514468 0.02694303]\n",
      " [0.03676471 0.         0.96348847 0.02214376 0.03859448]\n",
      " [0.06557377 0.01086957 0.96128597 0.03668447 0.05801403]\n",
      " [0.0923913  0.03636364 0.95545657 0.05896658 0.08670066]\n",
      " [0.09929078 0.0582878  0.947      0.06324799 0.0888311 ]\n",
      " [0.09913793 0.06153846 0.93908437 0.05838968 0.08544033]\n",
      " [0.09284333 0.07407407 0.93221417 0.06114155 0.0839867 ]]\n"
     ]
    }
   ],
   "source": [
    "scores = np.array(scores)\n",
    "print(scores)"
   ]
  },
  {
   "cell_type": "code",
   "execution_count": 23,
   "id": "e257cf74-70da-491e-aba1-92aa2a28690a",
   "metadata": {},
   "outputs": [
    {
     "data": {
      "image/png": "[encoded data removed]",
      "text/plain": [
       "<Figure size 432x288 with 1 Axes>"
      ]
     },
     "metadata": {
      "needs_background": "light"
     },
     "output_type": "display_data"
    }
   ],
   "source": [
    "plt.plot(np.arange(1,11) * 20, scores[:,3], '-o', label = \"Cohen Kappa\")\n",
    "plt.plot(np.arange(1,11) * 20, scores[:,4], '-o', label = \"Quadratic Kappa\")\n",
    "plt.plot(np.arange(1,11) * 20, scores[:,0], '-.', label = 'F1 for \"0\"')\n",
    "plt.plot(np.arange(1,11) * 20, scores[:,1], '-.', label = 'F1 for \"1\"')\n",
    "plt.legend()\n",
    "plt.savefig(\"scores_vs_steps.png\")"
   ]
  },
  {
   "cell_type": "code",
   "execution_count": 25,
   "id": "325359c6-cea4-44b0-90f2-12eb0505b8db",
   "metadata": {},
   "outputs": [
    {
     "data": {
      "text/plain": [
       "array([0.        , 0.        , 0.        , 0.        , 0.        ,\n",
       "       0.01086957, 0.03636364, 0.0582878 , 0.06153846, 0.07407407])"
      ]
     },
     "execution_count": 25,
     "metadata": {},
     "output_type": "execute_result"
    }
   ],
   "source": [
    "scores[:,1]"
   ]
  }
 ],
 "metadata": {
  "kernelspec": {
   "display_name": "Python 3 (ipykernel)",
   "language": "python",
   "name": "python3"
  },
  "language_info": {
   "codemirror_mode": {
    "name": "ipython",
    "version": 3
   },
   "file_extension": ".py",
   "mimetype": "text/x-python",
   "name": "python",
   "nbconvert_exporter": "python",
   "pygments_lexer": "ipython3",
   "version": "3.10.6"
  }
 },
 "nbformat": 4,
 "nbformat_minor": 5
}
