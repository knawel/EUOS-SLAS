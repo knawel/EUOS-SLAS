{
 "cells": [
  {
   "cell_type": "code",
   "execution_count": 101,
   "id": "d53a1ee8-4988-476e-9cd9-bf9c225b0847",
   "metadata": {},
   "outputs": [],
   "source": [
    "import pickle\n",
    "import sys\n",
    "import pandas as pd\n",
    "from os.path import join\n",
    "import os\n",
    "import numpy as np"
   ]
  },
  {
   "cell_type": "code",
   "execution_count": 102,
   "id": "e76c86f3-b596-4c66-a95d-1f2d4b6d79c4",
   "metadata": {},
   "outputs": [],
   "source": [
    "import lightgbm as lgb\n",
    "from lightgbm import LGBMClassifier\n",
    "\n",
    "from sklearn.tree import DecisionTreeClassifier\n",
    "from sklearn.preprocessing import StandardScaler\n",
    "from sklearn.metrics import f1_score, cohen_kappa_score\n",
    "from sklearn.pipeline import Pipeline\n",
    "from sklearn.model_selection import train_test_split"
   ]
  },
  {
   "cell_type": "code",
   "execution_count": 103,
   "id": "fd0a4d04-58c4-46bd-a9a3-c157e0e32c87",
   "metadata": {},
   "outputs": [],
   "source": [
    "from sklearn.metrics import confusion_matrix"
   ]
  },
  {
   "cell_type": "code",
   "execution_count": 104,
   "id": "70438ec2-9de0-423f-aa46-3ce2e1f8659f",
   "metadata": {},
   "outputs": [],
   "source": [
    "import matplotlib.pyplot as plt"
   ]
  },
  {
   "cell_type": "code",
   "execution_count": 172,
   "id": "8ead4cfc-c71c-4ceb-be8b-5545342532d2",
   "metadata": {},
   "outputs": [],
   "source": []
  },
  {
   "cell_type": "code",
   "execution_count": 122,
   "id": "9430a48e-f3c4-4d4a-ad60-08bdc8742a2b",
   "metadata": {},
   "outputs": [],
   "source": [
    "data_folder = \"../data/preprocessed/\"\n",
    "X = pd.read_pickle(join(data_folder, \"X.pk.zip\"))\n",
    "y = pd.read_pickle(join(data_folder, \"Y.pk.zip\"))\n",
    "\n",
    "X_mat = X.values\n",
    "y_vec = y.values.flatten()\n",
    "indices = X.index\n",
    "X_train, X_test, y_train, y_test, i_train, i_test = train_test_split(X_mat, y_vec, indices, test_size=0.11, random_state=123)\n"
   ]
  },
  {
   "cell_type": "code",
   "execution_count": 123,
   "id": "05c55dcf-ae78-438d-a41c-13611181b36a",
   "metadata": {},
   "outputs": [
    {
     "data": {
      "text/plain": [
       "(62932, 203)"
      ]
     },
     "execution_count": 123,
     "metadata": {},
     "output_type": "execute_result"
    }
   ],
   "source": [
    "X_train.shape"
   ]
  },
  {
   "cell_type": "code",
   "execution_count": 124,
   "id": "d214b9f8-f3cf-49e6-a3ff-d6da6c6c0acc",
   "metadata": {},
   "outputs": [
    {
     "name": "stdout",
     "output_type": "stream",
     "text": [
      "The number of features: 203\n",
      "TRAIN 0: 1823, 1: 2509, 2: 58600\n",
      "TEST  0: 218, 1: 326, 2: 7235\n"
     ]
    },
    {
     "data": {
      "text/plain": [
       "30"
      ]
     },
     "execution_count": 124,
     "metadata": {},
     "output_type": "execute_result"
    }
   ],
   "source": [
    "sys.stdout.write(f\"The number of features: {X_mat.shape[1]}\\n\")\n",
    "sys.stdout.write(f\"TRAIN \\\n",
    "0: {np.sum(y_train == 0)}, 1: {np.sum(y_train == 1)}, 2: {np.sum(y_train == 2)}\\n\")\n",
    "\n",
    "sys.stdout.write(f\"TEST  \\\n",
    "0: {np.sum(y_test == 0)}, 1: {np.sum(y_test == 1)}, 2: {np.sum(y_test == 2)}\\n\")"
   ]
  },
  {
   "cell_type": "markdown",
   "id": "06d8b83f-68c6-4c63-bbd1-0c8d9833e43a",
   "metadata": {
    "tags": []
   },
   "source": [
    "# Model"
   ]
  },
  {
   "cell_type": "markdown",
   "id": "ae64b0a6-b46d-4920-9fbf-907da6431edc",
   "metadata": {
    "tags": []
   },
   "source": [
    "## SKlearn - like"
   ]
  },
  {
   "cell_type": "code",
   "execution_count": 125,
   "id": "552e980f-d08e-4dab-acd7-9843a0bd5777",
   "metadata": {},
   "outputs": [],
   "source": [
    "classifiers = {\n",
    "    \"Tree w\": DecisionTreeClassifier(class_weight='balanced'),\n",
    "    \"Tree cw\": DecisionTreeClassifier(criterion = 'log_loss',\n",
    "                                     class_weight='balanced'),\n",
    "    # \"LGBMC\": LGBMClassifier(class_weight={0: 5, 1: 5, 2: 1}),\n",
    "    \"LGBMC\": LGBMClassifier(),\n",
    "    \"LGBMC bo\": LGBMClassifier(\n",
    "        class_weight='balanced',\n",
    "    objective = 'multiclass')\n",
    "}"
   ]
  },
  {
   "cell_type": "code",
   "execution_count": 10,
   "id": "0be00d0b-2262-409c-b3f6-65969df7afc3",
   "metadata": {},
   "outputs": [],
   "source": [
    "# preprocessor."
   ]
  },
  {
   "cell_type": "code",
   "execution_count": 126,
   "id": "8675ba2c-f7af-4f0c-bdcf-c3cd35d86e4d",
   "metadata": {},
   "outputs": [
    {
     "name": "stdout",
     "output_type": "stream",
     "text": [
      "Model:Tree w; score:0.006499323611470209; all_score:[0.01716738 0.06       0.92634797]\n",
      "Model:Tree cw; score:0.017006835590186675; all_score:[0.0373444  0.07952872 0.92741543]\n",
      "Model:LGBMC; score:0.016836367508788697; all_score:[0.01769912 0.         0.96367877]\n",
      "Model:LGBMC bo; score:0.052556191508088435; all_score:[0.0669145  0.07746479 0.85800015]\n"
     ]
    }
   ],
   "source": [
    "preprocessor = StandardScaler()\n",
    "for cla in classifiers:\n",
    "    pipeline = Pipeline(steps=[\n",
    "        ('preprocessor', preprocessor)\n",
    "        , ('classifier', classifiers[cla])\n",
    "    ])\n",
    "    model = pipeline.fit(X_train, y_train)\n",
    "    predictions = model.predict(X_test)\n",
    "    score = f1_score(predictions, y_test, average=None)\n",
    "    score2 = calc_custom_kappa(y_test, predictions)\n",
    "    print(f'Model:{cla}; score:{score2}; all_score:{score}')"
   ]
  },
  {
   "cell_type": "markdown",
   "id": "6f1899f5-294a-42bd-80ef-da7b00708785",
   "metadata": {
    "tags": []
   },
   "source": [
    "## lgb-like"
   ]
  },
  {
   "cell_type": "code",
   "execution_count": 127,
   "id": "6c5c9b20-f243-4160-9426-ac25b7aeade1",
   "metadata": {},
   "outputs": [],
   "source": [
    "def kappa_metric(dy_true, dy_pred):\n",
    "    \"\"\"An eval metric that always returns the same value\"\"\"\n",
    "    metric_name = 'constant_metric'\n",
    "    preds = dy_pred.reshape(3, -1).T\n",
    "    preds = preds.argmax(axis = 1)\n",
    "    value = cohen_kappa_score(dy_true, dy_pred)\n",
    "    is_higher_better = True\n",
    "    return metric_name, value, is_higher_better\n",
    "\n",
    "evals_result = {}\n",
    "\n",
    "\n",
    "def calc_custom_kappa(actuals, preds, n=3):\n",
    "    # from here\n",
    "    # https://www.kaggle.com/code/aroraaman/quadratic-kappa-metric-explained-in-5-simple-steps/notebook\n",
    "    # but later it's better to move to something like that\n",
    "    # https://www.kaggle.com/code/tsmith26/lightgbm-custom-objective-for-weighted-kappa\n",
    "    conf_m = confusion_matrix(actuals, preds)\n",
    "    w = np.zeros((n, n))\n",
    "    for i_ in range(len(w)):\n",
    "        for j_ in range(len(w)):\n",
    "            w[i_][j_] = float(((i_ - j_) ** 2) / (n - 1) ** 2)\n",
    "\n",
    "    act_hist = np.zeros([n])\n",
    "    for item in actuals:\n",
    "        act_hist[item] += 1\n",
    "\n",
    "    pred_hist = np.zeros([n])\n",
    "    for item in preds:\n",
    "        pred_hist[item] += 1\n",
    "    e_mat = np.outer(act_hist, pred_hist)\n",
    "\n",
    "    e_mat = e_mat / e_mat.sum()\n",
    "    conf_m = conf_m / conf_m.sum()\n",
    "\n",
    "    num = 0\n",
    "    den = 0\n",
    "    for i_ in range(len(w)):\n",
    "        for j_ in range(len(w)):\n",
    "            num += w[i_][j_] * conf_m[i_][j_]\n",
    "            den += w[i_][j_] * e_mat[i_][j_]\n",
    "\n",
    "    weighted_kappa = (1 - (num / den))\n",
    "    return weighted_kappa\n",
    "\n",
    "\n",
    "\n",
    "\n",
    "def evalerror(preds, dtrain):\n",
    "\n",
    "    labels = dtrain.get_label()\n",
    "    preds = preds.reshape(3, -1).T\n",
    "    preds = preds.argmax(axis = 1)\n",
    "    f_score = f1_score(labels , preds,  average = 'weighted')\n",
    "    return 'f1_score', f_score, True"
   ]
  },
  {
   "cell_type": "code",
   "execution_count": 128,
   "id": "8e8793fe-b85a-4c07-81d2-514bc310d4fb",
   "metadata": {},
   "outputs": [],
   "source": [
    "scaler = StandardScaler()\n",
    "scaler.fit(X_train)\n",
    "X_train_sc = scaler.transform(X_train)\n",
    "X_test_sc = scaler.transform(X_test)\n",
    "train_data = lgb.Dataset(X_train_sc, label=y_train)\n",
    "validation_data = lgb.Dataset(X_test_sc, label=y_test)"
   ]
  },
  {
   "cell_type": "code",
   "execution_count": 129,
   "id": "641bd92a-2801-4932-b96a-4bfac75fc5a0",
   "metadata": {},
   "outputs": [],
   "source": [
    "params = {\n",
    "    'learning_rate': 0.01,\n",
    "    'boosting_type': 'gbdt',\n",
    "    'objective': 'multiclassova',\n",
    "    'metric': 'multi_logloss',\n",
    "    'num_class': 3,\n",
    "    'is_unbalance': True\n",
    "}\n",
    "\n"
   ]
  },
  {
   "cell_type": "code",
   "execution_count": 130,
   "id": "00b62bf5-67a3-4a6a-8aad-6923078a8a93",
   "metadata": {},
   "outputs": [
    {
     "name": "stdout",
     "output_type": "stream",
     "text": [
      "[LightGBM] [Info] Number of positive: 1823, number of negative: 61109\n",
      "[LightGBM] [Info] Number of positive: 2509, number of negative: 60423\n",
      "[LightGBM] [Info] Number of positive: 58600, number of negative: 4332\n",
      "[LightGBM] [Warning] Auto-choosing col-wise multi-threading, the overhead of testing was 0.021671 seconds.\n",
      "You can set `force_col_wise=true` to remove the overhead.\n",
      "[LightGBM] [Info] Total Bins 19126\n",
      "[LightGBM] [Info] Number of data points in the train set: 62932, number of used features: 196\n",
      "[LightGBM] [Info] [binary:BoostFromScore]: pavg=0.028968 -> initscore=-3.512176\n",
      "[LightGBM] [Info] Start training from score -3.512176\n",
      "[LightGBM] [Info] [binary:BoostFromScore]: pavg=0.039868 -> initscore=-3.181486\n",
      "[LightGBM] [Info] Start training from score -3.181486\n",
      "[LightGBM] [Info] [binary:BoostFromScore]: pavg=0.931164 -> initscore=2.604705\n",
      "[LightGBM] [Info] Start training from score 2.604705\n"
     ]
    }
   ],
   "source": [
    "scores = []\n",
    "bst = lgb.train(params, train_data, 750)  # , feval=kappa_metric)\n",
    "y_predicted = bst.predict(X_test_sc)\n",
    "ypr = [np.argmax(line) for line in y_predicted]\n",
    "k_score = cohen_kappa_score(y_test, ypr)\n",
    "kk_score = calc_custom_kappa(y_test, ypr)\n",
    "f1_scores = f1_score(y_test, ypr, average=None)\n",
    "s = np.append(f1_scores, k_score)\n",
    "s = np.append(s, kk_score)\n",
    "scores.append(s)"
   ]
  },
  {
   "cell_type": "code",
   "execution_count": 131,
   "id": "3d389d9a-ffee-451e-b928-c87769fbac68",
   "metadata": {},
   "outputs": [
    {
     "data": {
      "text/plain": [
       "0.0707856784303984"
      ]
     },
     "execution_count": 131,
     "metadata": {},
     "output_type": "execute_result"
    }
   ],
   "source": [
    "calc_custom_kappa(y_test, ypr)\n",
    "    "
   ]
  },
  {
   "cell_type": "code",
   "execution_count": 132,
   "id": "0f9a71cd-7901-43c1-b4c3-90366ecba4ca",
   "metadata": {},
   "outputs": [
    {
     "name": "stdout",
     "output_type": "stream",
     "text": [
      "[[0.07936508 0.07048458 0.89146669 0.04171179 0.07078568]]\n"
     ]
    }
   ],
   "source": [
    "scores = np.array(scores)\n",
    "print(scores)"
   ]
  },
  {
   "cell_type": "markdown",
   "id": "4c6e7cc7-327e-4c7c-9670-4dbe8757925a",
   "metadata": {},
   "source": [
    "### Check what is wrongly predicted"
   ]
  },
  {
   "cell_type": "code",
   "execution_count": 133,
   "id": "3c6ecf3d-ace9-460f-8a35-b8525787b689",
   "metadata": {},
   "outputs": [],
   "source": [
    "df_smiles = pd.read_csv(\"../data/raw/train.csv\", index_col=0)"
   ]
  },
  {
   "cell_type": "code",
   "execution_count": 134,
   "id": "94ccd188-f26b-434d-977c-b7d7a32f29cf",
   "metadata": {},
   "outputs": [
    {
     "data": {
      "text/plain": [
       "'Cc1ccc(C(=O)NC2CCCC2)cc1S(=O)(=O)N1CCOCC1'"
      ]
     },
     "execution_count": 134,
     "metadata": {},
     "output_type": "execute_result"
    }
   ],
   "source": [
    "df_smiles.loc['EOS2088',:].values[0]"
   ]
  },
  {
   "cell_type": "code",
   "execution_count": 135,
   "id": "c73ba2d2-df49-45fb-bc04-b9f3b5d9598f",
   "metadata": {},
   "outputs": [
    {
     "name": "stdout",
     "output_type": "stream",
     "text": [
      "COc1ccc(Nc2nc(N3CCN(S(C)(=O)=O)CC3)nc3ccccc23)cc1\t2\n",
      "COc1ccc(N2CCCn3c2nc2c3c(=O)n(CCC(C)C)c(=O)n2C)cc1\t2\n",
      "CCC(C)(C)N1CCN(C(=O)N[C@@H](C)c2ccc(-n3ccnn3)cc2)CC1\t2\n",
      "CCN(Cc1ccc(OC)c(F)c1)S(=O)(=O)c1ccc2c(c1)CCC(=O)N2\t2\n",
      "CCOc1ccc(NC(=O)CN2C(=O)NC3(CCC(C)CC3)C2=O)cc1\t2\n",
      "Cc1[nH]c(=O)[nH]c1C(=O)N1Cc2sccc2CC1(C)C\t2\n",
      "Cc1ccc(C)c(C(=O)C2=C(O)C(=O)N(CCN3CCOCC3)[C@H]2c2ccco2)c1\t1\n",
      "Cl.N[C@@H]1CCN(C(=O)CCCOc2ccc(F)cc2)C1\t2\n",
      "Cc1cc(NC(=O)CN2CCN(S(=O)(=O)Cc3ccccc3)CC2)n(C)n1\t2\n",
      "C[C@H]1CCCCN1Cc1ccccc1CNC(=O)Cn1ccc(=O)[nH]c1=O\t2\n",
      "Cc1nn(C)c(C)c1S(=O)(=O)N(C)[C@@H](C)c1ccc(F)cc1\t2\n",
      "COc1cccc2c1CN(C(=O)NC[C@@H]1CC(=O)N(C)[C@H]1c1cnn(C)c1C)C2\t2\n",
      "CC(=O)N1C[C@H](O)C[C@@H]1C(=O)Nc1ccc(OCC2CC2)cc1\t2\n",
      "COCCn1c(N)c(C(=O)CN2CCN(c3ccc(O)cc3)CC2)c(=O)[nH]c1=O\t2\n",
      "COc1ccccc1NCCCn1c(C)cn2c3c(=O)[nH]c(=O)n(C)c3nc12\t2\n",
      "CC1(C)C(=O)Nc2ccc(C(=O)N[C@H]3CCCn4ncnc43)cc21\t2\n",
      "COc1cccc([C@@H]2CCCN2C(=O)C2CCCC2)c1\t2\n",
      "CS(=O)(=O)c1nc(C(=O)Nc2ccc3ccccc3n2)c2ccccn12\t1\n",
      "CCOc1ccc(-c2nc3ccccc3c(=O)o2)cc1\t2\n",
      "Cc1ccc(CN(C(=O)C[S@](=O)c2ccc(C)cn2)C2CC2)cc1\t2\n",
      "O=C(NCC[C@H]1CCCO1)c1ccc(CN2C(=O)CCC2=O)cc1\t2\n",
      "Cc1nc(-c2cccc(NC(=O)CN[C@H]3CCC(=O)NC34CCC4)c2)cs1\t2\n",
      "CNC(=O)C1CN(C(=O)COCC(F)(F)F)C1\t1\n",
      "COCc1ncsc1C(=O)NCCN(C)C\t2\n",
      "CN(C)c1cccc(CNC(=O)c2csc(-c3ccc4c(c3)OCO4)n2)n1\t1\n",
      "COc1ccc(O[C@@H](C)C(=O)N2CCC(n3cccc3)CC2)cc1\t2\n",
      "COc1ccc2nc(C(=O)Nc3ccc4c(c3)CCN4C(C)=O)ccc2c1\t2\n",
      "COc1ccc(C(CC(=O)N2CCN(C(=O)c3ccco3)CC2)N2Cc3ccccc3C2=O)cc1OC\t2\n",
      "CN(C)C(=O)CNc1cc(S(=O)(=O)N2CCCCCC2)ccc1OCC(F)(F)F\t2\n",
      "COc1cc2c(cc1CN(C)CC1CCN(c3ccccc3)C1)OCCCO2\t2\n"
     ]
    }
   ],
   "source": [
    "j = 0\n",
    "i = 0\n",
    "\n",
    "true_target = 0\n",
    "\n",
    "\n",
    "while j < 30:\n",
    "    diff = train_data.get_label()[i] - ypr[i]\n",
    "    if np.abs(diff) > 0.5 and true_target == int(train_data.get_label()[i]):\n",
    "        molid = i_train[i]\n",
    "        smiles = df_smiles.loc[molid, :].values[0]\n",
    "        print(f'{smiles}\\t{ypr[i]}')\n",
    "        j+=1\n",
    "    i+=1"
   ]
  }
 ],
 "metadata": {
  "kernelspec": {
   "display_name": "Python 3 (ipykernel)",
   "language": "python",
   "name": "python3"
  },
  "language_info": {
   "codemirror_mode": {
    "name": "ipython",
    "version": 3
   },
   "file_extension": ".py",
   "mimetype": "text/x-python",
   "name": "python",
   "nbconvert_exporter": "python",
   "pygments_lexer": "ipython3",
   "version": "3.9.15"
  }
 },
 "nbformat": 4,
 "nbformat_minor": 5
}
