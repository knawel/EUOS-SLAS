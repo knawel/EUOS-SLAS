{
 "cells": [
  {
   "cell_type": "code",
   "execution_count": 1,
   "id": "50c6cd36-ca81-440c-8395-cf1b537634ee",
   "metadata": {},
   "outputs": [],
   "source": [
    "import pickle\n",
    "import sys\n",
    "import pandas as pd\n",
    "from os.path import join\n",
    "import os\n",
    "import numpy as np"
   ]
  },
  {
   "cell_type": "code",
   "execution_count": 2,
   "id": "67fb20a7-506b-459d-a7dd-a0c69580286d",
   "metadata": {},
   "outputs": [],
   "source": [
    "data_folder = \"../data/preprocessed/\"\n",
    "X = pd.read_pickle(join(data_folder, \"X.pk.zip\"))"
   ]
  },
  {
   "cell_type": "code",
   "execution_count": 3,
   "id": "fb5cd77a-a2dd-475a-ab96-f5071dbb7da7",
   "metadata": {},
   "outputs": [],
   "source": [
    "a = X.columns\n",
    "\n",
    "with open(\"parameters.txt\", \"w\") as iFile:\n",
    "    for i in a:\n",
    "        iFile.write(f'{i}\\n')"
   ]
  },
  {
   "cell_type": "code",
   "execution_count": null,
   "id": "5dbc2239-d7f5-4f3d-bb45-07afc913d49b",
   "metadata": {},
   "outputs": [],
   "source": []
  }
 ],
 "metadata": {
  "kernelspec": {
   "display_name": "Python 3 (ipykernel)",
   "language": "python",
   "name": "python3"
  },
  "language_info": {
   "codemirror_mode": {
    "name": "ipython",
    "version": 3
   },
   "file_extension": ".py",
   "mimetype": "text/x-python",
   "name": "python",
   "nbconvert_exporter": "python",
   "pygments_lexer": "ipython3",
   "version": "3.10.8"
  }
 },
 "nbformat": 4,
 "nbformat_minor": 5
}
