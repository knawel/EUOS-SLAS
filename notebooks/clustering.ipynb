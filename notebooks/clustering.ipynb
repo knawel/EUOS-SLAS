{
 "cells": [
  {
   "cell_type": "code",
   "execution_count": 3,
   "id": "730e3d98",
   "metadata": {},
   "outputs": [],
   "source": [
    "import pandas as pd\n",
    "import numpy as np\n",
    "from FPSim2.io import create_db_file\n",
    "from FPSim2 import FPSim2Engine\n",
    "import scipy\n",
    "import scipy.spatial.distance as ssd\n",
    "from scipy.cluster.hierarchy import linkage, dendrogram\n",
    "import scipy.cluster.hierarchy as sch\n"
   ]
  },
  {
   "cell_type": "code",
   "execution_count": 4,
   "id": "1eb6ae1f",
   "metadata": {},
   "outputs": [],
   "source": [
    "\n",
    "import numpy as np\n",
    "\n",
    "from sklearn.cluster import DBSCAN\n",
    "from sklearn import metrics\n",
    "from sklearn.datasets import make_blobs\n",
    "from sklearn.preprocessing import StandardScaler\n",
    "from sklearn.cluster import OPTICS"
   ]
  },
  {
   "cell_type": "code",
   "execution_count": 5,
   "id": "c8006f62-98a6-4a47-8035-d56394a213c3",
   "metadata": {},
   "outputs": [
    {
     "name": "stdout",
     "output_type": "stream",
     "text": [
      "%pylab is deprecated, use %matplotlib inline and import the required libraries.\n",
      "Populating the interactive namespace from numpy and matplotlib\n"
     ]
    }
   ],
   "source": [
    "%pylab inline\n",
    "%config InlineBackend.figure_format =   'svg'\n",
    "\n",
    "# CT colors: blue x 3, gray x 3, pink x 3\n",
    "# Shades and Tints from https://www.colorhexa.com/da6388\n",
    "CT_cols = ['#4a79a5', '#93b4d2', '#e6edf4',\n",
    "           '#848688', '#b5b6b7', '#f2f2f2'\n",
    "           '#da6388', '#eaa9be', '#f4d2dd' ]"
   ]
  },
  {
   "cell_type": "code",
   "execution_count": 6,
   "id": "545b81c0-d0d1-4cf7-9bee-45f2fc10dad3",
   "metadata": {},
   "outputs": [],
   "source": [
    "def hex_to_rgb(value):\n",
    "    '''\n",
    "    Converts hex to rgb colours\n",
    "    value: string of 6 characters representing a hex colour.\n",
    "    Returns: list length 3 of RGB values'''\n",
    "    value = value.strip(\"#\") # removes hash symbol if present\n",
    "    lv = len(value)\n",
    "    return tuple(int(value[i:i + lv // 3], 16) for i in range(0, lv, lv // 3))\n",
    "\n",
    "\n",
    "def rgb_to_dec(value):\n",
    "    '''\n",
    "    Converts rgb to decimal colours (i.e. divides each value by 256)\n",
    "    value: list (length 3) of RGB values\n",
    "    Returns: list (length 3) of decimal values'''\n",
    "    return [v/256 for v in value]\n",
    "def get_continuous_cmap(hex_list, float_list=None):\n",
    "    ''' creates and returns a color map that can be used in heat map figures.\n",
    "        If float_list is not provided, colour map graduates linearly between each color in hex_list.\n",
    "        If float_list is provided, each color in hex_list is mapped to the respective location in float_list. \n",
    "        \n",
    "        Parameters\n",
    "        ----------\n",
    "        hex_list: list of hex code strings\n",
    "        float_list: list of floats between 0 and 1, same length as hex_list. Must start with 0 and end with 1.\n",
    "        \n",
    "        Returns\n",
    "        ----------\n",
    "        colour map'''\n",
    "    rgb_list = [rgb_to_dec(hex_to_rgb(i)) for i in hex_list]\n",
    "    if float_list:\n",
    "        pass\n",
    "    else:\n",
    "        float_list = list(np.linspace(0,1,len(rgb_list)))\n",
    "        \n",
    "    cdict = dict()\n",
    "    for num, col in enumerate(['red', 'green', 'blue']):\n",
    "        col_list = [[float_list[i], rgb_list[i][num], rgb_list[i][num]] for i in range(len(float_list))]\n",
    "        cdict[col] = col_list\n",
    "    cmp = LinearSegmentedColormap('my_cmp', segmentdata=cdict, N=256)\n",
    "    return cmp"
   ]
  },
  {
   "cell_type": "code",
   "execution_count": 7,
   "id": "dc70d34a-d5f4-4835-8694-0ca05436b1fc",
   "metadata": {},
   "outputs": [],
   "source": [
    "from matplotlib.colors import LinearSegmentedColormap\n",
    "cma = get_continuous_cmap([CT_cols[0], CT_cols[7]])"
   ]
  },
  {
   "cell_type": "markdown",
   "id": "a4c5ee23",
   "metadata": {},
   "source": [
    "# Read // Write"
   ]
  },
  {
   "cell_type": "code",
   "execution_count": 10,
   "id": "10e62f51-8ecc-4dfb-af54-5106a5417f80",
   "metadata": {},
   "outputs": [],
   "source": [
    "dfile = \"../data/raw/train.csv\""
   ]
  },
  {
   "cell_type": "code",
   "execution_count": 8,
   "id": "f6b6639d-f07e-4eff-b210-bdff894b1905",
   "metadata": {},
   "outputs": [],
   "source": [
    "smi_file = \"../data/derived/train.smi\"\n",
    "h5_file = '../data/derived/train.h5'\n",
    "# id_output = \"C2_compounds.ID.txt\"\n",
    "# ccccccc = \"C2_compounds.txt\""
   ]
  },
  {
   "cell_type": "code",
   "execution_count": 11,
   "id": "8a106b58-2283-4c83-85b8-fae8370105cb",
   "metadata": {},
   "outputs": [],
   "source": [
    "df = pd.read_csv(dfile, index_col=0)\n",
    "# df_smi = df.loc[df['is full']==1, \"product\"]\n",
    "\n",
    "# df_dataf = df.loc[df['is full']==1, [\"product\", \"enrichment(20062_C1_E2)\"]]\n",
    "\n",
    "# df_smi.to_csv(\"C2_compounds_.smi\", sep=\"\\t\", header = False)\n",
    "# df_dataf.to_csv(exp_dataf)"
   ]
  },
  {
   "cell_type": "code",
   "execution_count": 13,
   "id": "21ea5933",
   "metadata": {},
   "outputs": [],
   "source": [
    "# df"
   ]
  },
  {
   "cell_type": "markdown",
   "id": "f2a5e100-4060-434c-918b-51363c5ce76c",
   "metadata": {
    "tags": []
   },
   "source": [
    "then in bash: `obabel -xc -ismi C2_compounds.smi -osmi -O C2_compounds.xc.smi`\n"
   ]
  },
  {
   "cell_type": "code",
   "execution_count": 14,
   "id": "836b587d",
   "metadata": {},
   "outputs": [],
   "source": [
    "smiles = []\n",
    "ind_names = []\n",
    "smiles_dict = {}\n",
    "with open(smi_file, 'r') as iFile:\n",
    "    for i, s in enumerate(iFile):\n",
    "        S = s.strip().split()\n",
    "        smiles.append([S[0], i])\n",
    "        ind_names.append(S[1])\n",
    "        smiles_dict[S[1]] = S[0]"
   ]
  },
  {
   "cell_type": "code",
   "execution_count": 15,
   "id": "68b60018-20c8-4fb3-8b31-16cce38fd144",
   "metadata": {},
   "outputs": [],
   "source": [
    "create_db_file(smiles, h5_file, 'Morgan',\n",
    "               {'radius': 2, 'nBits': 2048})"
   ]
  },
  {
   "cell_type": "code",
   "execution_count": 21,
   "id": "24a11fa0",
   "metadata": {},
   "outputs": [],
   "source": [
    "# with open(id_output, 'w') as iFile:\n",
    "#     for i in ind_names:\n",
    "#         iFile.write(i + \"\\n\")\n",
    "#     iFile.write(\"\\n\")"
   ]
  },
  {
   "cell_type": "code",
   "execution_count": 22,
   "id": "f28ffcc0",
   "metadata": {},
   "outputs": [],
   "source": [
    "# df = pd.read_csv(exp_dataf, index_col=0)"
   ]
  },
  {
   "cell_type": "code",
   "execution_count": null,
   "id": "8ff7ee92-9762-4d82-b140-2e977a230658",
   "metadata": {},
   "outputs": [],
   "source": [
    "# # Checking that distance matrix is 1- sim. That is so\n",
    "# ac = []\n",
    "# for i, s in enumerate(list(smiles_dict)):\n",
    "#     if s in id_a:\n",
    "#         ac.append([smiles_dict[s], i])\n",
    "# #         print(i,s )\n",
    "# create_db_file(ac, \"tmp.h5\", 'Morgan',\n",
    "#                {'radius': 2, 'nBits': 2048})   \n",
    "# fp_filename = \"tmp.h5\"\n",
    "# fpe = FPSim2Engine(fp_filename)\n",
    "# query = 'CNC(=O)c1cc(NC(=O)CN2CC2)cc(c1)c1cccnc1'\n",
    "# results = fpe.similarity(query, 0.0, n_workers=1)\n",
    "# results"
   ]
  },
  {
   "cell_type": "markdown",
   "id": "006269e7",
   "metadata": {},
   "source": [
    "# Calc distances"
   ]
  },
  {
   "cell_type": "code",
   "execution_count": 16,
   "id": "7e86d13a-92b8-4cdd-ae61-f32f2ec9e1e8",
   "metadata": {},
   "outputs": [],
   "source": [
    "fp_filename = h5_file\n",
    "fpe = FPSim2Engine(fp_filename)\n",
    "ids = fpe.fps[:, 0]"
   ]
  },
  {
   "cell_type": "code",
   "execution_count": 17,
   "id": "e9db8f56-f131-4ab5-8217-436f45fd1207",
   "metadata": {},
   "outputs": [],
   "source": [
    "ind_names = np.array(ind_names)\n",
    "ind_names_res = ind_names[ids]"
   ]
  },
  {
   "cell_type": "code",
   "execution_count": null,
   "id": "8382fef3-44d4-4ea2-8cc6-d45af1c98e1b",
   "metadata": {},
   "outputs": [
    {
     "name": "stderr",
     "output_type": "stream",
     "text": [
      "  0%|          | 128/70711 [00:07<46:33, 25.27it/s]  "
     ]
    }
   ],
   "source": [
    "csr_matrix = fpe.symmetric_distance_matrix(0.0, n_workers=12)"
   ]
  },
  {
   "cell_type": "code",
   "execution_count": null,
   "id": "376b7a54-ed15-415a-bc24-39f834f2327a",
   "metadata": {},
   "outputs": [],
   "source": [
    "dense_matrix = csr_matrix.todense()"
   ]
  },
  {
   "cell_type": "code",
   "execution_count": 27,
   "id": "08b73c3b-0c36-4098-b4ff-01704dbbe09c",
   "metadata": {},
   "outputs": [],
   "source": [
    "# a = dense_matrix[5:760, 5:760]\n",
    "# id_a = ind_names_res[5:760]"
   ]
  },
  {
   "cell_type": "code",
   "execution_count": null,
   "id": "3451af57-49cb-4c02-8448-dcb2f043a51d",
   "metadata": {},
   "outputs": [],
   "source": [
    "dense_matrix.shape"
   ]
  },
  {
   "cell_type": "code",
   "execution_count": 29,
   "id": "d0867a62-bb72-403b-aa5a-869024247333",
   "metadata": {},
   "outputs": [
    {
     "data": {
      "image/svg+xml": [
       "<?xml version=\"1.0\" encoding=\"utf-8\" standalone=\"no\"?>\n",
       "<!DOCTYPE svg PUBLIC \"-//W3C//DTD SVG 1.1//EN\"\n",
       "  \"http://www.w3.org/Graphics/SVG/1.1/DTD/svg11.dtd\">\n",
       "<svg height=\"344.359219pt\" version=\"1.1\" viewBox=\"0 0 341.691125 344.359219\" width=\"341.691125pt\" xmlns=\"http://www.w3.org/2000/svg\" xmlns:xlink=\"http://www.w3.org/1999/xlink\">\n",
       " <metadata>\n",
       "  <rdf:RDF xmlns:cc=\"http://creativecommons.org/ns#\" xmlns:dc=\"http://purl.org/dc/elements/1.1/\" xmlns:rdf=\"http://www.w3.org/1999/02/22-rdf-syntax-ns#\">\n",
       "   <cc:Work>\n",
       "    <dc:type rdf:resource=\"http://purl.org/dc/dcmitype/StillImage\"/>\n",
       "    <dc:date>2021-07-22T13:35:34.669772</dc:date>\n",
       "    <dc:format>image/svg+xml</dc:format>\n",
       "    <dc:creator>\n",
       "     <cc:Agent>\n",
       "      <dc:title>Matplotlib v3.4.2, https://matplotlib.org/</dc:title>\n",
       "     </cc:Agent>\n",
       "    </dc:creator>\n",
       "   </cc:Work>\n",
       "  </rdf:RDF>\n",
       " </metadata>\n",
       " <defs>\n",
       "  <style type=\"text/css\">*{stroke-linecap:butt;stroke-linejoin:round;}</style>\n",
       " </defs>\n",
       " <g id=\"figure_1\">\n",
       "  <g id=\"patch_1\">\n",
       "   <path d=\"M 0 344.359219 \n",
       "L 341.691125 344.359219 \n",
       "L 341.691125 -0 \n",
       "L 0 -0 \n",
       "z\n",
       "\" style=\"fill:none;\"/>\n",
       "  </g>\n",
       "  <g id=\"axes_1\">\n",
       "   <g id=\"patch_2\">\n",
       "    <path d=\"M 10.7 307.999219 \n",
       "L 278.54 307.999219 \n",
       "L 278.54 40.159219 \n",
       "L 10.7 40.159219 \n",
       "z\n",
       "\" style=\"fill:#ffffff;\"/>\n",
       "   </g>\n",
       "   <g clip-path=\"url(#p544ff4041c)\">\n",
       "    <image height=\"268\" id=\"image69660ea43f\" transform=\"scale(1 -1)translate(0 -268)\" width=\"268\" x=\"10.7\" xlink:href=\"data:image/png;base64,\n",
       "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\" y=\"-39.999219\"/>\n",
       "   </g>\n",
       "   <g id=\"matplotlib.axis_1\"/>\n",
       "   <g id=\"matplotlib.axis_2\"/>\n",
       "   <g id=\"patch_3\">\n",
       "    <path d=\"M 10.7 307.999219 \n",
       "L 10.7 40.159219 \n",
       "\" style=\"fill:none;stroke:#000000;stroke-linecap:square;stroke-linejoin:miter;stroke-width:0.8;\"/>\n",
       "   </g>\n",
       "   <g id=\"patch_4\">\n",
       "    <path d=\"M 278.54 307.999219 \n",
       "L 278.54 40.159219 \n",
       "\" style=\"fill:none;stroke:#000000;stroke-linecap:square;stroke-linejoin:miter;stroke-width:0.8;\"/>\n",
       "   </g>\n",
       "   <g id=\"patch_5\">\n",
       "    <path d=\"M 10.7 307.999219 \n",
       "L 278.54 307.999219 \n",
       "\" style=\"fill:none;stroke:#000000;stroke-linecap:square;stroke-linejoin:miter;stroke-width:0.8;\"/>\n",
       "   </g>\n",
       "   <g id=\"patch_6\">\n",
       "    <path d=\"M 10.7 40.159219 \n",
       "L 278.54 40.159219 \n",
       "\" style=\"fill:none;stroke:#000000;stroke-linecap:square;stroke-linejoin:miter;stroke-width:0.8;\"/>\n",
       "   </g>\n",
       "  </g>\n",
       "  <g id=\"axes_2\">\n",
       "   <g id=\"patch_7\">\n",
       "    <path d=\"M 295.28 337.159219 \n",
       "L 311.588 337.159219 \n",
       "L 311.588 10.999219 \n",
       "L 295.28 10.999219 \n",
       "z\n",
       "\" style=\"fill:#ffffff;\"/>\n",
       "   </g>\n",
       "   <g id=\"patch_8\">\n",
       "    <path clip-path=\"url(#pfd58860331)\" d=\"M 295.28 337.159219 \n",
       "L 295.28 335.885156 \n",
       "L 295.28 12.273281 \n",
       "L 295.28 10.999219 \n",
       "L 311.588 10.999219 \n",
       "L 311.588 12.273281 \n",
       "L 311.588 335.885156 \n",
       "L 311.588 337.159219 \n",
       "L 311.588 337.159219 \n",
       "z\n",
       "\" style=\"fill:#ffffff;stroke:#ffffff;stroke-linejoin:miter;stroke-width:0.01;\"/>\n",
       "   </g>\n",
       "   <image height=\"326\" id=\"image9f77c2b827\" transform=\"scale(1 -1)translate(0 -326)\" width=\"17\" x=\"295\" xlink:href=\"data:image/png;base64,\n",
       "iVBORw0KGgoAAAANSUhEUgAAABEAAAFGCAYAAACMkXQBAAABnUlEQVR4nO2ZUQ6DQAgFUem9e29r23/xj0fyshkOMIEBdje6Rbx/0YyMyC4j9jYhIjLipYD0y5FkonJiUo5PJuuJNekOW1xjvWEzyQSxNawW0MTJYsO2RfzabzZJOYtBMjYF5OhDROX0pz5SMLAqCGKHIIgdgYicCLqD2BqIrYHYGiInLgc1Yp8giL2Hz6HE+8QZstywMbEV4iKWYRuC8PAbglhNbPurYWTk1YaonPQzyf349CH5EmRy2IhVZJJHKsT6ONkVTsIH0u+ORmwaOUHsHWIjVrTFLi326Q5iHzNB7B2iEGvlxAfClTEEQewExGqLTU42xD5AEDsG4WQbgiB2CILYCYjVycaVcYvFxFo58YFwshXIpYB8bMRe3z5E8KNJA9E42fodjhSsjhFE9FtzMbGCckRifZwwbEMQhq1CXFqM2Bo4GcrESayLE8QOZYKTIQhihyC8HmvgZAiC2CcIr8cKwckQxEbsqShH8GE48rRxoilHIrbPiDwFENGwKSA2TiSZILaGaIsVEMSWWMwJW/wA8Rk2m3IkmfwBfIa4+Zc0n/kAAAAASUVORK5CYII=\" y=\"-11\"/>\n",
       "   <g id=\"matplotlib.axis_3\"/>\n",
       "   <g id=\"matplotlib.axis_4\">\n",
       "    <g id=\"ytick_1\">\n",
       "     <g id=\"line2d_1\">\n",
       "      <defs>\n",
       "       <path d=\"M 0 0 \n",
       "L 3.5 0 \n",
       "\" id=\"m560c8aa90d\" style=\"stroke:#000000;stroke-width:0.8;\"/>\n",
       "      </defs>\n",
       "      <g>\n",
       "       <use style=\"stroke:#000000;stroke-width:0.8;\" x=\"311.588\" xlink:href=\"#m560c8aa90d\" y=\"298.751597\"/>\n",
       "      </g>\n",
       "     </g>\n",
       "     <g id=\"text_1\">\n",
       "      <!-- 0.2 -->\n",
       "      <g transform=\"translate(318.588 302.550816)scale(0.1 -0.1)\">\n",
       "       <defs>\n",
       "        <path d=\"M 2034 4250 \n",
       "Q 1547 4250 1301 3770 \n",
       "Q 1056 3291 1056 2328 \n",
       "Q 1056 1369 1301 889 \n",
       "Q 1547 409 2034 409 \n",
       "Q 2525 409 2770 889 \n",
       "Q 3016 1369 3016 2328 \n",
       "Q 3016 3291 2770 3770 \n",
       "Q 2525 4250 2034 4250 \n",
       "z\n",
       "M 2034 4750 \n",
       "Q 2819 4750 3233 4129 \n",
       "Q 3647 3509 3647 2328 \n",
       "Q 3647 1150 3233 529 \n",
       "Q 2819 -91 2034 -91 \n",
       "Q 1250 -91 836 529 \n",
       "Q 422 1150 422 2328 \n",
       "Q 422 3509 836 4129 \n",
       "Q 1250 4750 2034 4750 \n",
       "z\n",
       "\" id=\"DejaVuSans-30\" transform=\"scale(0.015625)\"/>\n",
       "        <path d=\"M 684 794 \n",
       "L 1344 794 \n",
       "L 1344 0 \n",
       "L 684 0 \n",
       "L 684 794 \n",
       "z\n",
       "\" id=\"DejaVuSans-2e\" transform=\"scale(0.015625)\"/>\n",
       "        <path d=\"M 1228 531 \n",
       "L 3431 531 \n",
       "L 3431 0 \n",
       "L 469 0 \n",
       "L 469 531 \n",
       "Q 828 903 1448 1529 \n",
       "Q 2069 2156 2228 2338 \n",
       "Q 2531 2678 2651 2914 \n",
       "Q 2772 3150 2772 3378 \n",
       "Q 2772 3750 2511 3984 \n",
       "Q 2250 4219 1831 4219 \n",
       "Q 1534 4219 1204 4116 \n",
       "Q 875 4013 500 3803 \n",
       "L 500 4441 \n",
       "Q 881 4594 1212 4672 \n",
       "Q 1544 4750 1819 4750 \n",
       "Q 2544 4750 2975 4387 \n",
       "Q 3406 4025 3406 3419 \n",
       "Q 3406 3131 3298 2873 \n",
       "Q 3191 2616 2906 2266 \n",
       "Q 2828 2175 2409 1742 \n",
       "Q 1991 1309 1228 531 \n",
       "z\n",
       "\" id=\"DejaVuSans-32\" transform=\"scale(0.015625)\"/>\n",
       "       </defs>\n",
       "       <use xlink:href=\"#DejaVuSans-30\"/>\n",
       "       <use x=\"63.623047\" xlink:href=\"#DejaVuSans-2e\"/>\n",
       "       <use x=\"95.410156\" xlink:href=\"#DejaVuSans-32\"/>\n",
       "      </g>\n",
       "     </g>\n",
       "    </g>\n",
       "    <g id=\"ytick_2\">\n",
       "     <g id=\"line2d_2\">\n",
       "      <g>\n",
       "       <use style=\"stroke:#000000;stroke-width:0.8;\" x=\"311.588\" xlink:href=\"#m560c8aa90d\" y=\"226.813502\"/>\n",
       "      </g>\n",
       "     </g>\n",
       "     <g id=\"text_2\">\n",
       "      <!-- 0.4 -->\n",
       "      <g transform=\"translate(318.588 230.612721)scale(0.1 -0.1)\">\n",
       "       <defs>\n",
       "        <path d=\"M 2419 4116 \n",
       "L 825 1625 \n",
       "L 2419 1625 \n",
       "L 2419 4116 \n",
       "z\n",
       "M 2253 4666 \n",
       "L 3047 4666 \n",
       "L 3047 1625 \n",
       "L 3713 1625 \n",
       "L 3713 1100 \n",
       "L 3047 1100 \n",
       "L 3047 0 \n",
       "L 2419 0 \n",
       "L 2419 1100 \n",
       "L 313 1100 \n",
       "L 313 1709 \n",
       "L 2253 4666 \n",
       "z\n",
       "\" id=\"DejaVuSans-34\" transform=\"scale(0.015625)\"/>\n",
       "       </defs>\n",
       "       <use xlink:href=\"#DejaVuSans-30\"/>\n",
       "       <use x=\"63.623047\" xlink:href=\"#DejaVuSans-2e\"/>\n",
       "       <use x=\"95.410156\" xlink:href=\"#DejaVuSans-34\"/>\n",
       "      </g>\n",
       "     </g>\n",
       "    </g>\n",
       "    <g id=\"ytick_3\">\n",
       "     <g id=\"line2d_3\">\n",
       "      <g>\n",
       "       <use style=\"stroke:#000000;stroke-width:0.8;\" x=\"311.588\" xlink:href=\"#m560c8aa90d\" y=\"154.875408\"/>\n",
       "      </g>\n",
       "     </g>\n",
       "     <g id=\"text_3\">\n",
       "      <!-- 0.6 -->\n",
       "      <g transform=\"translate(318.588 158.674627)scale(0.1 -0.1)\">\n",
       "       <defs>\n",
       "        <path d=\"M 2113 2584 \n",
       "Q 1688 2584 1439 2293 \n",
       "Q 1191 2003 1191 1497 \n",
       "Q 1191 994 1439 701 \n",
       "Q 1688 409 2113 409 \n",
       "Q 2538 409 2786 701 \n",
       "Q 3034 994 3034 1497 \n",
       "Q 3034 2003 2786 2293 \n",
       "Q 2538 2584 2113 2584 \n",
       "z\n",
       "M 3366 4563 \n",
       "L 3366 3988 \n",
       "Q 3128 4100 2886 4159 \n",
       "Q 2644 4219 2406 4219 \n",
       "Q 1781 4219 1451 3797 \n",
       "Q 1122 3375 1075 2522 \n",
       "Q 1259 2794 1537 2939 \n",
       "Q 1816 3084 2150 3084 \n",
       "Q 2853 3084 3261 2657 \n",
       "Q 3669 2231 3669 1497 \n",
       "Q 3669 778 3244 343 \n",
       "Q 2819 -91 2113 -91 \n",
       "Q 1303 -91 875 529 \n",
       "Q 447 1150 447 2328 \n",
       "Q 447 3434 972 4092 \n",
       "Q 1497 4750 2381 4750 \n",
       "Q 2619 4750 2861 4703 \n",
       "Q 3103 4656 3366 4563 \n",
       "z\n",
       "\" id=\"DejaVuSans-36\" transform=\"scale(0.015625)\"/>\n",
       "       </defs>\n",
       "       <use xlink:href=\"#DejaVuSans-30\"/>\n",
       "       <use x=\"63.623047\" xlink:href=\"#DejaVuSans-2e\"/>\n",
       "       <use x=\"95.410156\" xlink:href=\"#DejaVuSans-36\"/>\n",
       "      </g>\n",
       "     </g>\n",
       "    </g>\n",
       "    <g id=\"ytick_4\">\n",
       "     <g id=\"line2d_4\">\n",
       "      <g>\n",
       "       <use style=\"stroke:#000000;stroke-width:0.8;\" x=\"311.588\" xlink:href=\"#m560c8aa90d\" y=\"82.937313\"/>\n",
       "      </g>\n",
       "     </g>\n",
       "     <g id=\"text_4\">\n",
       "      <!-- 0.8 -->\n",
       "      <g transform=\"translate(318.588 86.736532)scale(0.1 -0.1)\">\n",
       "       <defs>\n",
       "        <path d=\"M 2034 2216 \n",
       "Q 1584 2216 1326 1975 \n",
       "Q 1069 1734 1069 1313 \n",
       "Q 1069 891 1326 650 \n",
       "Q 1584 409 2034 409 \n",
       "Q 2484 409 2743 651 \n",
       "Q 3003 894 3003 1313 \n",
       "Q 3003 1734 2745 1975 \n",
       "Q 2488 2216 2034 2216 \n",
       "z\n",
       "M 1403 2484 \n",
       "Q 997 2584 770 2862 \n",
       "Q 544 3141 544 3541 \n",
       "Q 544 4100 942 4425 \n",
       "Q 1341 4750 2034 4750 \n",
       "Q 2731 4750 3128 4425 \n",
       "Q 3525 4100 3525 3541 \n",
       "Q 3525 3141 3298 2862 \n",
       "Q 3072 2584 2669 2484 \n",
       "Q 3125 2378 3379 2068 \n",
       "Q 3634 1759 3634 1313 \n",
       "Q 3634 634 3220 271 \n",
       "Q 2806 -91 2034 -91 \n",
       "Q 1263 -91 848 271 \n",
       "Q 434 634 434 1313 \n",
       "Q 434 1759 690 2068 \n",
       "Q 947 2378 1403 2484 \n",
       "z\n",
       "M 1172 3481 \n",
       "Q 1172 3119 1398 2916 \n",
       "Q 1625 2713 2034 2713 \n",
       "Q 2441 2713 2670 2916 \n",
       "Q 2900 3119 2900 3481 \n",
       "Q 2900 3844 2670 4047 \n",
       "Q 2441 4250 2034 4250 \n",
       "Q 1625 4250 1398 4047 \n",
       "Q 1172 3844 1172 3481 \n",
       "z\n",
       "\" id=\"DejaVuSans-38\" transform=\"scale(0.015625)\"/>\n",
       "       </defs>\n",
       "       <use xlink:href=\"#DejaVuSans-30\"/>\n",
       "       <use x=\"63.623047\" xlink:href=\"#DejaVuSans-2e\"/>\n",
       "       <use x=\"95.410156\" xlink:href=\"#DejaVuSans-38\"/>\n",
       "      </g>\n",
       "     </g>\n",
       "    </g>\n",
       "    <g id=\"ytick_5\">\n",
       "     <g id=\"line2d_5\">\n",
       "      <g>\n",
       "       <use style=\"stroke:#000000;stroke-width:0.8;\" x=\"311.588\" xlink:href=\"#m560c8aa90d\" y=\"10.999219\"/>\n",
       "      </g>\n",
       "     </g>\n",
       "     <g id=\"text_5\">\n",
       "      <!-- 1.0 -->\n",
       "      <g transform=\"translate(318.588 14.798437)scale(0.1 -0.1)\">\n",
       "       <defs>\n",
       "        <path d=\"M 794 531 \n",
       "L 1825 531 \n",
       "L 1825 4091 \n",
       "L 703 3866 \n",
       "L 703 4441 \n",
       "L 1819 4666 \n",
       "L 2450 4666 \n",
       "L 2450 531 \n",
       "L 3481 531 \n",
       "L 3481 0 \n",
       "L 794 0 \n",
       "L 794 531 \n",
       "z\n",
       "\" id=\"DejaVuSans-31\" transform=\"scale(0.015625)\"/>\n",
       "       </defs>\n",
       "       <use xlink:href=\"#DejaVuSans-31\"/>\n",
       "       <use x=\"63.623047\" xlink:href=\"#DejaVuSans-2e\"/>\n",
       "       <use x=\"95.410156\" xlink:href=\"#DejaVuSans-30\"/>\n",
       "      </g>\n",
       "     </g>\n",
       "    </g>\n",
       "   </g>\n",
       "   <g id=\"LineCollection_1\"/>\n",
       "   <g id=\"patch_9\">\n",
       "    <path d=\"M 295.28 337.159219 \n",
       "L 295.28 335.885156 \n",
       "L 295.28 12.273281 \n",
       "L 295.28 10.999219 \n",
       "L 311.588 10.999219 \n",
       "L 311.588 12.273281 \n",
       "L 311.588 335.885156 \n",
       "L 311.588 337.159219 \n",
       "z\n",
       "\" style=\"fill:none;stroke:#000000;stroke-linecap:square;stroke-linejoin:miter;stroke-width:0.8;\"/>\n",
       "   </g>\n",
       "  </g>\n",
       " </g>\n",
       " <defs>\n",
       "  <clipPath id=\"p544ff4041c\">\n",
       "   <rect height=\"267.84\" width=\"267.84\" x=\"10.7\" y=\"40.159219\"/>\n",
       "  </clipPath>\n",
       "  <clipPath id=\"pfd58860331\">\n",
       "   <rect height=\"326.16\" width=\"16.308\" x=\"295.28\" y=\"10.999219\"/>\n",
       "  </clipPath>\n",
       " </defs>\n",
       "</svg>\n"
      ],
      "text/plain": [
       "<Figure size 432x432 with 2 Axes>"
      ]
     },
     "metadata": {
      "needs_background": "light"
     },
     "output_type": "display_data"
    }
   ],
   "source": [
    "fig, ax = plt.subplots(figsize=(6,6))\n",
    "# ax = fig.add_axes()\n",
    "\n",
    "im = ax.imshow(1 - dense_matrix, cmap='jet')\n",
    "fig.colorbar(im)\n",
    "ax.set_xticks([])\n",
    "ax.set_yticks([])\n",
    "plt.savefig(\"sum_mat.svg\")\n",
    "\n",
    "\n"
   ]
  },
  {
   "cell_type": "markdown",
   "id": "317e4774-0001-43d4-80b4-ee99fae11ffe",
   "metadata": {},
   "source": [
    "## Clustering"
   ]
  },
  {
   "cell_type": "code",
   "execution_count": 30,
   "id": "c2ba17ba-715d-4c6e-bd8e-28412a2ddea4",
   "metadata": {},
   "outputs": [],
   "source": [
    "# convert the redundant n*n square matrix form into a condensed nC2 array\n",
    "distArray = ssd.squareform(dense_matrix)"
   ]
  },
  {
   "cell_type": "code",
   "execution_count": 35,
   "id": "ce0cfa49",
   "metadata": {},
   "outputs": [],
   "source": [
    "\n",
    "clustering = DBSCAN(min_samples=3, eps=0.3, metric='precomputed')\n",
    "clustering.fit(dense_matrix)\n",
    "labels = clustering.labels_\n"
   ]
  },
  {
   "cell_type": "code",
   "execution_count": 36,
   "id": "dbcb4887-0a45-4ae3-a719-8785e7e657a1",
   "metadata": {},
   "outputs": [
    {
     "name": "stdout",
     "output_type": "stream",
     "text": [
      "2\n"
     ]
    }
   ],
   "source": [
    "N = labels.max()\n",
    "print(N)"
   ]
  },
  {
   "cell_type": "code",
   "execution_count": 37,
   "id": "d704b32f-4bd3-409a-8205-0a4338aa84db",
   "metadata": {},
   "outputs": [
    {
     "data": {
      "text/plain": [
       "23"
      ]
     },
     "execution_count": 37,
     "metadata": {},
     "output_type": "execute_result"
    }
   ],
   "source": [
    "np.sum(labels != -1)"
   ]
  },
  {
   "cell_type": "code",
   "execution_count": 38,
   "id": "43077281-4d17-4ef2-995b-eb84ea2f9a5e",
   "metadata": {},
   "outputs": [],
   "source": [
    "with open(\"clustering_by_sim.txt\", \"w\") as iFile:\n",
    "    for i in np.unique(labels):\n",
    "        for l in ind_names_res[labels == i]:\n",
    "            s = smiles_dict[l]\n",
    "            iFile.write(s + \"\\t\" + l + \"\\t\" + str(i) + \"\\n\")\n",
    "    "
   ]
  },
  {
   "cell_type": "code",
   "execution_count": null,
   "id": "f7051f19-afce-48f4-a68a-a7730be591fc",
   "metadata": {},
   "outputs": [],
   "source": [
    "## Select the best compounds"
   ]
  }
 ],
 "metadata": {
  "kernelspec": {
   "display_name": "Python 3 (ipykernel)",
   "language": "python",
   "name": "python3"
  },
  "language_info": {
   "codemirror_mode": {
    "name": "ipython",
    "version": 3
   },
   "file_extension": ".py",
   "mimetype": "text/x-python",
   "name": "python",
   "nbconvert_exporter": "python",
   "pygments_lexer": "ipython3",
   "version": "3.10.4"
  }
 },
 "nbformat": 4,
 "nbformat_minor": 5
}
