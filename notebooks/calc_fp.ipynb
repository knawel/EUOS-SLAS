{
 "cells": [
  {
   "cell_type": "code",
   "execution_count": 1,
   "id": "acf7d345",
   "metadata": {},
   "outputs": [],
   "source": [
    "import os\n",
    "import numpy as np\n",
    "import pandas as pd\n",
    "from rdkit import Chem\n",
    "from rdkit.Chem import PandasTools\n",
    "from rdkit.Chem import AllChem\n",
    "from rdkit.Chem import DataStructs"
   ]
  },
  {
   "cell_type": "code",
   "execution_count": 7,
   "id": "b3a2f06a-a833-4c7b-a8ba-5c3b1ea53f87",
   "metadata": {},
   "outputs": [],
   "source": [
    "def mol2fp(mol, radi=2, nBits=1024):\n",
    "    fp = AllChem.GetMorganFingerprintAsBitVect(mol, radius=radi, nBits=nBits)\n",
    "    arr = np.zeros((0,))\n",
    "    DataStructs.ConvertToNumpyArray(fp, arr)\n",
    "    return arr"
   ]
  },
  {
   "cell_type": "code",
   "execution_count": 29,
   "id": "84df44ec",
   "metadata": {},
   "outputs": [],
   "source": [
    "smi_file = \"../data/derived/train_desalt.smi\""
   ]
  },
  {
   "cell_type": "code",
   "execution_count": 30,
   "id": "858ac413",
   "metadata": {},
   "outputs": [],
   "source": [
    "smiles = []\n",
    "ind_names = []\n",
    "smiles_dict = {}\n",
    "with open(smi_file, 'r') as iFile:\n",
    "    for i, s in enumerate(iFile):\n",
    "        S = s.strip().split()\n",
    "        smiles.append([S[0], i])\n",
    "        ind_names.append(S[1])\n",
    "        smiles_dict[S[1]] = S[0]"
   ]
  },
  {
   "cell_type": "code",
   "execution_count": 31,
   "id": "4a4fe72e",
   "metadata": {},
   "outputs": [
    {
     "name": "stdout",
     "output_type": "stream",
     "text": [
      "70711 70711\n"
     ]
    }
   ],
   "source": [
    "print(len(smiles_dict), len(smiles))"
   ]
  },
  {
   "cell_type": "code",
   "execution_count": 32,
   "id": "6dadaeb0",
   "metadata": {},
   "outputs": [],
   "source": [
    "all_mols = []\n",
    "for i in list(smiles_dict):\n",
    "    m = Chem.MolFromSmiles(smiles_dict[i])\n",
    "    m.SetProp(\"_Name\",i)\n",
    "    all_mols.append(m)"
   ]
  },
  {
   "cell_type": "code",
   "execution_count": 33,
   "id": "fd195b56",
   "metadata": {},
   "outputs": [],
   "source": [
    "all_fp = []\n",
    "for m in all_mols:\n",
    "    a = mol2fp(m)\n",
    "    all_fp.append(a)\n",
    "all_fp = np.array(all_fp)"
   ]
  },
  {
   "cell_type": "code",
   "execution_count": 34,
   "id": "c04ad06f-98c9-411e-8eec-4faf4216accf",
   "metadata": {},
   "outputs": [],
   "source": [
    "fp_df = pd.DataFrame(all_fp)\n",
    "fp_df['Id'] = list(smiles_dict)"
   ]
  },
  {
   "cell_type": "code",
   "execution_count": 18,
   "id": "45f13f6b-3184-4ffc-9699-0f05a1ff704e",
   "metadata": {},
   "outputs": [],
   "source": [
    "# fp_df"
   ]
  },
  {
   "cell_type": "code",
   "execution_count": 35,
   "id": "81160b6a",
   "metadata": {},
   "outputs": [
    {
     "data": {
      "image/png": "[encoded data removed]",
      "text/plain": [
       "<rdkit.Chem.rdchem.Mol at 0x7fe819747e20>"
      ]
     },
     "execution_count": 35,
     "metadata": {},
     "output_type": "execute_result"
    }
   ],
   "source": [
    "# m = Chem.MolFromSmiles('C1OCCC1c1c(Br)nc(O)cc1CC(=O)OCc1cnoc1')\n",
    "m"
   ]
  },
  {
   "cell_type": "code",
   "execution_count": 36,
   "id": "395f84b1",
   "metadata": {},
   "outputs": [
    {
     "data": {
      "text/plain": [
       "(70711, 1025)"
      ]
     },
     "execution_count": 36,
     "metadata": {},
     "output_type": "execute_result"
    }
   ],
   "source": [
    "fp_df.shape"
   ]
  },
  {
   "cell_type": "code",
   "execution_count": 37,
   "id": "0153fa58",
   "metadata": {},
   "outputs": [],
   "source": [
    "fp_df.to_csv('train_fp.csv', index=False)"
   ]
  },
  {
   "cell_type": "code",
   "execution_count": null,
   "id": "065b26eb",
   "metadata": {},
   "outputs": [],
   "source": []
  }
 ],
 "metadata": {
  "kernelspec": {
   "display_name": "Python 3 (ipykernel)",
   "language": "python",
   "name": "python3"
  },
  "language_info": {
   "codemirror_mode": {
    "name": "ipython",
    "version": 3
   },
   "file_extension": ".py",
   "mimetype": "text/x-python",
   "name": "python",
   "nbconvert_exporter": "python",
   "pygments_lexer": "ipython3",
   "version": "3.10.4"
  }
 },
 "nbformat": 4,
 "nbformat_minor": 5
}
