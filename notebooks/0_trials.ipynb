{
 "cells": [
  {
   "cell_type": "code",
   "execution_count": 10,
   "id": "8f51fdcb-06be-448c-90ac-8bb0321f0f2c",
   "metadata": {},
   "outputs": [],
   "source": [
    "import pandas as pd\n",
    "import sys\n",
    "import os\n",
    "from os.path import join\n",
    "import numpy as np\n"
   ]
  },
  {
   "cell_type": "code",
   "execution_count": 4,
   "id": "2a03573f-6caf-4ef0-a48d-75920e2ab4b0",
   "metadata": {},
   "outputs": [],
   "source": [
    "feature_files = ['compounds_desalt_3dH.csv', 'substr_count.csv']\n",
    "\"../\"\n",
    "train_raw_file = \"../data/raw/train.csv\"\n",
    "test_raw_file = \"../data/raw/test.csv\"\n",
    "folder_put = \"../data/preprocessed/\"\n",
    "\n",
    "# names of specific columns\n",
    "y_column_name = \"sol_category\""
   ]
  },
  {
   "cell_type": "code",
   "execution_count": 5,
   "id": "a7742389-aed3-419b-bedd-0ab6f4113f6f",
   "metadata": {},
   "outputs": [],
   "source": [
    "# read raw data\n",
    "train_raw_data = pd.read_csv(train_raw_file, index_col='Id')\n",
    "test_raw_data = pd.read_csv(test_raw_file, index_col='Id')\n",
    "# rename\n",
    "train_raw_data = train_raw_data.loc[:, [y_column_name]]\n",
    "train_raw_data.rename(columns={y_column_name: \"Y\"}, inplace=True)\n"
   ]
  },
  {
   "cell_type": "code",
   "execution_count": 6,
   "id": "b232d80e-6417-48b8-ac74-3c41588fbeb2",
   "metadata": {},
   "outputs": [
    {
     "name": "stdout",
     "output_type": "stream",
     "text": [
      "all good\n",
      "all good\n"
     ]
    }
   ],
   "source": [
    "# Read features\n",
    "features = []\n",
    "for f in feature_files:\n",
    "\n",
    "    dfile = join(\"../data/derived/\", f)\n",
    "    data = pd.read_csv(dfile)\n",
    "    data.dropna(axis=1, inplace=True)\n",
    "\n",
    "    if not ('Id' in data.columns):\n",
    "        print('error')\n",
    "    else:\n",
    "        print('all good')\n",
    "    features.append(data)"
   ]
  },
  {
   "cell_type": "code",
   "execution_count": 7,
   "id": "24292356-d857-493c-bad7-d84ba495f4de",
   "metadata": {},
   "outputs": [
    {
     "name": "stdout",
     "output_type": "stream",
     "text": [
      "Data was imported \n"
     ]
    }
   ],
   "source": [
    "# combine features\n",
    "df = features[0]\n",
    "for d in features[1:]:\n",
    "    df = pd.merge(df, d, on='Id')\n",
    "\n",
    "df.set_index('Id', inplace=True)\n",
    "if df.isnull().values.any():\n",
    "    sys.stdout.write(\"Merge failed\\n\")\n",
    "else:\n",
    "    sys.stdout.write(\"Data was imported \\n\")\n",
    "\n",
    "# remove features with all same values"
   ]
  },
  {
   "cell_type": "code",
   "execution_count": 17,
   "id": "6560ced1-afd1-4a86-9ac1-3e7bccc39764",
   "metadata": {},
   "outputs": [],
   "source": [
    "cols = df.select_dtypes([np.number]).columns\n",
    "std = df[cols].std()\n",
    "cols_to_drop = std[std<0.001].index"
   ]
  },
  {
   "cell_type": "code",
   "execution_count": 26,
   "id": "f292dbc9-89ea-41ba-8c78-62e203ec3823",
   "metadata": {},
   "outputs": [
    {
     "data": {
      "text/plain": [
       "195"
      ]
     },
     "execution_count": 26,
     "metadata": {},
     "output_type": "execute_result"
    }
   ],
   "source": [
    "df.shape[1]"
   ]
  },
  {
   "cell_type": "code",
   "execution_count": 23,
   "id": "a474fe0e-2206-456e-bf1b-e6945c24dc7b",
   "metadata": {},
   "outputs": [],
   "source": [
    "df.drop(cols_to_drop, axis=1, inplace=True)"
   ]
  },
  {
   "cell_type": "code",
   "execution_count": 25,
   "id": "59f3dbdb-655c-4e7b-a332-a301dec5b576",
   "metadata": {},
   "outputs": [
    {
     "data": {
      "text/plain": [
       "195"
      ]
     },
     "execution_count": 25,
     "metadata": {},
     "output_type": "execute_result"
    }
   ],
   "source": [
    "df.shape[1]"
   ]
  }
 ],
 "metadata": {
  "kernelspec": {
   "display_name": "Python 3 (ipykernel)",
   "language": "python",
   "name": "python3"
  },
  "language_info": {
   "codemirror_mode": {
    "name": "ipython",
    "version": 3
   },
   "file_extension": ".py",
   "mimetype": "text/x-python",
   "name": "python",
   "nbconvert_exporter": "python",
   "pygments_lexer": "ipython3",
   "version": "3.10.5"
  }
 },
 "nbformat": 4,
 "nbformat_minor": 5
}
