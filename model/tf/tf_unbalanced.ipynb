{
 "cells": [
  {
   "cell_type": "code",
   "execution_count": 1,
   "id": "4769d53c-be86-489c-bfbf-2c68976302fd",
   "metadata": {},
   "outputs": [
    {
     "name": "stderr",
     "output_type": "stream",
     "text": [
      "2022-11-05 00:14:16.009441: I tensorflow/stream_executor/platform/default/dso_loader.cc:49] Successfully opened dynamic library libcudart.so.10.1\n"
     ]
    },
    {
     "name": "stdout",
     "output_type": "stream",
     "text": [
      "TensorFlow version: 2.4.1\n"
     ]
    }
   ],
   "source": [
    "import tensorflow as tf\n",
    "from tensorflow import keras\n",
    "print(\"TensorFlow version:\", tf.__version__)"
   ]
  },
  {
   "cell_type": "code",
   "execution_count": 2,
   "id": "9caccbb1-b432-4bad-b137-3c6a13d94f19",
   "metadata": {},
   "outputs": [],
   "source": [
    "import pandas as pd\n",
    "import numpy as np\n",
    "from sklearn.model_selection import train_test_split\n",
    "from sklearn.preprocessing import StandardScaler\n",
    "from sklearn.metrics import confusion_matrix\n",
    "import matplotlib as mpl\n",
    "import matplotlib.pyplot as plt\n",
    "# import seaborn as sns"
   ]
  },
  {
   "cell_type": "code",
   "execution_count": 3,
   "id": "d0850321-815f-40d3-b981-59053ed979bc",
   "metadata": {},
   "outputs": [],
   "source": [
    "from os.path import join\n",
    "import os"
   ]
  },
  {
   "cell_type": "code",
   "execution_count": 4,
   "id": "82994eb6-37e0-4e77-83e4-8a2a09e11adc",
   "metadata": {},
   "outputs": [],
   "source": [
    "mpl.rcParams['figure.figsize'] = (12, 10)\n",
    "colors = plt.rcParams['axes.prop_cycle'].by_key()['color']"
   ]
  },
  {
   "cell_type": "code",
   "execution_count": 5,
   "id": "dc469b93-7f59-4321-9668-53f8a50877c7",
   "metadata": {},
   "outputs": [],
   "source": [
    "data_folder = \"../../data/preprocessed/\""
   ]
  },
  {
   "cell_type": "code",
   "execution_count": 6,
   "id": "b098da5a-19f1-4b0c-a238-b0959bd3ef52",
   "metadata": {},
   "outputs": [],
   "source": [
    "X = pd.read_pickle(join(data_folder, \"X.pk\"))\n",
    "y = pd.read_pickle(join(data_folder, \"Y.pk\"))\n",
    "X_mat = X.values\n",
    "y_vec = y.values.flatten()\n",
    "y_vec[y_vec == 1] = 0\n",
    "y_vec[y_vec == 2] = 1\n",
    "scaler = StandardScaler()\n",
    "scaler.fit(X_mat)\n",
    "X_mat = scaler.transform(X_mat)\n",
    "\n",
    "x_train, x_test, y_train, y_test = train_test_split(X_mat, y_vec, test_size=0.2, random_state=123)\n"
   ]
  },
  {
   "cell_type": "code",
   "execution_count": null,
   "id": "78e2359b-29b5-4a2d-a56c-40d057440ee5",
   "metadata": {},
   "outputs": [],
   "source": []
  },
  {
   "cell_type": "code",
   "execution_count": 7,
   "id": "cc9089ec-f41f-4157-91c8-2e41691a819f",
   "metadata": {},
   "outputs": [
    {
     "data": {
      "text/plain": [
       "(56568, 262)"
      ]
     },
     "execution_count": 7,
     "metadata": {},
     "output_type": "execute_result"
    }
   ],
   "source": [
    "x_train.shape"
   ]
  },
  {
   "cell_type": "code",
   "execution_count": 8,
   "id": "1eb38152-5b66-4e62-963f-96015933da16",
   "metadata": {},
   "outputs": [
    {
     "name": "stderr",
     "output_type": "stream",
     "text": [
      "2022-11-05 00:14:30.469389: I tensorflow/compiler/jit/xla_cpu_device.cc:41] Not creating XLA devices, tf_xla_enable_xla_devices not set\n",
      "2022-11-05 00:14:30.472139: I tensorflow/stream_executor/platform/default/dso_loader.cc:49] Successfully opened dynamic library libcuda.so.1\n",
      "2022-11-05 00:14:30.496038: I tensorflow/core/common_runtime/gpu/gpu_device.cc:1720] Found device 0 with properties: \n",
      "pciBusID: 0000:65:00.0 name: Quadro P4000 computeCapability: 6.1\n",
      "coreClock: 1.48GHz coreCount: 14 deviceMemorySize: 7.92GiB deviceMemoryBandwidth: 226.62GiB/s\n",
      "2022-11-05 00:14:30.496061: I tensorflow/stream_executor/platform/default/dso_loader.cc:49] Successfully opened dynamic library libcudart.so.10.1\n",
      "2022-11-05 00:14:30.499043: I tensorflow/stream_executor/platform/default/dso_loader.cc:49] Successfully opened dynamic library libcublas.so.10\n",
      "2022-11-05 00:14:30.499096: I tensorflow/stream_executor/platform/default/dso_loader.cc:49] Successfully opened dynamic library libcublasLt.so.10\n",
      "2022-11-05 00:14:30.501130: I tensorflow/stream_executor/platform/default/dso_loader.cc:49] Successfully opened dynamic library libcufft.so.10\n",
      "2022-11-05 00:14:30.502251: I tensorflow/stream_executor/platform/default/dso_loader.cc:49] Successfully opened dynamic library libcurand.so.10\n",
      "2022-11-05 00:14:30.504798: I tensorflow/stream_executor/platform/default/dso_loader.cc:49] Successfully opened dynamic library libcusolver.so.10\n",
      "2022-11-05 00:14:30.505981: I tensorflow/stream_executor/platform/default/dso_loader.cc:49] Successfully opened dynamic library libcusparse.so.10\n",
      "2022-11-05 00:14:30.510311: I tensorflow/stream_executor/platform/default/dso_loader.cc:49] Successfully opened dynamic library libcudnn.so.7\n",
      "2022-11-05 00:14:30.510823: I tensorflow/core/common_runtime/gpu/gpu_device.cc:1862] Adding visible gpu devices: 0\n",
      "2022-11-05 00:14:30.511230: I tensorflow/core/platform/cpu_feature_guard.cc:142] This TensorFlow binary is optimized with oneAPI Deep Neural Network Library (oneDNN) to use the following CPU instructions in performance-critical operations:  SSE4.1 SSE4.2 AVX AVX2 AVX512F FMA\n",
      "To enable them in other operations, rebuild TensorFlow with the appropriate compiler flags.\n",
      "2022-11-05 00:14:30.511826: I tensorflow/compiler/jit/xla_gpu_device.cc:99] Not creating XLA devices, tf_xla_enable_xla_devices not set\n",
      "2022-11-05 00:14:30.512188: I tensorflow/core/common_runtime/gpu/gpu_device.cc:1720] Found device 0 with properties: \n",
      "pciBusID: 0000:65:00.0 name: Quadro P4000 computeCapability: 6.1\n",
      "coreClock: 1.48GHz coreCount: 14 deviceMemorySize: 7.92GiB deviceMemoryBandwidth: 226.62GiB/s\n",
      "2022-11-05 00:14:30.512216: I tensorflow/stream_executor/platform/default/dso_loader.cc:49] Successfully opened dynamic library libcudart.so.10.1\n",
      "2022-11-05 00:14:30.512252: I tensorflow/stream_executor/platform/default/dso_loader.cc:49] Successfully opened dynamic library libcublas.so.10\n",
      "2022-11-05 00:14:30.512276: I tensorflow/stream_executor/platform/default/dso_loader.cc:49] Successfully opened dynamic library libcublasLt.so.10\n",
      "2022-11-05 00:14:30.512299: I tensorflow/stream_executor/platform/default/dso_loader.cc:49] Successfully opened dynamic library libcufft.so.10\n",
      "2022-11-05 00:14:30.512322: I tensorflow/stream_executor/platform/default/dso_loader.cc:49] Successfully opened dynamic library libcurand.so.10\n",
      "2022-11-05 00:14:30.512345: I tensorflow/stream_executor/platform/default/dso_loader.cc:49] Successfully opened dynamic library libcusolver.so.10\n",
      "2022-11-05 00:14:30.512369: I tensorflow/stream_executor/platform/default/dso_loader.cc:49] Successfully opened dynamic library libcusparse.so.10\n",
      "2022-11-05 00:14:30.512392: I tensorflow/stream_executor/platform/default/dso_loader.cc:49] Successfully opened dynamic library libcudnn.so.7\n",
      "2022-11-05 00:14:30.512915: I tensorflow/core/common_runtime/gpu/gpu_device.cc:1862] Adding visible gpu devices: 0\n",
      "2022-11-05 00:14:30.512957: I tensorflow/stream_executor/platform/default/dso_loader.cc:49] Successfully opened dynamic library libcudart.so.10.1\n",
      "2022-11-05 00:14:30.929142: I tensorflow/core/common_runtime/gpu/gpu_device.cc:1261] Device interconnect StreamExecutor with strength 1 edge matrix:\n",
      "2022-11-05 00:14:30.929167: I tensorflow/core/common_runtime/gpu/gpu_device.cc:1267]      0 \n",
      "2022-11-05 00:14:30.929173: I tensorflow/core/common_runtime/gpu/gpu_device.cc:1280] 0:   N \n",
      "2022-11-05 00:14:30.929718: I tensorflow/core/common_runtime/gpu/gpu_device.cc:1406] Created TensorFlow device (/job:localhost/replica:0/task:0/device:GPU:0 with 5793 MB memory) -> physical GPU (device: 0, name: Quadro P4000, pci bus id: 0000:65:00.0, compute capability: 6.1)\n"
     ]
    }
   ],
   "source": [
    "METRICS = [\n",
    "      keras.metrics.TruePositives(name='tp'),\n",
    "      keras.metrics.FalsePositives(name='fp'),\n",
    "      keras.metrics.TrueNegatives(name='tn'),\n",
    "      keras.metrics.FalseNegatives(name='fn'), \n",
    "      keras.metrics.BinaryAccuracy(name='accuracy'),\n",
    "      keras.metrics.Precision(name='precision'),\n",
    "      keras.metrics.Recall(name='recall'),\n",
    "      keras.metrics.AUC(name='auc'),\n",
    "      keras.metrics.AUC(name='prc', curve='PR'), # precision-recall curve\n",
    "]\n",
    "\n",
    "def make_model(metrics=METRICS, output_bias=None):\n",
    "    if output_bias is not None:\n",
    "        output_bias = tf.keras.initializers.Constant(output_bias)\n",
    "    model = keras.Sequential([\n",
    "      keras.layers.Dense(\n",
    "          16, activation='relu',\n",
    "          input_shape=(x_train.shape[1],)),\n",
    "      keras.layers.Dropout(0.5),\n",
    "      keras.layers.Dense(1, activation='sigmoid',\n",
    "                         bias_initializer=output_bias),\n",
    "    ])\n",
    "\n",
    "    model.compile(\n",
    "      optimizer=keras.optimizers.Adam(learning_rate=1e-3),\n",
    "      loss=keras.losses.BinaryCrossentropy(),\n",
    "      metrics=metrics)\n",
    "\n",
    "    return model"
   ]
  },
  {
   "cell_type": "code",
   "execution_count": 9,
   "id": "155ad6dc-2321-481c-acb7-c92f008ddd9a",
   "metadata": {},
   "outputs": [],
   "source": [
    "EPOCHS = 100\n",
    "BATCH_SIZE = 2048\n",
    "\n",
    "early_stopping = tf.keras.callbacks.EarlyStopping(\n",
    "    monitor='val_prc', \n",
    "    verbose=1,\n",
    "    patience=10,\n",
    "    mode='max',\n",
    "    restore_best_weights=True)"
   ]
  },
  {
   "cell_type": "code",
   "execution_count": 10,
   "id": "23e8a85e-eaf8-40fe-b277-c5bff0a6a7d1",
   "metadata": {},
   "outputs": [
    {
     "name": "stdout",
     "output_type": "stream",
     "text": [
      "Model: \"sequential\"\n",
      "_________________________________________________________________\n",
      "Layer (type)                 Output Shape              Param #   \n",
      "=================================================================\n",
      "dense (Dense)                (None, 16)                4208      \n",
      "_________________________________________________________________\n",
      "dropout (Dropout)            (None, 16)                0         \n",
      "_________________________________________________________________\n",
      "dense_1 (Dense)              (None, 1)                 17        \n",
      "=================================================================\n",
      "Total params: 4,225\n",
      "Trainable params: 4,225\n",
      "Non-trainable params: 0\n",
      "_________________________________________________________________\n"
     ]
    }
   ],
   "source": [
    "model = make_model()\n",
    "model.summary()"
   ]
  },
  {
   "cell_type": "code",
   "execution_count": 11,
   "id": "8383e09f-721b-4043-90f0-20ab561b2fc4",
   "metadata": {},
   "outputs": [
    {
     "name": "stderr",
     "output_type": "stream",
     "text": [
      "2022-11-05 00:14:42.784689: I tensorflow/compiler/mlir/mlir_graph_optimization_pass.cc:116] None of the MLIR optimization passes are enabled (registered 2)\n",
      "2022-11-05 00:14:42.802887: I tensorflow/core/platform/profile_utils/cpu_utils.cc:112] CPU Frequency: 3699850000 Hz\n",
      "2022-11-05 00:14:42.845590: I tensorflow/stream_executor/platform/default/dso_loader.cc:49] Successfully opened dynamic library libcublas.so.10\n"
     ]
    },
    {
     "data": {
      "text/plain": [
       "array([[0.42841727],\n",
       "       [0.6480823 ],\n",
       "       [0.78400797],\n",
       "       [0.5143804 ],\n",
       "       [0.58969724],\n",
       "       [0.7841426 ],\n",
       "       [0.69994813],\n",
       "       [0.38035205],\n",
       "       [0.64336497],\n",
       "       [0.49463966]], dtype=float32)"
      ]
     },
     "execution_count": 11,
     "metadata": {},
     "output_type": "execute_result"
    }
   ],
   "source": [
    "model.predict(x_train[:10])"
   ]
  },
  {
   "cell_type": "code",
   "execution_count": 12,
   "id": "611e70b2-f7f2-471f-9383-41f3c247f939",
   "metadata": {},
   "outputs": [
    {
     "name": "stdout",
     "output_type": "stream",
     "text": [
      "Loss: 0.6897\n"
     ]
    }
   ],
   "source": [
    "results = model.evaluate(x_train, y_train, batch_size=BATCH_SIZE, verbose=0)\n",
    "print(\"Loss: {:0.4f}\".format(results[0]))"
   ]
  },
  {
   "cell_type": "code",
   "execution_count": 13,
   "id": "8f5cc83f-48e0-4e5a-b686-3c0c795805e6",
   "metadata": {},
   "outputs": [],
   "source": [
    "pos = np.sum(y_vec==1)\n",
    "neg = np.sum(y_vec==0)"
   ]
  },
  {
   "cell_type": "code",
   "execution_count": 14,
   "id": "b3e77e04-c27f-41f2-855d-b6e508fcb959",
   "metadata": {},
   "outputs": [
    {
     "data": {
      "text/plain": [
       "array([2.6028264])"
      ]
     },
     "execution_count": 14,
     "metadata": {},
     "output_type": "execute_result"
    }
   ],
   "source": [
    "initial_bias = np.log([pos/neg])\n",
    "initial_bias\n",
    "\n"
   ]
  },
  {
   "cell_type": "code",
   "execution_count": 15,
   "id": "f6b7260f-8157-4566-9c75-0b1bd2157ddd",
   "metadata": {},
   "outputs": [
    {
     "data": {
      "text/plain": [
       "array([[0.7736323 ],\n",
       "       [0.9175887 ],\n",
       "       [0.91447496],\n",
       "       [0.72575706],\n",
       "       [0.7616525 ],\n",
       "       [0.79255754],\n",
       "       [0.8654802 ],\n",
       "       [0.8978722 ],\n",
       "       [0.95354974],\n",
       "       [0.9178205 ]], dtype=float32)"
      ]
     },
     "execution_count": 15,
     "metadata": {},
     "output_type": "execute_result"
    }
   ],
   "source": [
    "model = make_model(output_bias=initial_bias)\n",
    "model.predict(x_train[:10])"
   ]
  },
  {
   "cell_type": "code",
   "execution_count": 16,
   "id": "e8b3711d-e1ac-4c7e-9998-b11bcf70354c",
   "metadata": {},
   "outputs": [
    {
     "name": "stdout",
     "output_type": "stream",
     "text": [
      "Loss: 0.2981\n"
     ]
    }
   ],
   "source": [
    "results = model.evaluate(x_train, y_train, batch_size=BATCH_SIZE, verbose=0)\n",
    "print(\"Loss: {:0.4f}\".format(results[0]))"
   ]
  },
  {
   "cell_type": "code",
   "execution_count": 17,
   "id": "e3ea85ee-b8f0-4003-ae12-eaf6f83dbf0b",
   "metadata": {},
   "outputs": [],
   "source": [
    "initial_weights = os.path.join(\"weigths\", 'initial_weights')\n",
    "model.save_weights(initial_weights)"
   ]
  },
  {
   "cell_type": "code",
   "execution_count": 18,
   "id": "03947a9e-e129-49bd-9297-b5e7d7f8e304",
   "metadata": {},
   "outputs": [],
   "source": [
    "model = make_model()\n",
    "model.load_weights(initial_weights)\n",
    "model.layers[-1].bias.assign([0.0])\n",
    "zero_bias_history = model.fit(\n",
    "    x_train,\n",
    "    y_train,\n",
    "    batch_size=BATCH_SIZE,\n",
    "    epochs=20,\n",
    "    validation_data=(x_test, y_test), \n",
    "    verbose=0)"
   ]
  },
  {
   "cell_type": "code",
   "execution_count": 19,
   "id": "4e825a18-198e-4364-a697-58b42c8ee147",
   "metadata": {},
   "outputs": [],
   "source": [
    "model = make_model()\n",
    "model.load_weights(initial_weights)\n",
    "careful_bias_history = model.fit(\n",
    "    x_train,\n",
    "    y_train,\n",
    "    batch_size=BATCH_SIZE,\n",
    "    epochs=20,\n",
    "    validation_data=(x_test, y_test), \n",
    "    verbose=0)"
   ]
  },
  {
   "cell_type": "code",
   "execution_count": 20,
   "id": "11346f6f-3519-4966-aff9-76fbfd02d78b",
   "metadata": {},
   "outputs": [],
   "source": [
    "def plot_loss(history, label, n):\n",
    "  # Use a log scale on y-axis to show the wide range of values.\n",
    "  plt.semilogy(history.epoch, history.history['loss'],\n",
    "               color=colors[n], label='Train ' + label)\n",
    "  plt.semilogy(history.epoch, history.history['val_loss'],\n",
    "               color=colors[n], label='Val ' + label,\n",
    "               linestyle=\"--\")\n",
    "  plt.xlabel('Epoch')\n",
    "  plt.ylabel('Loss')"
   ]
  },
  {
   "cell_type": "code",
   "execution_count": 21,
   "id": "25fc8ea6-56cd-4830-8769-bd0397f19d57",
   "metadata": {},
   "outputs": [
    {
     "data": {
      "image/png": "[encoded data removed]",
      "text/plain": [
       "<Figure size 432x288 with 1 Axes>"
      ]
     },
     "metadata": {
      "needs_background": "light"
     },
     "output_type": "display_data"
    }
   ],
   "source": [
    "plot_loss(zero_bias_history, \"Zero Bias\", 0)\n",
    "plot_loss(careful_bias_history, \"Careful Bias\", 1)"
   ]
  },
  {
   "cell_type": "code",
   "execution_count": 22,
   "id": "84a882ab-10dd-4acd-ab71-a732342a394a",
   "metadata": {},
   "outputs": [
    {
     "name": "stdout",
     "output_type": "stream",
     "text": [
      "Epoch 1/100\n",
      "28/28 [==============================] - 2s 28ms/step - loss: 0.3363 - tp: 40811.2414 - fp: 2984.4138 - tn: 91.7586 - fn: 851.4483 - accuracy: 0.9142 - precision: 0.9319 - recall: 0.9794 - auc: 0.5256 - prc: 0.9331 - val_loss: 0.2574 - val_tp: 13165.0000 - val_fp: 975.0000 - val_tn: 0.0000e+00 - val_fn: 3.0000 - val_accuracy: 0.9308 - val_precision: 0.9310 - val_recall: 0.9998 - val_auc: 0.5484 - val_prc: 0.9391\n",
      "Epoch 2/100\n",
      "28/28 [==============================] - 0s 6ms/step - loss: 0.2735 - tp: 28370.1379 - fp: 2059.4138 - tn: 28.9310 - fn: 137.3793 - accuracy: 0.9285 - precision: 0.9330 - recall: 0.9948 - auc: 0.5394 - prc: 0.9390 - val_loss: 0.2528 - val_tp: 13164.0000 - val_fp: 974.0000 - val_tn: 1.0000 - val_fn: 4.0000 - val_accuracy: 0.9308 - val_precision: 0.9311 - val_recall: 0.9997 - val_auc: 0.5631 - val_prc: 0.9418\n",
      "Epoch 3/100\n",
      "28/28 [==============================] - 0s 6ms/step - loss: 0.2670 - tp: 28410.5517 - fp: 2081.1379 - tn: 20.5172 - fn: 83.6552 - accuracy: 0.9291 - precision: 0.9318 - recall: 0.9968 - auc: 0.5395 - prc: 0.9375 - val_loss: 0.2503 - val_tp: 13164.0000 - val_fp: 974.0000 - val_tn: 1.0000 - val_fn: 4.0000 - val_accuracy: 0.9308 - val_precision: 0.9311 - val_recall: 0.9997 - val_auc: 0.5713 - val_prc: 0.9434\n",
      "Epoch 4/100\n",
      "28/28 [==============================] - 0s 6ms/step - loss: 0.2637 - tp: 28416.8621 - fp: 2112.9655 - tn: 20.0000 - fn: 46.0345 - accuracy: 0.9295 - precision: 0.9308 - recall: 0.9984 - auc: 0.5483 - prc: 0.9366 - val_loss: 0.2493 - val_tp: 13165.0000 - val_fp: 974.0000 - val_tn: 1.0000 - val_fn: 3.0000 - val_accuracy: 0.9309 - val_precision: 0.9311 - val_recall: 0.9998 - val_auc: 0.5739 - val_prc: 0.9442\n",
      "Epoch 5/100\n",
      "28/28 [==============================] - 0s 6ms/step - loss: 0.2589 - tp: 28453.5517 - fp: 2100.6897 - tn: 14.3793 - fn: 27.2414 - accuracy: 0.9299 - precision: 0.9306 - recall: 0.9991 - auc: 0.5506 - prc: 0.9386 - val_loss: 0.2489 - val_tp: 13164.0000 - val_fp: 973.0000 - val_tn: 2.0000 - val_fn: 4.0000 - val_accuracy: 0.9309 - val_precision: 0.9312 - val_recall: 0.9997 - val_auc: 0.5775 - val_prc: 0.9446\n",
      "Epoch 6/100\n",
      "28/28 [==============================] - 0s 6ms/step - loss: 0.2568 - tp: 28459.6552 - fp: 2098.1379 - tn: 16.7586 - fn: 21.3103 - accuracy: 0.9301 - precision: 0.9307 - recall: 0.9992 - auc: 0.5588 - prc: 0.9406 - val_loss: 0.2484 - val_tp: 13166.0000 - val_fp: 973.0000 - val_tn: 2.0000 - val_fn: 2.0000 - val_accuracy: 0.9311 - val_precision: 0.9312 - val_recall: 0.9998 - val_auc: 0.5786 - val_prc: 0.9444\n",
      "Epoch 7/100\n",
      "28/28 [==============================] - 0s 6ms/step - loss: 0.2540 - tp: 28449.1724 - fp: 2106.7241 - tn: 15.2414 - fn: 24.7241 - accuracy: 0.9302 - precision: 0.9309 - recall: 0.9992 - auc: 0.5608 - prc: 0.9396 - val_loss: 0.2481 - val_tp: 13166.0000 - val_fp: 973.0000 - val_tn: 2.0000 - val_fn: 2.0000 - val_accuracy: 0.9311 - val_precision: 0.9312 - val_recall: 0.9998 - val_auc: 0.5786 - val_prc: 0.9445\n",
      "Epoch 8/100\n",
      "28/28 [==============================] - 0s 6ms/step - loss: 0.2489 - tp: 28475.8276 - fp: 2080.4828 - tn: 17.0690 - fn: 22.4828 - accuracy: 0.9316 - precision: 0.9322 - recall: 0.9992 - auc: 0.5813 - prc: 0.9448 - val_loss: 0.2479 - val_tp: 13165.0000 - val_fp: 973.0000 - val_tn: 2.0000 - val_fn: 3.0000 - val_accuracy: 0.9310 - val_precision: 0.9312 - val_recall: 0.9998 - val_auc: 0.5822 - val_prc: 0.9450\n",
      "Epoch 9/100\n",
      "28/28 [==============================] - 0s 6ms/step - loss: 0.2505 - tp: 28460.8621 - fp: 2096.6552 - tn: 16.5862 - fn: 21.7586 - accuracy: 0.9307 - precision: 0.9313 - recall: 0.9992 - auc: 0.5712 - prc: 0.9426 - val_loss: 0.2476 - val_tp: 13165.0000 - val_fp: 973.0000 - val_tn: 2.0000 - val_fn: 3.0000 - val_accuracy: 0.9310 - val_precision: 0.9312 - val_recall: 0.9998 - val_auc: 0.5851 - val_prc: 0.9447\n",
      "Epoch 10/100\n",
      "28/28 [==============================] - 0s 6ms/step - loss: 0.2507 - tp: 28451.4828 - fp: 2103.9655 - tn: 16.8276 - fn: 23.5862 - accuracy: 0.9301 - precision: 0.9309 - recall: 0.9991 - auc: 0.5802 - prc: 0.9443 - val_loss: 0.2476 - val_tp: 13165.0000 - val_fp: 973.0000 - val_tn: 2.0000 - val_fn: 3.0000 - val_accuracy: 0.9310 - val_precision: 0.9312 - val_recall: 0.9998 - val_auc: 0.5827 - val_prc: 0.9446\n",
      "Epoch 11/100\n",
      "28/28 [==============================] - 0s 6ms/step - loss: 0.2455 - tp: 28478.3448 - fp: 2087.2069 - tn: 15.2069 - fn: 15.1034 - accuracy: 0.9323 - precision: 0.9328 - recall: 0.9994 - auc: 0.5774 - prc: 0.9452 - val_loss: 0.2474 - val_tp: 13166.0000 - val_fp: 973.0000 - val_tn: 2.0000 - val_fn: 2.0000 - val_accuracy: 0.9311 - val_precision: 0.9312 - val_recall: 0.9998 - val_auc: 0.5833 - val_prc: 0.9446\n",
      "Epoch 12/100\n",
      "28/28 [==============================] - 0s 6ms/step - loss: 0.2468 - tp: 28472.1034 - fp: 2088.9310 - tn: 20.5517 - fn: 14.2759 - accuracy: 0.9316 - precision: 0.9320 - recall: 0.9995 - auc: 0.5812 - prc: 0.9452 - val_loss: 0.2474 - val_tp: 13166.0000 - val_fp: 971.0000 - val_tn: 4.0000 - val_fn: 2.0000 - val_accuracy: 0.9312 - val_precision: 0.9313 - val_recall: 0.9998 - val_auc: 0.5855 - val_prc: 0.9446\n",
      "Epoch 13/100\n",
      "28/28 [==============================] - 0s 6ms/step - loss: 0.2494 - tp: 28440.9310 - fp: 2114.1034 - tn: 19.6207 - fn: 21.2069 - accuracy: 0.9300 - precision: 0.9306 - recall: 0.9993 - auc: 0.5918 - prc: 0.9454 - val_loss: 0.2472 - val_tp: 13166.0000 - val_fp: 973.0000 - val_tn: 2.0000 - val_fn: 2.0000 - val_accuracy: 0.9311 - val_precision: 0.9312 - val_recall: 0.9998 - val_auc: 0.5824 - val_prc: 0.9438\n",
      "Epoch 14/100\n",
      "28/28 [==============================] - 0s 6ms/step - loss: 0.2484 - tp: 28458.0345 - fp: 2103.3448 - tn: 19.9655 - fn: 14.5172 - accuracy: 0.9304 - precision: 0.9308 - recall: 0.9994 - auc: 0.5981 - prc: 0.9473 - val_loss: 0.2472 - val_tp: 13167.0000 - val_fp: 972.0000 - val_tn: 3.0000 - val_fn: 1.0000 - val_accuracy: 0.9312 - val_precision: 0.9313 - val_recall: 0.9999 - val_auc: 0.5856 - val_prc: 0.9442\n",
      "Epoch 15/100\n",
      "28/28 [==============================] - 0s 6ms/step - loss: 0.2451 - tp: 28469.5517 - fp: 2093.0690 - tn: 14.7586 - fn: 18.4828 - accuracy: 0.9312 - precision: 0.9318 - recall: 0.9993 - auc: 0.5964 - prc: 0.9476 - val_loss: 0.2471 - val_tp: 13166.0000 - val_fp: 972.0000 - val_tn: 3.0000 - val_fn: 2.0000 - val_accuracy: 0.9311 - val_precision: 0.9312 - val_recall: 0.9998 - val_auc: 0.5838 - val_prc: 0.9438\n",
      "Epoch 16/100\n",
      "28/28 [==============================] - 0s 6ms/step - loss: 0.2397 - tp: 28514.2759 - fp: 2050.7241 - tn: 15.2069 - fn: 15.6552 - accuracy: 0.9338 - precision: 0.9343 - recall: 0.9995 - auc: 0.5940 - prc: 0.9489 - val_loss: 0.2472 - val_tp: 13165.0000 - val_fp: 971.0000 - val_tn: 4.0000 - val_fn: 3.0000 - val_accuracy: 0.9311 - val_precision: 0.9313 - val_recall: 0.9998 - val_auc: 0.5831 - val_prc: 0.9436\n",
      "Epoch 17/100\n",
      "28/28 [==============================] - 0s 6ms/step - loss: 0.2477 - tp: 28457.7931 - fp: 2105.5172 - tn: 18.3448 - fn: 14.2069 - accuracy: 0.9305 - precision: 0.9309 - recall: 0.9995 - auc: 0.5906 - prc: 0.9455 - val_loss: 0.2473 - val_tp: 13165.0000 - val_fp: 971.0000 - val_tn: 4.0000 - val_fn: 3.0000 - val_accuracy: 0.9311 - val_precision: 0.9313 - val_recall: 0.9998 - val_auc: 0.5799 - val_prc: 0.9435\n",
      "Epoch 18/100\n",
      "28/28 [==============================] - 0s 6ms/step - loss: 0.2455 - tp: 28472.7241 - fp: 2082.3793 - tn: 20.0690 - fn: 20.6897 - accuracy: 0.9311 - precision: 0.9317 - recall: 0.9992 - auc: 0.5995 - prc: 0.9483 - val_loss: 0.2472 - val_tp: 13167.0000 - val_fp: 971.0000 - val_tn: 4.0000 - val_fn: 1.0000 - val_accuracy: 0.9313 - val_precision: 0.9313 - val_recall: 0.9999 - val_auc: 0.5830 - val_prc: 0.9435\n",
      "Restoring model weights from the end of the best epoch.\n",
      "Epoch 00018: early stopping\n"
     ]
    }
   ],
   "source": [
    "model = make_model()\n",
    "model.load_weights(initial_weights)\n",
    "baseline_history = model.fit(\n",
    "    x_train,\n",
    "    y_train,\n",
    "    batch_size=BATCH_SIZE,\n",
    "    epochs=EPOCHS,\n",
    "    callbacks=[early_stopping],\n",
    "    validation_data=(x_test, y_test))"
   ]
  },
  {
   "cell_type": "code",
   "execution_count": null,
   "id": "80f3a014-8638-4f28-9bed-daa3f8cde812",
   "metadata": {},
   "outputs": [],
   "source": [
    "def plot_metrics(history):\n",
    "  metrics = ['loss', 'prc', 'precision', 'recall']\n",
    "  for n, metric in enumerate(metrics):\n",
    "    name = metric.replace(\"_\",\" \").capitalize()\n",
    "    plt.subplot(2,2,n+1)\n",
    "    plt.plot(history.epoch, history.history[metric], color=colors[0], label='Train')\n",
    "    plt.plot(history.epoch, history.history['val_'+metric],\n",
    "             color=colors[0], linestyle=\"--\", label='Val')\n",
    "    plt.xlabel('Epoch')\n",
    "    plt.ylabel(name)\n",
    "    if metric == 'loss':\n",
    "      plt.ylim([0, plt.ylim()[1]])\n",
    "    elif metric == 'auc':\n",
    "      plt.ylim([0.8,1])\n",
    "    else:\n",
    "      plt.ylim([0,1])\n",
    "\n",
    "    plt.legend()"
   ]
  },
  {
   "cell_type": "code",
   "execution_count": null,
   "id": "03f65075-384f-4891-a084-2da33292cec9",
   "metadata": {},
   "outputs": [],
   "source": [
    "plot_metrics(baseline_history)"
   ]
  },
  {
   "cell_type": "code",
   "execution_count": null,
   "id": "048ccc2f-9a0e-40df-8a16-f00a444dc113",
   "metadata": {},
   "outputs": [],
   "source": [
    "train_predictions_baseline = model.predict(x_train, batch_size=BATCH_SIZE)\n",
    "test_predictions_baseline = model.predict(x_test, batch_size=BATCH_SIZE)"
   ]
  },
  {
   "cell_type": "code",
   "execution_count": null,
   "id": "bdcee9e1-7155-4d14-a0d3-7ba0ef3d3af4",
   "metadata": {},
   "outputs": [],
   "source": [
    "def plot_cm(labels, predictions, p=0.5):\n",
    "  cm = confusion_matrix(labels, predictions > p)\n",
    "  plt.figure(figsize=(5,5))\n",
    "  # sns.heatmap(cm, annot=True, fmt=\"d\")\n",
    "  plt.title('Confusion matrix @{:.2f}'.format(p))\n",
    "  plt.ylabel('Actual label')\n",
    "  plt.xlabel('Predicted label')\n",
    "\n",
    "  print('Legitimate Transactions Detected (True Negatives): ', cm[0][0])\n",
    "  print('Legitimate Transactions Incorrectly Detected (False Positives): ', cm[0][1])\n",
    "  print('Fraudulent Transactions Missed (False Negatives): ', cm[1][0])\n",
    "  print('Fraudulent Transactions Detected (True Positives): ', cm[1][1])\n",
    "  print('Total Fraudulent Transactions: ', np.sum(cm[1]))\n",
    "  print(cm)"
   ]
  },
  {
   "cell_type": "code",
   "execution_count": null,
   "id": "4e2913eb-27d8-46cc-a961-d2816c5c00ea",
   "metadata": {},
   "outputs": [],
   "source": [
    "baseline_results = model.evaluate(x_test, y_test,\n",
    "                                  batch_size=BATCH_SIZE, verbose=0)\n",
    "for name, value in zip(model.metrics_names, baseline_results):\n",
    "  print(name, ': ', value)\n",
    "print()\n",
    "\n",
    "plot_cm(y_test, test_predictions_baseline)"
   ]
  },
  {
   "cell_type": "code",
   "execution_count": null,
   "id": "7c39296e-8c09-4f66-a4a2-f042c6c1876d",
   "metadata": {},
   "outputs": [],
   "source": []
  },
  {
   "cell_type": "code",
   "execution_count": null,
   "id": "0b10699b-a69e-4dcc-88ff-d0f100bb7351",
   "metadata": {},
   "outputs": [],
   "source": []
  },
  {
   "cell_type": "code",
   "execution_count": null,
   "id": "ce129f47-1d9a-43a5-b11a-d1e6fc3eda61",
   "metadata": {},
   "outputs": [],
   "source": []
  },
  {
   "cell_type": "code",
   "execution_count": null,
   "id": "60337212-f3b9-49cf-856d-3bf5af39ef71",
   "metadata": {},
   "outputs": [],
   "source": [
    "model = tf.keras.models.Sequential([\n",
    "  tf.keras.layers.Dense(128, activation='relu'),\n",
    "  tf.keras.layers.Dropout(0.2),\n",
    "  tf.keras.layers.Dense(128, activation='relu'),\n",
    "  tf.keras.layers.Dropout(0.2),\n",
    "  tf.keras.layers.Dense(128, activation='relu'),\n",
    "  tf.keras.layers.Dropout(0.2),\n",
    "  tf.keras.layers.Dense(3)\n",
    "])"
   ]
  },
  {
   "cell_type": "code",
   "execution_count": null,
   "id": "b91e3554-09df-4ae8-807a-18eeac6a4e08",
   "metadata": {},
   "outputs": [],
   "source": [
    "predictions = model(x_train[:1]).numpy()\n",
    "predictions"
   ]
  },
  {
   "cell_type": "code",
   "execution_count": null,
   "id": "b1af04c8-98cd-4bd5-85a2-329083610797",
   "metadata": {},
   "outputs": [],
   "source": [
    "tf.nn.softmax(predictions).numpy()"
   ]
  },
  {
   "cell_type": "code",
   "execution_count": null,
   "id": "b0772f88-de4b-4bcf-bca1-d1a0083733a2",
   "metadata": {},
   "outputs": [],
   "source": [
    "loss_fn = tf.keras.losses.SparseCategoricalCrossentropy(from_logits=True)\n",
    "# sample_weight=tf.constant([2, 2, 0.1])\n",
    "loss_fn(y_train[:1], predictions, sample_weight=tf.constant([2, 2, 0.1])).numpy()"
   ]
  },
  {
   "cell_type": "code",
   "execution_count": null,
   "id": "21428681-233d-4769-9f02-43c18d159769",
   "metadata": {},
   "outputs": [],
   "source": [
    "model.compile(optimizer='adam',\n",
    "              # loss=loss_fn,\n",
    "              loss=loss_fn,\n",
    "              metrics=['categorical_accuracy'])"
   ]
  },
  {
   "cell_type": "code",
   "execution_count": null,
   "id": "574b5ca6-6162-4bf1-9749-9b57fa39ef75",
   "metadata": {},
   "outputs": [],
   "source": [
    "class_weight = {0:1.2,\n",
    "               1:1.2,\n",
    "               2:0.1}\n",
    "model.fit(x_train, y_train, epochs=50, class_weight=class_weight)"
   ]
  },
  {
   "cell_type": "code",
   "execution_count": null,
   "id": "adda3d59-452e-41f4-980c-b044c5ad8703",
   "metadata": {},
   "outputs": [],
   "source": [
    "model.evaluate(x_test,  y_test, verbose=2)\n",
    "\n"
   ]
  },
  {
   "cell_type": "code",
   "execution_count": null,
   "id": "edabf86d-d5b3-4717-b5e7-ef575a7cd46c",
   "metadata": {},
   "outputs": [],
   "source": [
    "ids2test = [0,76,77,83,90,1036, 1055, 3168,5558,14140]\n",
    "\n",
    "# 83,    90, 3168 !!! 1\n",
    "# 1036,  1055  5558, !!! 0\n",
    "# 14140 0 76,  77 !!! 2"
   ]
  },
  {
   "cell_type": "code",
   "execution_count": null,
   "id": "6e7b64ed-4b16-4b78-9ff0-960c339f71f1",
   "metadata": {},
   "outputs": [],
   "source": [
    "logits = model.predict(x_test[ids2test,:])\n",
    "results = tf.math.argmax(tf.nn.softmax(logits).numpy(), axis =1)\n",
    "print(results.numpy())\n",
    "print(y_test[ids2test])"
   ]
  },
  {
   "cell_type": "code",
   "execution_count": null,
   "id": "7ba7684f-4fb3-4bd5-b0ed-ac61cee13de6",
   "metadata": {},
   "outputs": [],
   "source": [
    "m = tf.keras.metrics.Recall()\n",
    "m.update_state(tf.nn.softmax(logits).numpy(), y_test[ids2test])\n",
    "m.result().numpy()"
   ]
  }
 ],
 "metadata": {
  "kernelspec": {
   "display_name": "Python 3 (ipykernel)",
   "language": "python",
   "name": "python3"
  },
  "language_info": {
   "codemirror_mode": {
    "name": "ipython",
    "version": 3
   },
   "file_extension": ".py",
   "mimetype": "text/x-python",
   "name": "python",
   "nbconvert_exporter": "python",
   "pygments_lexer": "ipython3",
   "version": "3.9.12"
  }
 },
 "nbformat": 4,
 "nbformat_minor": 5
}
