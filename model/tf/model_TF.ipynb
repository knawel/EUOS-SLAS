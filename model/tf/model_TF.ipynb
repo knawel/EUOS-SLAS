{
 "cells": [
  {
   "cell_type": "code",
   "execution_count": 1,
   "id": "4769d53c-be86-489c-bfbf-2c68976302fd",
   "metadata": {},
   "outputs": [
    {
     "name": "stderr",
     "output_type": "stream",
     "text": [
      "2022-11-05 00:17:58.823499: I tensorflow/stream_executor/platform/default/dso_loader.cc:49] Successfully opened dynamic library libcudart.so.10.1\n"
     ]
    },
    {
     "name": "stdout",
     "output_type": "stream",
     "text": [
      "TensorFlow version: 2.4.1\n"
     ]
    }
   ],
   "source": [
    "import tensorflow as tf\n",
    "from tensorflow import keras\n",
    "print(\"TensorFlow version:\", tf.__version__)"
   ]
  },
  {
   "cell_type": "code",
   "execution_count": 56,
   "id": "9caccbb1-b432-4bad-b137-3c6a13d94f19",
   "metadata": {},
   "outputs": [],
   "source": [
    "import pandas as pd\n",
    "import numpy as np\n",
    "from sklearn.model_selection import train_test_split\n",
    "from sklearn.preprocessing import StandardScaler\n",
    "from sklearn.metrics import confusion_matrix, f1_score, cohen_kappa_score\n",
    "import matplotlib as mpl\n",
    "import matplotlib.pyplot as plt\n",
    "# import seaborn as sns"
   ]
  },
  {
   "cell_type": "code",
   "execution_count": 3,
   "id": "d0850321-815f-40d3-b981-59053ed979bc",
   "metadata": {},
   "outputs": [],
   "source": [
    "from os.path import join\n",
    "import os"
   ]
  },
  {
   "cell_type": "code",
   "execution_count": 4,
   "id": "82994eb6-37e0-4e77-83e4-8a2a09e11adc",
   "metadata": {},
   "outputs": [],
   "source": [
    "mpl.rcParams['figure.figsize'] = (12, 10)\n",
    "colors = plt.rcParams['axes.prop_cycle'].by_key()['color']"
   ]
  },
  {
   "cell_type": "code",
   "execution_count": 5,
   "id": "dc469b93-7f59-4321-9668-53f8a50877c7",
   "metadata": {},
   "outputs": [],
   "source": [
    "data_folder = \"../../data/preprocessed/\""
   ]
  },
  {
   "cell_type": "code",
   "execution_count": 10,
   "id": "b098da5a-19f1-4b0c-a238-b0959bd3ef52",
   "metadata": {},
   "outputs": [],
   "source": [
    "X = pd.read_pickle(join(data_folder, \"X.pk\"))\n",
    "y = pd.read_pickle(join(data_folder, \"Y.pk\"))\n",
    "X_mat = X.values\n",
    "y_vec = y.values.flatten()\n",
    "scaler = StandardScaler()\n",
    "scaler.fit(X_mat)\n",
    "X_mat = scaler.transform(X_mat)\n",
    "\n",
    "x_train, x_test, y_train, y_test = train_test_split(X_mat, y_vec, test_size=0.12, random_state=123)\n"
   ]
  },
  {
   "cell_type": "code",
   "execution_count": 14,
   "id": "78e2359b-29b5-4a2d-a56c-40d057440ee5",
   "metadata": {},
   "outputs": [
    {
     "data": {
      "text/plain": [
       "7899"
      ]
     },
     "execution_count": 14,
     "metadata": {},
     "output_type": "execute_result"
    }
   ],
   "source": [
    "np.sum(y_test == 2)"
   ]
  },
  {
   "cell_type": "code",
   "execution_count": 11,
   "id": "cc9089ec-f41f-4157-91c8-2e41691a819f",
   "metadata": {},
   "outputs": [
    {
     "data": {
      "text/plain": [
       "(8486, 262)"
      ]
     },
     "execution_count": 11,
     "metadata": {},
     "output_type": "execute_result"
    }
   ],
   "source": [
    "x_test.shape"
   ]
  },
  {
   "cell_type": "code",
   "execution_count": 15,
   "id": "155ad6dc-2321-481c-acb7-c92f008ddd9a",
   "metadata": {},
   "outputs": [],
   "source": [
    "EPOCHS = 100\n",
    "BATCH_SIZE = 2048\n"
   ]
  },
  {
   "cell_type": "code",
   "execution_count": null,
   "id": "ce129f47-1d9a-43a5-b11a-d1e6fc3eda61",
   "metadata": {},
   "outputs": [],
   "source": []
  },
  {
   "cell_type": "code",
   "execution_count": 50,
   "id": "60337212-f3b9-49cf-856d-3bf5af39ef71",
   "metadata": {},
   "outputs": [],
   "source": [
    "model = tf.keras.models.Sequential([\n",
    "  tf.keras.layers.Dense(128, activation='relu'),\n",
    "  tf.keras.layers.Dense(64, activation='relu'),\n",
    "  tf.keras.layers.Dropout(0.2),\n",
    "  tf.keras.layers.Dense(64, activation='relu'),\n",
    "  tf.keras.layers.Dropout(0.2),\n",
    "  tf.keras.layers.Dense(64, activation='relu'),\n",
    "  tf.keras.layers.Dense(3)\n",
    "])"
   ]
  },
  {
   "cell_type": "code",
   "execution_count": 51,
   "id": "b91e3554-09df-4ae8-807a-18eeac6a4e08",
   "metadata": {},
   "outputs": [
    {
     "data": {
      "text/plain": [
       "array([[ 0.17441374, -0.37345812,  0.5108738 ]], dtype=float32)"
      ]
     },
     "execution_count": 51,
     "metadata": {},
     "output_type": "execute_result"
    }
   ],
   "source": [
    "predictions = model(x_train[:1]).numpy()\n",
    "predictions"
   ]
  },
  {
   "cell_type": "code",
   "execution_count": 52,
   "id": "b1af04c8-98cd-4bd5-85a2-329083610797",
   "metadata": {},
   "outputs": [
    {
     "data": {
      "text/plain": [
       "array([[0.33577758, 0.19413953, 0.47008285]], dtype=float32)"
      ]
     },
     "execution_count": 52,
     "metadata": {},
     "output_type": "execute_result"
    }
   ],
   "source": [
    "tf.nn.softmax(predictions).numpy()"
   ]
  },
  {
   "cell_type": "code",
   "execution_count": 53,
   "id": "b0772f88-de4b-4bcf-bca1-d1a0083733a2",
   "metadata": {},
   "outputs": [
    {
     "data": {
      "text/plain": [
       "2.2402103"
      ]
     },
     "execution_count": 53,
     "metadata": {},
     "output_type": "execute_result"
    }
   ],
   "source": [
    "loss_fn = tf.keras.losses.SparseCategoricalCrossentropy(from_logits=True)\n",
    "# sample_weight=tf.constant([2, 2, 0.1])\n",
    "loss_fn(y_train[:1], predictions, sample_weight=tf.constant([2, 2, 0.1])).numpy()"
   ]
  },
  {
   "cell_type": "code",
   "execution_count": 64,
   "id": "21428681-233d-4769-9f02-43c18d159769",
   "metadata": {},
   "outputs": [],
   "source": [
    "model.compile(optimizer='adam',\n",
    "              # loss=loss_fn,\n",
    "              loss=loss_fn,\n",
    "              metrics=['categorical_accuracy'])"
   ]
  },
  {
   "cell_type": "code",
   "execution_count": 65,
   "id": "574b5ca6-6162-4bf1-9749-9b57fa39ef75",
   "metadata": {},
   "outputs": [
    {
     "name": "stdout",
     "output_type": "stream",
     "text": [
      "Epoch 1/100\n",
      "1945/1945 [==============================] - 2s 1ms/step - loss: 0.1260 - categorical_accuracy: 0.0738\n",
      "Epoch 2/100\n",
      "1945/1945 [==============================] - 2s 1ms/step - loss: 0.1182 - categorical_accuracy: 0.0634\n",
      "Epoch 3/100\n",
      "1945/1945 [==============================] - 2s 1ms/step - loss: 0.1179 - categorical_accuracy: 0.0716\n",
      "Epoch 4/100\n",
      "1945/1945 [==============================] - 2s 1ms/step - loss: 0.1164 - categorical_accuracy: 0.0684\n",
      "Epoch 5/100\n",
      "1945/1945 [==============================] - 2s 1ms/step - loss: 0.1145 - categorical_accuracy: 0.0672\n",
      "Epoch 6/100\n",
      "1945/1945 [==============================] - 2s 1ms/step - loss: 0.1156 - categorical_accuracy: 0.0762\n",
      "Epoch 7/100\n",
      "1945/1945 [==============================] - 2s 1ms/step - loss: 0.1144 - categorical_accuracy: 0.0704\n",
      "Epoch 8/100\n",
      "1945/1945 [==============================] - 2s 1ms/step - loss: 0.1155 - categorical_accuracy: 0.0712\n",
      "Epoch 9/100\n",
      "1945/1945 [==============================] - 2s 1ms/step - loss: 0.1113 - categorical_accuracy: 0.0740\n",
      "Epoch 10/100\n",
      "1945/1945 [==============================] - 2s 1ms/step - loss: 0.1107 - categorical_accuracy: 0.0720\n",
      "Epoch 11/100\n",
      "1945/1945 [==============================] - 2s 1ms/step - loss: 0.1110 - categorical_accuracy: 0.0706\n",
      "Epoch 12/100\n",
      "1945/1945 [==============================] - 2s 1ms/step - loss: 0.1142 - categorical_accuracy: 0.0713\n",
      "Epoch 13/100\n",
      "1945/1945 [==============================] - 2s 1ms/step - loss: 0.1111 - categorical_accuracy: 0.0727\n",
      "Epoch 14/100\n",
      "1945/1945 [==============================] - 2s 1ms/step - loss: 0.1047 - categorical_accuracy: 0.0682\n",
      "Epoch 15/100\n",
      "1945/1945 [==============================] - 2s 1ms/step - loss: 0.1056 - categorical_accuracy: 0.0761\n",
      "Epoch 16/100\n",
      "1945/1945 [==============================] - 2s 1ms/step - loss: 0.1054 - categorical_accuracy: 0.0748\n",
      "Epoch 17/100\n",
      "1945/1945 [==============================] - 2s 1ms/step - loss: 0.1074 - categorical_accuracy: 0.0784\n",
      "Epoch 18/100\n",
      "1945/1945 [==============================] - 2s 1ms/step - loss: 0.1067 - categorical_accuracy: 0.0782\n",
      "Epoch 19/100\n",
      "1945/1945 [==============================] - 2s 1ms/step - loss: 0.1054 - categorical_accuracy: 0.0702\n",
      "Epoch 20/100\n",
      "1945/1945 [==============================] - 2s 1ms/step - loss: 0.1049 - categorical_accuracy: 0.0777\n",
      "Epoch 21/100\n",
      "1945/1945 [==============================] - 2s 1ms/step - loss: 0.1040 - categorical_accuracy: 0.0701\n",
      "Epoch 22/100\n",
      "1945/1945 [==============================] - 2s 1ms/step - loss: 0.1025 - categorical_accuracy: 0.0710\n",
      "Epoch 23/100\n",
      "1945/1945 [==============================] - 2s 1ms/step - loss: 0.1049 - categorical_accuracy: 0.0770\n",
      "Epoch 24/100\n",
      "1945/1945 [==============================] - 2s 1ms/step - loss: 0.1022 - categorical_accuracy: 0.0766\n",
      "Epoch 25/100\n",
      "1945/1945 [==============================] - 2s 1ms/step - loss: 0.1012 - categorical_accuracy: 0.0757\n",
      "Epoch 26/100\n",
      "1945/1945 [==============================] - 2s 1ms/step - loss: 0.0995 - categorical_accuracy: 0.0795\n",
      "Epoch 27/100\n",
      "1945/1945 [==============================] - 2s 1ms/step - loss: 0.1007 - categorical_accuracy: 0.0786\n",
      "Epoch 28/100\n",
      "1945/1945 [==============================] - 2s 1ms/step - loss: 0.0972 - categorical_accuracy: 0.0768\n",
      "Epoch 29/100\n",
      "1945/1945 [==============================] - 2s 1ms/step - loss: 0.1015 - categorical_accuracy: 0.0754\n",
      "Epoch 30/100\n",
      "1945/1945 [==============================] - 2s 1ms/step - loss: 0.0987 - categorical_accuracy: 0.0721\n",
      "Epoch 31/100\n",
      "1945/1945 [==============================] - 2s 1ms/step - loss: 0.0980 - categorical_accuracy: 0.0732\n",
      "Epoch 32/100\n",
      "1945/1945 [==============================] - 2s 1ms/step - loss: 0.1004 - categorical_accuracy: 0.0744\n",
      "Epoch 33/100\n",
      "1945/1945 [==============================] - 2s 1ms/step - loss: 0.0997 - categorical_accuracy: 0.0734\n",
      "Epoch 34/100\n",
      "1945/1945 [==============================] - 2s 1ms/step - loss: 0.0957 - categorical_accuracy: 0.0742\n",
      "Epoch 35/100\n",
      "1945/1945 [==============================] - 2s 1ms/step - loss: 0.0975 - categorical_accuracy: 0.0743\n",
      "Epoch 36/100\n",
      "1945/1945 [==============================] - 2s 1ms/step - loss: 0.0931 - categorical_accuracy: 0.0753\n",
      "Epoch 37/100\n",
      "1945/1945 [==============================] - 2s 1ms/step - loss: 0.0941 - categorical_accuracy: 0.0780\n",
      "Epoch 38/100\n",
      "1945/1945 [==============================] - 2s 1ms/step - loss: 0.0923 - categorical_accuracy: 0.0739\n",
      "Epoch 39/100\n",
      "1945/1945 [==============================] - 2s 1ms/step - loss: 0.0942 - categorical_accuracy: 0.0743\n",
      "Epoch 40/100\n",
      "1945/1945 [==============================] - 2s 1ms/step - loss: 0.0950 - categorical_accuracy: 0.0774\n",
      "Epoch 41/100\n",
      "1945/1945 [==============================] - 2s 1ms/step - loss: 0.0920 - categorical_accuracy: 0.0699\n",
      "Epoch 42/100\n",
      "1945/1945 [==============================] - 2s 1ms/step - loss: 0.0946 - categorical_accuracy: 0.0724\n",
      "Epoch 43/100\n",
      "1945/1945 [==============================] - 2s 1ms/step - loss: 0.0918 - categorical_accuracy: 0.0686\n",
      "Epoch 44/100\n",
      "1945/1945 [==============================] - 2s 1ms/step - loss: 0.0908 - categorical_accuracy: 0.0737\n",
      "Epoch 45/100\n",
      "1945/1945 [==============================] - 2s 1ms/step - loss: 0.0924 - categorical_accuracy: 0.0796\n",
      "Epoch 46/100\n",
      "1945/1945 [==============================] - 2s 1ms/step - loss: 0.0932 - categorical_accuracy: 0.0695\n",
      "Epoch 47/100\n",
      "1945/1945 [==============================] - 2s 1ms/step - loss: 0.0890 - categorical_accuracy: 0.0697\n",
      "Epoch 48/100\n",
      "1945/1945 [==============================] - 2s 1ms/step - loss: 0.0920 - categorical_accuracy: 0.0728\n",
      "Epoch 49/100\n",
      "1945/1945 [==============================] - 2s 1ms/step - loss: 0.0910 - categorical_accuracy: 0.0723\n",
      "Epoch 50/100\n",
      "1945/1945 [==============================] - 2s 1ms/step - loss: 0.0896 - categorical_accuracy: 0.0704\n",
      "Epoch 51/100\n",
      "1945/1945 [==============================] - 2s 1ms/step - loss: 0.0877 - categorical_accuracy: 0.0735\n",
      "Epoch 52/100\n",
      "1945/1945 [==============================] - 2s 1ms/step - loss: 0.0944 - categorical_accuracy: 0.0711\n",
      "Epoch 53/100\n",
      "1945/1945 [==============================] - 2s 1ms/step - loss: 0.0882 - categorical_accuracy: 0.0735\n",
      "Epoch 54/100\n",
      "1945/1945 [==============================] - 2s 1ms/step - loss: 0.0894 - categorical_accuracy: 0.0710\n",
      "Epoch 55/100\n",
      "1945/1945 [==============================] - 2s 1ms/step - loss: 0.0865 - categorical_accuracy: 0.0744\n",
      "Epoch 56/100\n",
      "1945/1945 [==============================] - 2s 1ms/step - loss: 0.0864 - categorical_accuracy: 0.0774\n",
      "Epoch 57/100\n",
      "1945/1945 [==============================] - 2s 1ms/step - loss: 0.0907 - categorical_accuracy: 0.0750\n",
      "Epoch 58/100\n",
      "1945/1945 [==============================] - 2s 1ms/step - loss: 0.0881 - categorical_accuracy: 0.0750\n",
      "Epoch 59/100\n",
      "1945/1945 [==============================] - 2s 1ms/step - loss: 0.0875 - categorical_accuracy: 0.0725\n",
      "Epoch 60/100\n",
      "1945/1945 [==============================] - 2s 1ms/step - loss: 0.0879 - categorical_accuracy: 0.0710\n",
      "Epoch 61/100\n",
      "1945/1945 [==============================] - 2s 1ms/step - loss: 0.0861 - categorical_accuracy: 0.0665\n",
      "Epoch 62/100\n",
      "1945/1945 [==============================] - 2s 1ms/step - loss: 0.0869 - categorical_accuracy: 0.0727\n",
      "Epoch 63/100\n",
      "1945/1945 [==============================] - 2s 1ms/step - loss: 0.0853 - categorical_accuracy: 0.0717\n",
      "Epoch 64/100\n",
      "1945/1945 [==============================] - 2s 1ms/step - loss: 0.0845 - categorical_accuracy: 0.0721\n",
      "Epoch 65/100\n",
      "1945/1945 [==============================] - 2s 1ms/step - loss: 0.0837 - categorical_accuracy: 0.0737\n",
      "Epoch 66/100\n",
      "1945/1945 [==============================] - 2s 1ms/step - loss: 0.0851 - categorical_accuracy: 0.0725\n",
      "Epoch 67/100\n",
      "1945/1945 [==============================] - 2s 1ms/step - loss: 0.0811 - categorical_accuracy: 0.0696\n",
      "Epoch 68/100\n",
      "1945/1945 [==============================] - 2s 1ms/step - loss: 0.0843 - categorical_accuracy: 0.0753\n",
      "Epoch 69/100\n",
      "1945/1945 [==============================] - 2s 1ms/step - loss: 0.0823 - categorical_accuracy: 0.0707\n",
      "Epoch 70/100\n",
      "1945/1945 [==============================] - 2s 1ms/step - loss: 0.0818 - categorical_accuracy: 0.0720\n",
      "Epoch 71/100\n",
      "1945/1945 [==============================] - 2s 1ms/step - loss: 0.0815 - categorical_accuracy: 0.0734\n",
      "Epoch 72/100\n",
      "1945/1945 [==============================] - 2s 1ms/step - loss: 0.0822 - categorical_accuracy: 0.0733\n",
      "Epoch 73/100\n",
      "1945/1945 [==============================] - 2s 1ms/step - loss: 0.0842 - categorical_accuracy: 0.0697\n",
      "Epoch 74/100\n",
      "1945/1945 [==============================] - 2s 1ms/step - loss: 0.0821 - categorical_accuracy: 0.0688\n",
      "Epoch 75/100\n",
      "1945/1945 [==============================] - 2s 1ms/step - loss: 0.0829 - categorical_accuracy: 0.0732\n",
      "Epoch 76/100\n",
      "1945/1945 [==============================] - 2s 1ms/step - loss: 0.0829 - categorical_accuracy: 0.0776\n",
      "Epoch 77/100\n",
      "1945/1945 [==============================] - 2s 1ms/step - loss: 0.0805 - categorical_accuracy: 0.0754\n",
      "Epoch 78/100\n",
      "1945/1945 [==============================] - 2s 1ms/step - loss: 0.0798 - categorical_accuracy: 0.0716\n",
      "Epoch 79/100\n",
      "1945/1945 [==============================] - 2s 1ms/step - loss: 0.0783 - categorical_accuracy: 0.0712\n",
      "Epoch 80/100\n",
      "1945/1945 [==============================] - 2s 1ms/step - loss: 0.0813 - categorical_accuracy: 0.0735\n",
      "Epoch 81/100\n",
      "1945/1945 [==============================] - 2s 1ms/step - loss: 0.0801 - categorical_accuracy: 0.0693\n",
      "Epoch 82/100\n",
      "1945/1945 [==============================] - 2s 1ms/step - loss: 0.0812 - categorical_accuracy: 0.0718\n",
      "Epoch 83/100\n",
      "1945/1945 [==============================] - 2s 1ms/step - loss: 0.0808 - categorical_accuracy: 0.0724\n",
      "Epoch 84/100\n",
      "1945/1945 [==============================] - 2s 1ms/step - loss: 0.0784 - categorical_accuracy: 0.0705\n",
      "Epoch 85/100\n",
      "1945/1945 [==============================] - 2s 1ms/step - loss: 0.0758 - categorical_accuracy: 0.0736\n",
      "Epoch 86/100\n",
      "1945/1945 [==============================] - 2s 1ms/step - loss: 0.0793 - categorical_accuracy: 0.0732\n",
      "Epoch 87/100\n",
      "1945/1945 [==============================] - 2s 1ms/step - loss: 0.0817 - categorical_accuracy: 0.0728\n",
      "Epoch 88/100\n",
      "1945/1945 [==============================] - 2s 1ms/step - loss: 0.0762 - categorical_accuracy: 0.0706\n",
      "Epoch 89/100\n",
      "1945/1945 [==============================] - 2s 1ms/step - loss: 0.0755 - categorical_accuracy: 0.0692\n",
      "Epoch 90/100\n",
      "1945/1945 [==============================] - 2s 1ms/step - loss: 0.0742 - categorical_accuracy: 0.0730\n",
      "Epoch 91/100\n",
      "1945/1945 [==============================] - 2s 1ms/step - loss: 0.0767 - categorical_accuracy: 0.0722\n",
      "Epoch 92/100\n",
      "1945/1945 [==============================] - 2s 1ms/step - loss: 0.0771 - categorical_accuracy: 0.0721\n",
      "Epoch 93/100\n",
      "1945/1945 [==============================] - 2s 1ms/step - loss: 0.0748 - categorical_accuracy: 0.0728\n",
      "Epoch 94/100\n",
      "1945/1945 [==============================] - 2s 1ms/step - loss: 0.0772 - categorical_accuracy: 0.0731\n",
      "Epoch 95/100\n",
      "1945/1945 [==============================] - 2s 1ms/step - loss: 0.0756 - categorical_accuracy: 0.0755\n",
      "Epoch 96/100\n",
      "1945/1945 [==============================] - 2s 1ms/step - loss: 0.0770 - categorical_accuracy: 0.0730\n",
      "Epoch 97/100\n",
      "1945/1945 [==============================] - 2s 1ms/step - loss: 0.0757 - categorical_accuracy: 0.0737\n",
      "Epoch 98/100\n",
      "1945/1945 [==============================] - 2s 1ms/step - loss: 0.0742 - categorical_accuracy: 0.0729\n",
      "Epoch 99/100\n",
      "1945/1945 [==============================] - 2s 1ms/step - loss: 0.0761 - categorical_accuracy: 0.0747\n",
      "Epoch 100/100\n",
      "1945/1945 [==============================] - 2s 1ms/step - loss: 0.0872 - categorical_accuracy: 0.0862\n"
     ]
    },
    {
     "data": {
      "text/plain": [
       "<tensorflow.python.keras.callbacks.History at 0x7feda824f910>"
      ]
     },
     "execution_count": 65,
     "metadata": {},
     "output_type": "execute_result"
    }
   ],
   "source": [
    "class_weight = {0:1.2,\n",
    "               1:1.2,\n",
    "               2:0.1}\n",
    "model.fit(x_train, y_train, epochs=100, class_weight=class_weight)"
   ]
  },
  {
   "cell_type": "code",
   "execution_count": 66,
   "id": "adda3d59-452e-41f4-980c-b044c5ad8703",
   "metadata": {},
   "outputs": [
    {
     "name": "stdout",
     "output_type": "stream",
     "text": [
      "266/266 - 0s - loss: 0.7958 - categorical_accuracy: 0.0350\n"
     ]
    },
    {
     "data": {
      "text/plain": [
       "[0.7958359122276306, 0.0349988229572773]"
      ]
     },
     "execution_count": 66,
     "metadata": {},
     "output_type": "execute_result"
    }
   ],
   "source": [
    "model.evaluate(x_test,  y_test, verbose=2)\n",
    "\n"
   ]
  },
  {
   "cell_type": "code",
   "execution_count": 67,
   "id": "883d65b1-6c24-4b62-933c-75d042adae65",
   "metadata": {},
   "outputs": [],
   "source": [
    "logits = model.predict(x_test)\n",
    "results = tf.math.argmax(tf.nn.softmax(logits).numpy(), axis =1)"
   ]
  },
  {
   "cell_type": "code",
   "execution_count": 68,
   "id": "e4438ba7-4c81-4d82-be98-0c1cb5b88297",
   "metadata": {},
   "outputs": [],
   "source": [
    "cm = confusion_matrix(results, y_test)\n",
    "score2 = cohen_kappa_score(results, y_test)"
   ]
  },
  {
   "cell_type": "code",
   "execution_count": 69,
   "id": "fef7490a-a2ea-437f-9225-574e801863b1",
   "metadata": {},
   "outputs": [
    {
     "data": {
      "text/plain": [
       "array([[  17,   18,  262],\n",
       "       [  26,   43,  618],\n",
       "       [ 196,  287, 7019]])"
      ]
     },
     "execution_count": 69,
     "metadata": {},
     "output_type": "execute_result"
    }
   ],
   "source": [
    "cm"
   ]
  },
  {
   "cell_type": "code",
   "execution_count": 70,
   "id": "c0e9a9f6-cbc6-4fa7-a9ab-e157cc0a4bd9",
   "metadata": {},
   "outputs": [
    {
     "data": {
      "text/plain": [
       "0.04050494385213421"
      ]
     },
     "execution_count": 70,
     "metadata": {},
     "output_type": "execute_result"
    }
   ],
   "source": [
    "score2"
   ]
  },
  {
   "cell_type": "markdown",
   "id": "d62f2442-6ce3-46d1-97dd-26a6015c5c13",
   "metadata": {},
   "source": [
    "## New Predictions"
   ]
  },
  {
   "cell_type": "code",
   "execution_count": 71,
   "id": "9c2ffce0-fb02-4fa7-a9d2-b2541dd4670b",
   "metadata": {},
   "outputs": [],
   "source": [
    "X = pd.read_pickle(join(data_folder, \"test.pk\"))\n",
    "X_mat = X.values"
   ]
  },
  {
   "cell_type": "code",
   "execution_count": 72,
   "id": "a11e60c5-cf5c-42ab-8235-fb4fc8653086",
   "metadata": {},
   "outputs": [],
   "source": [
    "X_mat = scaler.transform(X_mat)"
   ]
  },
  {
   "cell_type": "code",
   "execution_count": 74,
   "id": "bcc9b6d9-22ee-4168-91d9-97dace71a5a4",
   "metadata": {},
   "outputs": [],
   "source": [
    "logits = model.predict(X_mat)\n",
    "results = tf.math.argmax(tf.nn.softmax(logits).numpy(), axis =1)"
   ]
  },
  {
   "cell_type": "code",
   "execution_count": 79,
   "id": "5e398bbb-49ad-4b82-8a2c-00bb84b965b0",
   "metadata": {},
   "outputs": [],
   "source": [
    "predicted_vals = results.numpy()"
   ]
  },
  {
   "cell_type": "code",
   "execution_count": 80,
   "id": "523474ed-2967-4e01-9e8e-5a60b19fb651",
   "metadata": {},
   "outputs": [],
   "source": [
    "\n",
    "report = pd.DataFrame({'Id': X.index, 'pred': predicted_vals})\n",
    "report.to_csv(\"submission.csv\", index=False)"
   ]
  }
 ],
 "metadata": {
  "kernelspec": {
   "display_name": "Python 3 (ipykernel)",
   "language": "python",
   "name": "python3"
  },
  "language_info": {
   "codemirror_mode": {
    "name": "ipython",
    "version": 3
   },
   "file_extension": ".py",
   "mimetype": "text/x-python",
   "name": "python",
   "nbconvert_exporter": "python",
   "pygments_lexer": "ipython3",
   "version": "3.9.12"
  }
 },
 "nbformat": 4,
 "nbformat_minor": 5
}
