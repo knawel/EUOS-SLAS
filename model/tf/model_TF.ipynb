{
 "cells": [
  {
   "cell_type": "markdown",
   "id": "9799253e-e719-4637-8d52-2896231b3b69",
   "metadata": {},
   "source": [
    "# Libs"
   ]
  },
  {
   "cell_type": "code",
   "execution_count": 1,
   "id": "4769d53c-be86-489c-bfbf-2c68976302fd",
   "metadata": {},
   "outputs": [
    {
     "name": "stderr",
     "output_type": "stream",
     "text": [
      "2022-12-02 18:31:23.923931: I tensorflow/core/platform/cpu_feature_guard.cc:193] This TensorFlow binary is optimized with oneAPI Deep Neural Network Library (oneDNN) to use the following CPU instructions in performance-critical operations:  AVX2 AVX512F FMA\n",
      "To enable them in other operations, rebuild TensorFlow with the appropriate compiler flags.\n",
      "2022-12-02 18:31:24.581413: W tensorflow/compiler/xla/stream_executor/platform/default/dso_loader.cc:64] Could not load dynamic library 'libnvinfer.so.7'; dlerror: libnvinfer.so.7: cannot open shared object file: No such file or directory; LD_LIBRARY_PATH: /data/dist/plumed2/src/lib/:/opt/gromacs/lib:/home/dima/miniconda3/envs/tf/lib/:/home/dima/miniconda3/envs/tf/lib/\n",
      "2022-12-02 18:31:24.581469: W tensorflow/compiler/xla/stream_executor/platform/default/dso_loader.cc:64] Could not load dynamic library 'libnvinfer_plugin.so.7'; dlerror: libnvinfer_plugin.so.7: cannot open shared object file: No such file or directory; LD_LIBRARY_PATH: /data/dist/plumed2/src/lib/:/opt/gromacs/lib:/home/dima/miniconda3/envs/tf/lib/:/home/dima/miniconda3/envs/tf/lib/\n",
      "2022-12-02 18:31:24.581474: W tensorflow/compiler/tf2tensorrt/utils/py_utils.cc:38] TF-TRT Warning: Cannot dlopen some TensorRT libraries. If you would like to use Nvidia GPU with TensorRT, please make sure the missing libraries mentioned above are installed properly.\n"
     ]
    }
   ],
   "source": [
    "# NN\n",
    "import tensorflow as tf\n",
    "from tensorflow import keras\n",
    "from tensorflow.keras import metrics\n",
    "# ML\n",
    "import pandas as pd\n",
    "import numpy as np\n",
    "from sklearn.model_selection import train_test_split\n",
    "from sklearn.preprocessing import StandardScaler\n",
    "from sklearn.metrics import confusion_matrix, f1_score, cohen_kappa_score\n",
    "from src.scoring import quadratic_kappa_score\n",
    "\n",
    "# PLOT\n",
    "import matplotlib as mpl\n",
    "import matplotlib.pyplot as plt\n",
    "import seaborn as sns\n",
    "\n",
    "# GENERAL\n",
    "import sys\n",
    "import os\n",
    "from os.path import join"
   ]
  },
  {
   "cell_type": "code",
   "execution_count": 2,
   "id": "9caccbb1-b432-4bad-b137-3c6a13d94f19",
   "metadata": {},
   "outputs": [
    {
     "name": "stdout",
     "output_type": "stream",
     "text": [
      "TensorFlow version: 2.11.0\n",
      "[PhysicalDevice(name='/physical_device:GPU:0', device_type='GPU')]\n"
     ]
    }
   ],
   "source": [
    "print(\"TensorFlow version:\", tf.__version__)\n",
    "print(tf.config.list_physical_devices('GPU'))"
   ]
  },
  {
   "cell_type": "markdown",
   "id": "ae3bfa6b-6566-427c-8ba3-08930f04e1a0",
   "metadata": {},
   "source": [
    "# Constants"
   ]
  },
  {
   "cell_type": "code",
   "execution_count": 3,
   "id": "40f07a17-bd7b-4710-a899-c01b0d2d243d",
   "metadata": {},
   "outputs": [],
   "source": [
    "mpl.rcParams['figure.figsize'] = (12, 10)\n",
    "colors = plt.rcParams['axes.prop_cycle'].by_key()['color']"
   ]
  },
  {
   "cell_type": "code",
   "execution_count": 4,
   "id": "8c6f5727-ebbd-437c-aed7-f5f474ac85f1",
   "metadata": {},
   "outputs": [],
   "source": [
    "data_folder = \"../../data/preprocessed/\""
   ]
  },
  {
   "cell_type": "code",
   "execution_count": 23,
   "id": "6d38d76f-17e0-4836-a465-0f2b60e95033",
   "metadata": {},
   "outputs": [],
   "source": [
    "def f1(y_true, y_pred):\n",
    "    \n",
    "    y_t = tf.math.argmax(y_true, axis =1).numpy()\n",
    "    y_p = tf.math.argmax(y_pred, axis =1).numpy()\n",
    "    p = quadratic_kappa_score(y_t, y_p)\n",
    "\n",
    "    return p\n",
    "\n",
    "def tf_kappa(y_true, y_pred):\n",
    "    labels = tf.argmax(y_true, axis=1).numpy()\n",
    "    predictions = tf.argmax(y_pred, axis=1).numpy()\n",
    "    p= quadratic_kappa_score(labels,predictions)\n",
    "    return tf.constant(p)\n",
    "                             \n",
    "def average_recall(y_true, y_pred):\n",
    "    # Get indexes of both labels and predictions\n",
    "    labels = tf.argmax(y_true, axis=1)\n",
    "    predictions = tf.argmax(y_pred, axis=1)\n",
    "    # Get confusion matrix from labels and predictions\n",
    "    confusion_matrix = tf.math.confusion_matrix(labels, predictions)\n",
    "    # Get number of all true positives in each class\n",
    "    all_true_positives = tf.linalg.diag_part(confusion_matrix)\n",
    "    # Get number of all elements in each class\n",
    "    all_class_sum = tf.reduce_sum(confusion_matrix, axis=1)\n",
    "    # Get rid of classes that don't show in batch\n",
    "    mask = tf.not_equal(all_class_sum, tf.constant(0))\n",
    "    all_true_positives = tf.boolean_mask(all_true_positives, mask)\n",
    "    all_class_sum = tf.boolean_mask(all_class_sum, mask)\n",
    "\n",
    "    # print(\"confusion_matrix:\\n {},\\n all_true_positives:\\n {},\\n all_class_sum:\\n {}\".format(\n",
    "    #                                         confusion_matrix, all_true_positives, all_class_sum))\n",
    "    # Average TruePositives / TotalElements wrt all classes that show in batch\n",
    "    return tf.reduce_mean(all_true_positives / all_class_sum)\n"
   ]
  },
  {
   "cell_type": "markdown",
   "id": "b318d328-9fa3-4cfe-9a8f-e8b8fbbef945",
   "metadata": {},
   "source": [
    "# Read and process the data"
   ]
  },
  {
   "cell_type": "code",
   "execution_count": 6,
   "id": "b098da5a-19f1-4b0c-a238-b0959bd3ef52",
   "metadata": {},
   "outputs": [],
   "source": [
    "X = pd.read_pickle(join(data_folder, \"X.pk.zip\"))\n",
    "y = pd.read_pickle(join(data_folder, \"Y.pk.zip\"))\n",
    "X_mat = X.values\n",
    "y_vec = y.values.flatten()\n",
    "scaler = StandardScaler()\n",
    "scaler.fit(X_mat)\n",
    "X_mat = scaler.transform(X_mat)\n",
    "x_train, x_test, y_train, y_test = train_test_split(X_mat, y_vec, test_size=0.22, random_state=123)"
   ]
  },
  {
   "cell_type": "code",
   "execution_count": 7,
   "id": "cc9089ec-f41f-4157-91c8-2e41691a819f",
   "metadata": {},
   "outputs": [
    {
     "name": "stdout",
     "output_type": "stream",
     "text": [
      "The number of features: 203\n",
      "TRAIN 0: 1592, 1: 2210, 2: 51352\n",
      "TEST  0: 449, 1: 625, 2: 14483\n"
     ]
    },
    {
     "data": {
      "text/plain": [
       "31"
      ]
     },
     "execution_count": 7,
     "metadata": {},
     "output_type": "execute_result"
    }
   ],
   "source": [
    "sys.stdout.write(f\"The number of features: {X_mat.shape[1]}\\n\")\n",
    "sys.stdout.write(f\"TRAIN \\\n",
    "0: {np.sum(y_train == 0)}, 1: {np.sum(y_train == 1)}, 2: {np.sum(y_train == 2)}\\n\")\n",
    "\n",
    "sys.stdout.write(f\"TEST  \\\n",
    "0: {np.sum(y_test == 0)}, 1: {np.sum(y_test == 1)}, 2: {np.sum(y_test == 2)}\\n\")\n"
   ]
  },
  {
   "cell_type": "markdown",
   "id": "950f5c5e-ecd8-43d7-b926-1423b1417e66",
   "metadata": {},
   "source": [
    "# Train\n"
   ]
  },
  {
   "cell_type": "markdown",
   "id": "12469ba3-1667-4891-bc15-44a2d24639f7",
   "metadata": {},
   "source": [
    "## Model"
   ]
  },
  {
   "cell_type": "code",
   "execution_count": 8,
   "id": "60337212-f3b9-49cf-856d-3bf5af39ef71",
   "metadata": {},
   "outputs": [
    {
     "name": "stderr",
     "output_type": "stream",
     "text": [
      "2022-12-02 18:31:37.128726: I tensorflow/core/platform/cpu_feature_guard.cc:193] This TensorFlow binary is optimized with oneAPI Deep Neural Network Library (oneDNN) to use the following CPU instructions in performance-critical operations:  AVX2 AVX512F FMA\n",
      "To enable them in other operations, rebuild TensorFlow with the appropriate compiler flags.\n",
      "2022-12-02 18:31:37.591581: I tensorflow/core/common_runtime/gpu/gpu_device.cc:1613] Created device /job:localhost/replica:0/task:0/device:GPU:0 with 7077 MB memory:  -> device: 0, name: Quadro P4000, pci bus id: 0000:65:00.0, compute capability: 6.1\n"
     ]
    }
   ],
   "source": [
    "model = tf.keras.models.Sequential([\n",
    "    tf.keras.layers.Dense(128, activation='relu'),\n",
    "    tf.keras.layers.Dense(128, activation='relu'),\n",
    "    tf.keras.layers.Dense(64, activation='relu'),\n",
    "    tf.keras.layers.Dropout(0.2),\n",
    "    tf.keras.layers.Dense(32, activation='relu'),\n",
    "    tf.keras.layers.Dropout(0.2),\n",
    "    tf.keras.layers.Dense(32, activation='relu'),\n",
    "    tf.keras.layers.Dense(3, activation='softmax')\n",
    "])"
   ]
  },
  {
   "cell_type": "markdown",
   "id": "196ad9ac-0a36-4ef3-b828-6dde3a7ff997",
   "metadata": {},
   "source": [
    "## Trial for untrained model"
   ]
  },
  {
   "cell_type": "code",
   "execution_count": 9,
   "id": "b91e3554-09df-4ae8-807a-18eeac6a4e08",
   "metadata": {},
   "outputs": [
    {
     "data": {
      "text/plain": [
       "array([[0.2913773 , 0.4061665 , 0.30245617],\n",
       "       [0.3163117 , 0.36553723, 0.31815112],\n",
       "       [0.337952  , 0.30989176, 0.35215628],\n",
       "       [0.39048392, 0.28833756, 0.32117847],\n",
       "       [0.36247888, 0.37264976, 0.26487133]], dtype=float32)"
      ]
     },
     "execution_count": 9,
     "metadata": {},
     "output_type": "execute_result"
    }
   ],
   "source": [
    "predictions = model(x_train[:5]).numpy()\n",
    "predictions"
   ]
  },
  {
   "cell_type": "code",
   "execution_count": 10,
   "id": "03dbb5d0-e56a-4acb-a034-9975f3c9dec6",
   "metadata": {},
   "outputs": [
    {
     "data": {
      "text/plain": [
       "array([[0., 0., 1.],\n",
       "       [0., 0., 1.],\n",
       "       [0., 0., 1.],\n",
       "       [0., 0., 1.],\n",
       "       [0., 0., 1.]], dtype=float32)"
      ]
     },
     "execution_count": 10,
     "metadata": {},
     "output_type": "execute_result"
    }
   ],
   "source": [
    "y_train_oh = tf.one_hot(y_train, 3).numpy()\n",
    "y_test_oh = tf.one_hot(y_test, 3).numpy()\n",
    "y_train_oh[:5,:]"
   ]
  },
  {
   "cell_type": "code",
   "execution_count": 11,
   "id": "b0772f88-de4b-4bcf-bca1-d1a0083733a2",
   "metadata": {},
   "outputs": [
    {
     "data": {
      "text/plain": [
       "1.1697996"
      ]
     },
     "execution_count": 11,
     "metadata": {},
     "output_type": "execute_result"
    }
   ],
   "source": [
    "loss_fn = tf.keras.losses.CategoricalCrossentropy()\n",
    "loss_fn(y_train_oh[:5,:], predictions).numpy()"
   ]
  },
  {
   "cell_type": "code",
   "execution_count": 26,
   "id": "21428681-233d-4769-9f02-43c18d159769",
   "metadata": {},
   "outputs": [],
   "source": [
    "optimizer = keras.optimizers.Adam(learning_rate=1e-4)\n",
    "model.compile(optimizer=optimizer,\n",
    "              loss=loss_fn,\n",
    "              metrics=[average_recall])"
   ]
  },
  {
   "cell_type": "code",
   "execution_count": 27,
   "id": "574b5ca6-6162-4bf1-9749-9b57fa39ef75",
   "metadata": {},
   "outputs": [
    {
     "name": "stdout",
     "output_type": "stream",
     "text": [
      "Epoch 1/8\n"
     ]
    },
    {
     "name": "stderr",
     "output_type": "stream",
     "text": [
      "2022-12-02 18:38:42.138101: I tensorflow/compiler/xla/service/service.cc:173] XLA service 0x7fa99001be20 initialized for platform CUDA (this does not guarantee that XLA will be used). Devices:\n",
      "2022-12-02 18:38:42.138127: I tensorflow/compiler/xla/service/service.cc:181]   StreamExecutor device (0): Quadro P4000, Compute Capability 6.1\n",
      "2022-12-02 18:38:42.142007: I tensorflow/compiler/mlir/tensorflow/utils/dump_mlir_util.cc:268] disabling MLIR crash reproducer, set env var `MLIR_CRASH_REPRODUCER_DIRECTORY` to enable.\n",
      "2022-12-02 18:38:42.203346: I tensorflow/tsl/platform/default/subprocess.cc:304] Start cannot spawn child process: No such file or directory\n",
      "2022-12-02 18:38:42.239823: I tensorflow/compiler/jit/xla_compilation_cache.cc:477] Compiled cluster using XLA!  This line is logged at most once for the lifetime of the process.\n"
     ]
    },
    {
     "name": "stdout",
     "output_type": "stream",
     "text": [
      "1724/1724 [==============================] - 7s 3ms/step - loss: 0.1838 - average_recall: 0.4660 - val_loss: 0.7533 - val_average_recall: 0.4844\n",
      "Epoch 2/8\n",
      "1724/1724 [==============================] - 5s 3ms/step - loss: 0.1783 - average_recall: 0.4839 - val_loss: 0.7359 - val_average_recall: 0.4816\n",
      "Epoch 3/8\n",
      "1724/1724 [==============================] - 5s 3ms/step - loss: 0.1760 - average_recall: 0.4846 - val_loss: 0.7203 - val_average_recall: 0.4886\n",
      "Epoch 4/8\n",
      "1724/1724 [==============================] - 4s 3ms/step - loss: 0.1746 - average_recall: 0.4845 - val_loss: 0.6793 - val_average_recall: 0.4911\n",
      "Epoch 5/8\n",
      "1724/1724 [==============================] - 4s 2ms/step - loss: 0.1731 - average_recall: 0.4960 - val_loss: 0.6845 - val_average_recall: 0.4934\n",
      "Epoch 6/8\n",
      "1724/1724 [==============================] - 4s 2ms/step - loss: 0.1722 - average_recall: 0.4944 - val_loss: 0.7155 - val_average_recall: 0.4880\n",
      "Epoch 7/8\n",
      "1724/1724 [==============================] - 4s 2ms/step - loss: 0.1706 - average_recall: 0.5031 - val_loss: 0.6557 - val_average_recall: 0.4912\n",
      "Epoch 8/8\n",
      "1724/1724 [==============================] - 4s 2ms/step - loss: 0.1687 - average_recall: 0.5008 - val_loss: 0.6319 - val_average_recall: 0.4917\n"
     ]
    }
   ],
   "source": [
    "class_weight = {0:1.2,\n",
    "               1:1.2,\n",
    "               2:0.1}\n",
    "history = model.fit(x_train, y_train_oh, validation_data = (x_test, y_test_oh), epochs=8, class_weight=class_weight)"
   ]
  },
  {
   "cell_type": "code",
   "execution_count": null,
   "id": "adda3d59-452e-41f4-980c-b044c5ad8703",
   "metadata": {},
   "outputs": [],
   "source": [
    "# model.evaluate(x_test,  y_train_oh, verbose=2)\n",
    "\n"
   ]
  },
  {
   "cell_type": "code",
   "execution_count": 28,
   "id": "883d65b1-6c24-4b62-933c-75d042adae65",
   "metadata": {},
   "outputs": [
    {
     "name": "stdout",
     "output_type": "stream",
     "text": [
      "487/487 [==============================] - 0s 728us/step\n"
     ]
    }
   ],
   "source": [
    "RE = model.predict(x_test)\n",
    "results = tf.math.argmax(RE, axis =1).numpy()"
   ]
  },
  {
   "cell_type": "code",
   "execution_count": 29,
   "id": "e4438ba7-4c81-4d82-be98-0c1cb5b88297",
   "metadata": {},
   "outputs": [],
   "source": [
    "cm = confusion_matrix(results, y_test)\n",
    "score2 = quadratic_kappa_score(results, y_test)"
   ]
  },
  {
   "cell_type": "code",
   "execution_count": 30,
   "id": "cf0bc627-fb70-4430-8dec-88fca331664a",
   "metadata": {},
   "outputs": [
    {
     "name": "stdout",
     "output_type": "stream",
     "text": [
      "0.07939602293713532\n"
     ]
    }
   ],
   "source": [
    "print(score2)"
   ]
  },
  {
   "cell_type": "code",
   "execution_count": 31,
   "id": "fef7490a-a2ea-437f-9225-574e801863b1",
   "metadata": {},
   "outputs": [
    {
     "data": {
      "image/png": "[encoded data removed]",
      "text/plain": [
       "<Figure size 400x300 with 2 Axes>"
      ]
     },
     "metadata": {},
     "output_type": "display_data"
    }
   ],
   "source": [
    "fig, ax = plt.subplots(figsize=(4,3))\n",
    "sns.heatmap(cm/np.sum(cm, axis=0), annot=True, \n",
    "            fmt='.2%', cmap='Blues')\n",
    "fig.savefig(\"cm.png\")"
   ]
  },
  {
   "cell_type": "code",
   "execution_count": null,
   "id": "52cd54a6-85b0-4938-912e-3feb3c022e24",
   "metadata": {},
   "outputs": [],
   "source": [
    "# history.history\n",
    "fig, axs = plt.subplots(2,figsize=(4,3), sharex=True)\n",
    "fig.suptitle(\"loss\")\n",
    "axs[0].plot(history.history['loss'], c = 'blue')\n",
    "axs[1].plot(history.history['val_loss'], c = 'red')\n",
    "fig.savefig(\"loss.png\")"
   ]
  },
  {
   "cell_type": "code",
   "execution_count": null,
   "id": "4e78f9ac-bcfd-4254-beb9-07cfb8929196",
   "metadata": {},
   "outputs": [],
   "source": [
    "fig, axs = plt.subplots(2,figsize=(4,3), sharex=True)\n",
    "fig.suptitle(\"average recall\")\n",
    "axs[0].plot(history.history['average_recall'], c = 'blue')\n",
    "axs[1].plot(history.history['average_recall'], c = 'red')\n",
    "fig.savefig(\"loss.png\")"
   ]
  },
  {
   "cell_type": "code",
   "execution_count": null,
   "id": "c0e9a9f6-cbc6-4fa7-a9ab-e157cc0a4bd9",
   "metadata": {},
   "outputs": [],
   "source": [
    "plt.plot(history.history['categorical_accuracy'])\n",
    "plt.plot(history.history['val_acc'])\n",
    "# plt.title('model accuracy')\n",
    "# plt.ylabel('accuracy')\n",
    "# plt.xlabel('epoch')\n",
    "# plt.legend(['train', 'val'], loc='upper left')\n",
    "plt.show()"
   ]
  },
  {
   "cell_type": "markdown",
   "id": "d62f2442-6ce3-46d1-97dd-26a6015c5c13",
   "metadata": {},
   "source": [
    "## New Predictions"
   ]
  },
  {
   "cell_type": "code",
   "execution_count": null,
   "id": "9c2ffce0-fb02-4fa7-a9d2-b2541dd4670b",
   "metadata": {},
   "outputs": [],
   "source": [
    "X = pd.read_pickle(join(data_folder, \"test.pk\"))\n",
    "X_mat = X.values"
   ]
  },
  {
   "cell_type": "code",
   "execution_count": null,
   "id": "a11e60c5-cf5c-42ab-8235-fb4fc8653086",
   "metadata": {},
   "outputs": [],
   "source": [
    "X_mat = scaler.transform(X_mat)"
   ]
  },
  {
   "cell_type": "code",
   "execution_count": null,
   "id": "bcc9b6d9-22ee-4168-91d9-97dace71a5a4",
   "metadata": {},
   "outputs": [],
   "source": [
    "logits = model.predict(X_mat)\n",
    "results = tf.math.argmax(tf.nn.softmax(logits).numpy(), axis =1)"
   ]
  },
  {
   "cell_type": "code",
   "execution_count": null,
   "id": "5e398bbb-49ad-4b82-8a2c-00bb84b965b0",
   "metadata": {},
   "outputs": [],
   "source": [
    "predicted_vals = results.numpy()"
   ]
  },
  {
   "cell_type": "code",
   "execution_count": null,
   "id": "523474ed-2967-4e01-9e8e-5a60b19fb651",
   "metadata": {},
   "outputs": [],
   "source": [
    "\n",
    "report = pd.DataFrame({'Id': X.index, 'pred': predicted_vals})\n",
    "report.to_csv(\"submission.csv\", index=False)"
   ]
  }
 ],
 "metadata": {
  "kernelspec": {
   "display_name": "Python 3 (ipykernel)",
   "language": "python",
   "name": "python3"
  },
  "language_info": {
   "codemirror_mode": {
    "name": "ipython",
    "version": 3
   },
   "file_extension": ".py",
   "mimetype": "text/x-python",
   "name": "python",
   "nbconvert_exporter": "python",
   "pygments_lexer": "ipython3",
   "version": "3.10.8"
  }
 },
 "nbformat": 4,
 "nbformat_minor": 5
}
