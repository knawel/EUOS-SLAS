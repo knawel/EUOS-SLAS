{
 "cells": [
  {
   "cell_type": "code",
   "execution_count": 81,
   "id": "4769d53c-be86-489c-bfbf-2c68976302fd",
   "metadata": {},
   "outputs": [
    {
     "name": "stdout",
     "output_type": "stream",
     "text": [
      "TensorFlow version: 2.4.1\n"
     ]
    }
   ],
   "source": [
    "import tensorflow as tf\n",
    "from tensorflow import keras\n",
    "print(\"TensorFlow version:\", tf.__version__)"
   ]
  },
  {
   "cell_type": "code",
   "execution_count": 56,
   "id": "9caccbb1-b432-4bad-b137-3c6a13d94f19",
   "metadata": {},
   "outputs": [],
   "source": [
    "import pandas as pd\n",
    "import numpy as np\n",
    "from sklearn.model_selection import train_test_split\n",
    "from sklearn.preprocessing import StandardScaler\n",
    "from sklearn.metrics import confusion_matrix, f1_score, cohen_kappa_score\n",
    "import matplotlib as mpl\n",
    "import matplotlib.pyplot as plt\n",
    "# import seaborn as sns"
   ]
  },
  {
   "cell_type": "code",
   "execution_count": 3,
   "id": "d0850321-815f-40d3-b981-59053ed979bc",
   "metadata": {},
   "outputs": [],
   "source": [
    "from os.path import join\n",
    "import os"
   ]
  },
  {
   "cell_type": "code",
   "execution_count": 4,
   "id": "82994eb6-37e0-4e77-83e4-8a2a09e11adc",
   "metadata": {},
   "outputs": [],
   "source": [
    "mpl.rcParams['figure.figsize'] = (12, 10)\n",
    "colors = plt.rcParams['axes.prop_cycle'].by_key()['color']"
   ]
  },
  {
   "cell_type": "code",
   "execution_count": 5,
   "id": "dc469b93-7f59-4321-9668-53f8a50877c7",
   "metadata": {},
   "outputs": [],
   "source": [
    "data_folder = \"../../data/preprocessed/\""
   ]
  },
  {
   "cell_type": "code",
   "execution_count": 82,
   "id": "b098da5a-19f1-4b0c-a238-b0959bd3ef52",
   "metadata": {},
   "outputs": [],
   "source": [
    "X = pd.read_pickle(join(data_folder, \"X.pk\"))\n",
    "y = pd.read_pickle(join(data_folder, \"Y.pk\"))\n",
    "X_mat = X.values\n",
    "y_vec = y.values.flatten()\n",
    "scaler = StandardScaler()\n",
    "scaler.fit(X_mat)\n",
    "X_mat = scaler.transform(X_mat)\n",
    "\n",
    "x_train, x_test, y_train, y_test = train_test_split(X_mat, y_vec, test_size=0.12, random_state=123)\n"
   ]
  },
  {
   "cell_type": "code",
   "execution_count": 83,
   "id": "78e2359b-29b5-4a2d-a56c-40d057440ee5",
   "metadata": {},
   "outputs": [
    {
     "data": {
      "text/plain": [
       "7899"
      ]
     },
     "execution_count": 83,
     "metadata": {},
     "output_type": "execute_result"
    }
   ],
   "source": [
    "np.sum(y_test == 2)"
   ]
  },
  {
   "cell_type": "code",
   "execution_count": 84,
   "id": "cc9089ec-f41f-4157-91c8-2e41691a819f",
   "metadata": {},
   "outputs": [
    {
     "data": {
      "text/plain": [
       "(8486, 127)"
      ]
     },
     "execution_count": 84,
     "metadata": {},
     "output_type": "execute_result"
    }
   ],
   "source": [
    "x_test.shape"
   ]
  },
  {
   "cell_type": "code",
   "execution_count": 85,
   "id": "155ad6dc-2321-481c-acb7-c92f008ddd9a",
   "metadata": {},
   "outputs": [],
   "source": [
    "EPOCHS = 100\n",
    "BATCH_SIZE = 2048\n"
   ]
  },
  {
   "cell_type": "code",
   "execution_count": null,
   "id": "ce129f47-1d9a-43a5-b11a-d1e6fc3eda61",
   "metadata": {},
   "outputs": [],
   "source": []
  },
  {
   "cell_type": "code",
   "execution_count": 99,
   "id": "60337212-f3b9-49cf-856d-3bf5af39ef71",
   "metadata": {},
   "outputs": [],
   "source": [
    "model = tf.keras.models.Sequential([\n",
    "  tf.keras.layers.Dense(128, activation='relu'),\n",
    "  tf.keras.layers.Dense(64, activation='relu'),\n",
    "  tf.keras.layers.Dense(64, activation='relu'),\n",
    "  tf.keras.layers.Dropout(0.15),\n",
    "  tf.keras.layers.Dense(64, activation='relu'),\n",
    "  tf.keras.layers.Dropout(0.2),\n",
    "  tf.keras.layers.Dense(64, activation='relu'),\n",
    "  tf.keras.layers.Dropout(0.2),\n",
    "  tf.keras.layers.Dense(64, activation='relu'),\n",
    "  tf.keras.layers.Dropout(0.2),\n",
    "  tf.keras.layers.Dense(64, activation='relu'),\n",
    "  tf.keras.layers.Dropout(0.2),\n",
    "  tf.keras.layers.Dense(64, activation='relu'),\n",
    "  tf.keras.layers.Dense(3)\n",
    "])"
   ]
  },
  {
   "cell_type": "code",
   "execution_count": 100,
   "id": "b91e3554-09df-4ae8-807a-18eeac6a4e08",
   "metadata": {},
   "outputs": [
    {
     "data": {
      "text/plain": [
       "array([[ 0.02772392, -0.04086035,  0.09623041]], dtype=float32)"
      ]
     },
     "execution_count": 100,
     "metadata": {},
     "output_type": "execute_result"
    }
   ],
   "source": [
    "predictions = model(x_train[:1]).numpy()\n",
    "predictions"
   ]
  },
  {
   "cell_type": "code",
   "execution_count": 101,
   "id": "b1af04c8-98cd-4bd5-85a2-329083610797",
   "metadata": {},
   "outputs": [
    {
     "data": {
      "text/plain": [
       "array([[0.33282053, 0.31075945, 0.35642004]], dtype=float32)"
      ]
     },
     "execution_count": 101,
     "metadata": {},
     "output_type": "execute_result"
    }
   ],
   "source": [
    "tf.nn.softmax(predictions).numpy()"
   ]
  },
  {
   "cell_type": "code",
   "execution_count": 102,
   "id": "b0772f88-de4b-4bcf-bca1-d1a0083733a2",
   "metadata": {},
   "outputs": [
    {
     "data": {
      "text/plain": [
       "1.5972728"
      ]
     },
     "execution_count": 102,
     "metadata": {},
     "output_type": "execute_result"
    }
   ],
   "source": [
    "loss_fn = tf.keras.losses.SparseCategoricalCrossentropy(from_logits=True)\n",
    "# sample_weight=tf.constant([2, 2, 0.1])\n",
    "loss_fn(y_train[:1], predictions, sample_weight=tf.constant([2, 2, 0.1])).numpy()"
   ]
  },
  {
   "cell_type": "code",
   "execution_count": 105,
   "id": "21428681-233d-4769-9f02-43c18d159769",
   "metadata": {},
   "outputs": [],
   "source": [
    "model.compile(optimizer='adam',\n",
    "              # loss=loss_fn,\n",
    "              loss=loss_fn,\n",
    "              metrics=['categorical_accuracy'])"
   ]
  },
  {
   "cell_type": "code",
   "execution_count": 106,
   "id": "574b5ca6-6162-4bf1-9749-9b57fa39ef75",
   "metadata": {},
   "outputs": [
    {
     "name": "stdout",
     "output_type": "stream",
     "text": [
      "Epoch 1/175\n",
      "1945/1945 [==============================] - 3s 1ms/step - loss: 0.1286 - categorical_accuracy: 0.0343\n",
      "Epoch 2/175\n",
      "1945/1945 [==============================] - 3s 1ms/step - loss: 0.1209 - categorical_accuracy: 0.0354\n",
      "Epoch 3/175\n",
      "1945/1945 [==============================] - 3s 1ms/step - loss: 0.1210 - categorical_accuracy: 0.0340\n",
      "Epoch 4/175\n",
      "1945/1945 [==============================] - 3s 1ms/step - loss: 0.1229 - categorical_accuracy: 0.0332\n",
      "Epoch 5/175\n",
      "1945/1945 [==============================] - 2s 1ms/step - loss: 0.1212 - categorical_accuracy: 0.0341\n",
      "Epoch 6/175\n",
      "1945/1945 [==============================] - 3s 1ms/step - loss: 0.1169 - categorical_accuracy: 0.0348\n",
      "Epoch 7/175\n",
      "1945/1945 [==============================] - 3s 1ms/step - loss: 0.1227 - categorical_accuracy: 0.0334\n",
      "Epoch 8/175\n",
      "1945/1945 [==============================] - 3s 1ms/step - loss: 0.1159 - categorical_accuracy: 0.0334\n",
      "Epoch 9/175\n",
      "1945/1945 [==============================] - 3s 1ms/step - loss: 0.1236 - categorical_accuracy: 0.0338\n",
      "Epoch 10/175\n",
      "1945/1945 [==============================] - 3s 1ms/step - loss: 0.1210 - categorical_accuracy: 0.0301\n",
      "Epoch 11/175\n",
      "1945/1945 [==============================] - 3s 1ms/step - loss: 0.1168 - categorical_accuracy: 0.0315\n",
      "Epoch 12/175\n",
      "1945/1945 [==============================] - 3s 1ms/step - loss: 0.1151 - categorical_accuracy: 0.0325\n",
      "Epoch 13/175\n",
      "1945/1945 [==============================] - 3s 1ms/step - loss: 0.1143 - categorical_accuracy: 0.0313\n",
      "Epoch 14/175\n",
      "1945/1945 [==============================] - 3s 1ms/step - loss: 0.1278 - categorical_accuracy: 0.0348\n",
      "Epoch 15/175\n",
      "1945/1945 [==============================] - 3s 1ms/step - loss: 0.1202 - categorical_accuracy: 0.0307\n",
      "Epoch 16/175\n",
      "1945/1945 [==============================] - 3s 1ms/step - loss: 0.1171 - categorical_accuracy: 0.0319\n",
      "Epoch 17/175\n",
      "1945/1945 [==============================] - 3s 1ms/step - loss: 0.1168 - categorical_accuracy: 0.0312\n",
      "Epoch 18/175\n",
      "1945/1945 [==============================] - 2s 1ms/step - loss: 0.1226 - categorical_accuracy: 0.0303\n",
      "Epoch 19/175\n",
      "1945/1945 [==============================] - 3s 1ms/step - loss: 0.1179 - categorical_accuracy: 0.0337\n",
      "Epoch 20/175\n",
      "1945/1945 [==============================] - 3s 1ms/step - loss: 0.1148 - categorical_accuracy: 0.0299\n",
      "Epoch 21/175\n",
      "1945/1945 [==============================] - 3s 1ms/step - loss: 0.1210 - categorical_accuracy: 0.0325\n",
      "Epoch 22/175\n",
      "1945/1945 [==============================] - 3s 1ms/step - loss: 0.1140 - categorical_accuracy: 0.0357\n",
      "Epoch 23/175\n",
      "1945/1945 [==============================] - 3s 1ms/step - loss: 0.1134 - categorical_accuracy: 0.0306\n",
      "Epoch 24/175\n",
      "1945/1945 [==============================] - 3s 1ms/step - loss: 0.1307 - categorical_accuracy: 0.0344\n",
      "Epoch 25/175\n",
      "1945/1945 [==============================] - 3s 1ms/step - loss: 0.1095 - categorical_accuracy: 0.0299\n",
      "Epoch 26/175\n",
      "1945/1945 [==============================] - 3s 1ms/step - loss: 0.1113 - categorical_accuracy: 0.0336\n",
      "Epoch 27/175\n",
      "1945/1945 [==============================] - 3s 1ms/step - loss: 0.1108 - categorical_accuracy: 0.0301\n",
      "Epoch 28/175\n",
      "1945/1945 [==============================] - 3s 1ms/step - loss: 0.1111 - categorical_accuracy: 0.0304\n",
      "Epoch 29/175\n",
      "1945/1945 [==============================] - 3s 1ms/step - loss: 0.1106 - categorical_accuracy: 0.0317\n",
      "Epoch 30/175\n",
      "1945/1945 [==============================] - 3s 1ms/step - loss: 0.1089 - categorical_accuracy: 0.0301\n",
      "Epoch 31/175\n",
      "1945/1945 [==============================] - 3s 1ms/step - loss: 0.1134 - categorical_accuracy: 0.0302\n",
      "Epoch 32/175\n",
      "1945/1945 [==============================] - 3s 1ms/step - loss: 0.1176 - categorical_accuracy: 0.0298\n",
      "Epoch 33/175\n",
      "1945/1945 [==============================] - 3s 1ms/step - loss: 0.1117 - categorical_accuracy: 0.0292\n",
      "Epoch 34/175\n",
      "1945/1945 [==============================] - 3s 1ms/step - loss: 0.1142 - categorical_accuracy: 0.0301\n",
      "Epoch 35/175\n",
      "1945/1945 [==============================] - 3s 1ms/step - loss: 0.1174 - categorical_accuracy: 0.0301\n",
      "Epoch 36/175\n",
      "1945/1945 [==============================] - 3s 1ms/step - loss: 0.1092 - categorical_accuracy: 0.0298\n",
      "Epoch 37/175\n",
      "1945/1945 [==============================] - 3s 1ms/step - loss: 0.1103 - categorical_accuracy: 0.0300\n",
      "Epoch 38/175\n",
      "1945/1945 [==============================] - 3s 1ms/step - loss: 0.1076 - categorical_accuracy: 0.0282\n",
      "Epoch 39/175\n",
      "1945/1945 [==============================] - 3s 1ms/step - loss: 0.1082 - categorical_accuracy: 0.0270\n",
      "Epoch 40/175\n",
      "1945/1945 [==============================] - 3s 1ms/step - loss: 0.1069 - categorical_accuracy: 0.0287\n",
      "Epoch 41/175\n",
      "1945/1945 [==============================] - 3s 1ms/step - loss: 0.1062 - categorical_accuracy: 0.0276\n",
      "Epoch 42/175\n",
      "1945/1945 [==============================] - 3s 1ms/step - loss: 0.1113 - categorical_accuracy: 0.0285\n",
      "Epoch 43/175\n",
      "1945/1945 [==============================] - 2s 1ms/step - loss: 0.1143 - categorical_accuracy: 0.0306\n",
      "Epoch 44/175\n",
      "1945/1945 [==============================] - 2s 1ms/step - loss: 0.1094 - categorical_accuracy: 0.0276\n",
      "Epoch 45/175\n",
      "1945/1945 [==============================] - 3s 1ms/step - loss: 0.1100 - categorical_accuracy: 0.0293\n",
      "Epoch 46/175\n",
      "1945/1945 [==============================] - 2s 1ms/step - loss: 0.1083 - categorical_accuracy: 0.0290\n",
      "Epoch 47/175\n",
      "1945/1945 [==============================] - 3s 1ms/step - loss: 0.1032 - categorical_accuracy: 0.0290\n",
      "Epoch 48/175\n",
      "1945/1945 [==============================] - 3s 1ms/step - loss: 0.1085 - categorical_accuracy: 0.0305\n",
      "Epoch 49/175\n",
      "1945/1945 [==============================] - 3s 1ms/step - loss: 0.1269 - categorical_accuracy: 0.0269\n",
      "Epoch 50/175\n",
      "1945/1945 [==============================] - 3s 1ms/step - loss: 0.1064 - categorical_accuracy: 0.0295\n",
      "Epoch 51/175\n",
      "1945/1945 [==============================] - 3s 1ms/step - loss: 0.1065 - categorical_accuracy: 0.0286\n",
      "Epoch 52/175\n",
      "1945/1945 [==============================] - 3s 1ms/step - loss: 0.1060 - categorical_accuracy: 0.0283\n",
      "Epoch 53/175\n",
      "1945/1945 [==============================] - 3s 1ms/step - loss: 0.1050 - categorical_accuracy: 0.0286\n",
      "Epoch 54/175\n",
      "1945/1945 [==============================] - 3s 1ms/step - loss: 0.1043 - categorical_accuracy: 0.0282\n",
      "Epoch 55/175\n",
      "1945/1945 [==============================] - 3s 1ms/step - loss: 0.1086 - categorical_accuracy: 0.0291\n",
      "Epoch 56/175\n",
      "1945/1945 [==============================] - 3s 1ms/step - loss: 0.1086 - categorical_accuracy: 0.0279\n",
      "Epoch 57/175\n",
      "1945/1945 [==============================] - 3s 1ms/step - loss: 0.1021 - categorical_accuracy: 0.0280\n",
      "Epoch 58/175\n",
      "1945/1945 [==============================] - 3s 1ms/step - loss: 0.1027 - categorical_accuracy: 0.0277\n",
      "Epoch 59/175\n",
      "1945/1945 [==============================] - 3s 1ms/step - loss: 0.1100 - categorical_accuracy: 0.0267\n",
      "Epoch 60/175\n",
      "1945/1945 [==============================] - 3s 1ms/step - loss: 0.1046 - categorical_accuracy: 0.0311\n",
      "Epoch 61/175\n",
      "1945/1945 [==============================] - 3s 1ms/step - loss: 0.0977 - categorical_accuracy: 0.0273\n",
      "Epoch 62/175\n",
      "1945/1945 [==============================] - 3s 1ms/step - loss: 0.1027 - categorical_accuracy: 0.0278\n",
      "Epoch 63/175\n",
      "1945/1945 [==============================] - 2s 1ms/step - loss: 0.1155 - categorical_accuracy: 0.0293\n",
      "Epoch 64/175\n",
      "1945/1945 [==============================] - 3s 1ms/step - loss: 0.1031 - categorical_accuracy: 0.0273\n",
      "Epoch 65/175\n",
      "1945/1945 [==============================] - 3s 1ms/step - loss: 0.0991 - categorical_accuracy: 0.0268\n",
      "Epoch 66/175\n",
      "1945/1945 [==============================] - 3s 1ms/step - loss: 0.1036 - categorical_accuracy: 0.0265\n",
      "Epoch 67/175\n",
      "1945/1945 [==============================] - 3s 1ms/step - loss: 0.1022 - categorical_accuracy: 0.0252\n",
      "Epoch 68/175\n",
      "1945/1945 [==============================] - 3s 1ms/step - loss: 0.1047 - categorical_accuracy: 0.0274\n",
      "Epoch 69/175\n",
      "1945/1945 [==============================] - 3s 1ms/step - loss: 0.1043 - categorical_accuracy: 0.0264\n",
      "Epoch 70/175\n",
      "1945/1945 [==============================] - 3s 1ms/step - loss: 0.1037 - categorical_accuracy: 0.0285\n",
      "Epoch 71/175\n",
      "1945/1945 [==============================] - 3s 1ms/step - loss: 0.1021 - categorical_accuracy: 0.0287\n",
      "Epoch 72/175\n",
      "1945/1945 [==============================] - 3s 1ms/step - loss: 0.1037 - categorical_accuracy: 0.0262\n",
      "Epoch 73/175\n",
      "1945/1945 [==============================] - 3s 1ms/step - loss: 0.0999 - categorical_accuracy: 0.0265\n",
      "Epoch 74/175\n",
      "1945/1945 [==============================] - 3s 1ms/step - loss: 0.1049 - categorical_accuracy: 0.0273\n",
      "Epoch 75/175\n",
      "1945/1945 [==============================] - 3s 1ms/step - loss: 0.0985 - categorical_accuracy: 0.0268\n",
      "Epoch 76/175\n",
      "1945/1945 [==============================] - 3s 1ms/step - loss: 0.0996 - categorical_accuracy: 0.0271\n",
      "Epoch 77/175\n",
      "1945/1945 [==============================] - 3s 1ms/step - loss: 0.1003 - categorical_accuracy: 0.0282\n",
      "Epoch 78/175\n",
      "1945/1945 [==============================] - 3s 1ms/step - loss: 0.1050 - categorical_accuracy: 0.0252\n",
      "Epoch 79/175\n",
      "1945/1945 [==============================] - 2s 1ms/step - loss: 0.1040 - categorical_accuracy: 0.0256\n",
      "Epoch 80/175\n",
      "1945/1945 [==============================] - 2s 1ms/step - loss: 0.1015 - categorical_accuracy: 0.0264\n",
      "Epoch 81/175\n",
      "1945/1945 [==============================] - 2s 1ms/step - loss: 0.0995 - categorical_accuracy: 0.0282\n",
      "Epoch 82/175\n",
      "1945/1945 [==============================] - 2s 1ms/step - loss: 0.0958 - categorical_accuracy: 0.0251\n",
      "Epoch 83/175\n",
      "1945/1945 [==============================] - 3s 1ms/step - loss: 0.0982 - categorical_accuracy: 0.0265\n",
      "Epoch 84/175\n",
      "1945/1945 [==============================] - 3s 1ms/step - loss: 0.1050 - categorical_accuracy: 0.0243\n",
      "Epoch 85/175\n",
      "1945/1945 [==============================] - 2s 1ms/step - loss: 0.1021 - categorical_accuracy: 0.0244\n",
      "Epoch 86/175\n",
      "1945/1945 [==============================] - 2s 1ms/step - loss: 0.0983 - categorical_accuracy: 0.0244\n",
      "Epoch 87/175\n",
      "1945/1945 [==============================] - 3s 1ms/step - loss: 0.0994 - categorical_accuracy: 0.0245\n",
      "Epoch 88/175\n",
      "1945/1945 [==============================] - 2s 1ms/step - loss: 0.1072 - categorical_accuracy: 0.0242\n",
      "Epoch 89/175\n",
      "1945/1945 [==============================] - 2s 1ms/step - loss: 0.0962 - categorical_accuracy: 0.0239\n",
      "Epoch 90/175\n",
      "1945/1945 [==============================] - 2s 1ms/step - loss: 0.1039 - categorical_accuracy: 0.0241\n",
      "Epoch 91/175\n",
      "1945/1945 [==============================] - 2s 1ms/step - loss: 0.0985 - categorical_accuracy: 0.0248\n",
      "Epoch 92/175\n",
      "1945/1945 [==============================] - 2s 1ms/step - loss: 0.0970 - categorical_accuracy: 0.0248\n",
      "Epoch 93/175\n",
      "1945/1945 [==============================] - 3s 1ms/step - loss: 0.0989 - categorical_accuracy: 0.0257\n",
      "Epoch 94/175\n",
      "1945/1945 [==============================] - 3s 1ms/step - loss: 0.0963 - categorical_accuracy: 0.0251\n",
      "Epoch 95/175\n",
      "1945/1945 [==============================] - 2s 1ms/step - loss: 0.0947 - categorical_accuracy: 0.0231\n",
      "Epoch 96/175\n",
      "1945/1945 [==============================] - 2s 1ms/step - loss: 0.0967 - categorical_accuracy: 0.0244\n",
      "Epoch 97/175\n",
      "1945/1945 [==============================] - 2s 1ms/step - loss: 0.0939 - categorical_accuracy: 0.0228\n",
      "Epoch 98/175\n",
      "1945/1945 [==============================] - 2s 1ms/step - loss: 0.1051 - categorical_accuracy: 0.0245\n",
      "Epoch 99/175\n",
      "1945/1945 [==============================] - 3s 1ms/step - loss: 0.1086 - categorical_accuracy: 0.0231\n",
      "Epoch 100/175\n",
      "1945/1945 [==============================] - 2s 1ms/step - loss: 0.0927 - categorical_accuracy: 0.0238\n",
      "Epoch 101/175\n",
      "1945/1945 [==============================] - 3s 1ms/step - loss: 0.0983 - categorical_accuracy: 0.0253\n",
      "Epoch 102/175\n",
      "1945/1945 [==============================] - 3s 1ms/step - loss: 0.1006 - categorical_accuracy: 0.0243\n",
      "Epoch 103/175\n",
      "1945/1945 [==============================] - 3s 1ms/step - loss: 0.0950 - categorical_accuracy: 0.0234\n",
      "Epoch 104/175\n",
      "1945/1945 [==============================] - 2s 1ms/step - loss: 0.0916 - categorical_accuracy: 0.0242\n",
      "Epoch 105/175\n",
      "1945/1945 [==============================] - 3s 1ms/step - loss: 0.0984 - categorical_accuracy: 0.0236\n",
      "Epoch 106/175\n",
      "1945/1945 [==============================] - 2s 1ms/step - loss: 0.0939 - categorical_accuracy: 0.0257\n",
      "Epoch 107/175\n",
      "1945/1945 [==============================] - 3s 1ms/step - loss: 0.0980 - categorical_accuracy: 0.0259\n",
      "Epoch 108/175\n",
      "1945/1945 [==============================] - 3s 1ms/step - loss: 0.1050 - categorical_accuracy: 0.0320\n",
      "Epoch 109/175\n",
      "1945/1945 [==============================] - 2s 1ms/step - loss: 0.0924 - categorical_accuracy: 0.0273\n",
      "Epoch 110/175\n",
      "1945/1945 [==============================] - 2s 1ms/step - loss: 0.0900 - categorical_accuracy: 0.0255\n",
      "Epoch 111/175\n",
      "1945/1945 [==============================] - 3s 1ms/step - loss: 0.0890 - categorical_accuracy: 0.0254\n",
      "Epoch 112/175\n",
      "1945/1945 [==============================] - 2s 1ms/step - loss: 0.1015 - categorical_accuracy: 0.0232\n",
      "Epoch 113/175\n",
      "1945/1945 [==============================] - 3s 1ms/step - loss: 0.0904 - categorical_accuracy: 0.0253\n",
      "Epoch 114/175\n",
      "1945/1945 [==============================] - 3s 1ms/step - loss: 0.1048 - categorical_accuracy: 0.0246\n",
      "Epoch 115/175\n",
      "1945/1945 [==============================] - 2s 1ms/step - loss: 0.0970 - categorical_accuracy: 0.0247\n",
      "Epoch 116/175\n",
      "1945/1945 [==============================] - 2s 1ms/step - loss: 0.1024 - categorical_accuracy: 0.0247\n",
      "Epoch 117/175\n",
      "1945/1945 [==============================] - 3s 1ms/step - loss: 0.0866 - categorical_accuracy: 0.0243\n",
      "Epoch 118/175\n",
      "1945/1945 [==============================] - 3s 1ms/step - loss: 0.0984 - categorical_accuracy: 0.0240\n",
      "Epoch 119/175\n",
      "1945/1945 [==============================] - 3s 1ms/step - loss: 0.0937 - categorical_accuracy: 0.0235\n",
      "Epoch 120/175\n",
      "1945/1945 [==============================] - 2s 1ms/step - loss: 0.0927 - categorical_accuracy: 0.0240\n",
      "Epoch 121/175\n",
      "1945/1945 [==============================] - 2s 1ms/step - loss: 0.0972 - categorical_accuracy: 0.0230\n",
      "Epoch 122/175\n",
      "1945/1945 [==============================] - 3s 1ms/step - loss: 0.0933 - categorical_accuracy: 0.0242\n",
      "Epoch 123/175\n",
      "1945/1945 [==============================] - 3s 1ms/step - loss: 0.0941 - categorical_accuracy: 0.0243\n",
      "Epoch 124/175\n",
      "1945/1945 [==============================] - 2s 1ms/step - loss: 0.0984 - categorical_accuracy: 0.0259\n",
      "Epoch 125/175\n",
      "1945/1945 [==============================] - 3s 1ms/step - loss: 0.0942 - categorical_accuracy: 0.0249\n",
      "Epoch 126/175\n",
      "1945/1945 [==============================] - 2s 1ms/step - loss: 0.0999 - categorical_accuracy: 0.0226\n",
      "Epoch 127/175\n",
      "1945/1945 [==============================] - 3s 1ms/step - loss: 0.0940 - categorical_accuracy: 0.0244\n",
      "Epoch 128/175\n",
      "1945/1945 [==============================] - 2s 1ms/step - loss: 0.0881 - categorical_accuracy: 0.0215\n",
      "Epoch 129/175\n",
      "1945/1945 [==============================] - 2s 1ms/step - loss: 0.0920 - categorical_accuracy: 0.0221\n",
      "Epoch 130/175\n",
      "1945/1945 [==============================] - 3s 1ms/step - loss: 0.0919 - categorical_accuracy: 0.0218\n",
      "Epoch 131/175\n",
      "1945/1945 [==============================] - 2s 1ms/step - loss: 0.0890 - categorical_accuracy: 0.0241\n",
      "Epoch 132/175\n",
      "1945/1945 [==============================] - 3s 1ms/step - loss: 0.0995 - categorical_accuracy: 0.0226\n",
      "Epoch 133/175\n",
      "1945/1945 [==============================] - 3s 1ms/step - loss: 0.0913 - categorical_accuracy: 0.0234\n",
      "Epoch 134/175\n",
      "1945/1945 [==============================] - 3s 1ms/step - loss: 0.0918 - categorical_accuracy: 0.0247\n",
      "Epoch 135/175\n",
      "1945/1945 [==============================] - 3s 1ms/step - loss: 0.0947 - categorical_accuracy: 0.0225\n",
      "Epoch 136/175\n",
      "1945/1945 [==============================] - 3s 1ms/step - loss: 0.0909 - categorical_accuracy: 0.0235\n",
      "Epoch 137/175\n",
      "1945/1945 [==============================] - 2s 1ms/step - loss: 0.0944 - categorical_accuracy: 0.0223\n",
      "Epoch 138/175\n",
      "1945/1945 [==============================] - 2s 1ms/step - loss: 0.1000 - categorical_accuracy: 0.0240\n",
      "Epoch 139/175\n",
      "1945/1945 [==============================] - 2s 1ms/step - loss: 0.0955 - categorical_accuracy: 0.0254\n",
      "Epoch 140/175\n",
      "1945/1945 [==============================] - 3s 1ms/step - loss: 0.0924 - categorical_accuracy: 0.0254\n",
      "Epoch 141/175\n",
      "1945/1945 [==============================] - 3s 1ms/step - loss: 0.1012 - categorical_accuracy: 0.0277\n",
      "Epoch 142/175\n",
      "1945/1945 [==============================] - 3s 1ms/step - loss: 0.0974 - categorical_accuracy: 0.0245\n",
      "Epoch 143/175\n",
      "1945/1945 [==============================] - 2s 1ms/step - loss: 0.0905 - categorical_accuracy: 0.0236\n",
      "Epoch 144/175\n",
      "1945/1945 [==============================] - 2s 1ms/step - loss: 0.0987 - categorical_accuracy: 0.0248\n",
      "Epoch 145/175\n",
      "1945/1945 [==============================] - 3s 1ms/step - loss: 0.0909 - categorical_accuracy: 0.0238\n",
      "Epoch 146/175\n",
      "1945/1945 [==============================] - 3s 1ms/step - loss: 0.0944 - categorical_accuracy: 0.0240\n",
      "Epoch 147/175\n",
      "1945/1945 [==============================] - 3s 1ms/step - loss: 0.0923 - categorical_accuracy: 0.0248\n",
      "Epoch 148/175\n",
      "1945/1945 [==============================] - 3s 1ms/step - loss: 0.0935 - categorical_accuracy: 0.0250\n",
      "Epoch 149/175\n",
      "1945/1945 [==============================] - 2s 1ms/step - loss: 0.0885 - categorical_accuracy: 0.0231\n",
      "Epoch 150/175\n",
      "1945/1945 [==============================] - 2s 1ms/step - loss: 0.0891 - categorical_accuracy: 0.0222\n",
      "Epoch 151/175\n",
      "1945/1945 [==============================] - 2s 1ms/step - loss: 0.0944 - categorical_accuracy: 0.0231\n",
      "Epoch 152/175\n",
      "1945/1945 [==============================] - 2s 1ms/step - loss: 0.0913 - categorical_accuracy: 0.0258\n",
      "Epoch 153/175\n",
      "1945/1945 [==============================] - 3s 1ms/step - loss: 0.0996 - categorical_accuracy: 0.0293\n",
      "Epoch 154/175\n",
      "1945/1945 [==============================] - 3s 1ms/step - loss: 0.0865 - categorical_accuracy: 0.0236\n",
      "Epoch 155/175\n",
      "1945/1945 [==============================] - 3s 1ms/step - loss: 0.0943 - categorical_accuracy: 0.0245\n",
      "Epoch 156/175\n",
      "1945/1945 [==============================] - 3s 1ms/step - loss: 0.0938 - categorical_accuracy: 0.0249\n",
      "Epoch 157/175\n",
      "1945/1945 [==============================] - 3s 1ms/step - loss: 0.0902 - categorical_accuracy: 0.0239\n",
      "Epoch 158/175\n",
      "1945/1945 [==============================] - 2s 1ms/step - loss: 0.0998 - categorical_accuracy: 0.0225\n",
      "Epoch 159/175\n",
      "1945/1945 [==============================] - 3s 1ms/step - loss: 0.0936 - categorical_accuracy: 0.0244\n",
      "Epoch 160/175\n",
      "1945/1945 [==============================] - 3s 1ms/step - loss: 0.1016 - categorical_accuracy: 0.0255\n",
      "Epoch 161/175\n",
      "1945/1945 [==============================] - 2s 1ms/step - loss: 0.1110 - categorical_accuracy: 0.0262\n",
      "Epoch 162/175\n",
      "1945/1945 [==============================] - 2s 1ms/step - loss: 0.1067 - categorical_accuracy: 0.0239\n",
      "Epoch 163/175\n",
      "1945/1945 [==============================] - 2s 1ms/step - loss: 0.0972 - categorical_accuracy: 0.0264\n",
      "Epoch 164/175\n",
      "1945/1945 [==============================] - 2s 1ms/step - loss: 0.0947 - categorical_accuracy: 0.0250\n",
      "Epoch 165/175\n",
      "1945/1945 [==============================] - 2s 1ms/step - loss: 0.1066 - categorical_accuracy: 0.0237\n",
      "Epoch 166/175\n",
      "1945/1945 [==============================] - 3s 1ms/step - loss: 0.0929 - categorical_accuracy: 0.0256\n",
      "Epoch 167/175\n",
      "1945/1945 [==============================] - 2s 1ms/step - loss: 0.0943 - categorical_accuracy: 0.0244\n",
      "Epoch 168/175\n",
      "1945/1945 [==============================] - 2s 1ms/step - loss: 0.1023 - categorical_accuracy: 0.0240\n",
      "Epoch 169/175\n",
      "1945/1945 [==============================] - 2s 1ms/step - loss: 0.0959 - categorical_accuracy: 0.0225\n",
      "Epoch 170/175\n",
      "1945/1945 [==============================] - 2s 1ms/step - loss: 0.0992 - categorical_accuracy: 0.0246\n",
      "Epoch 171/175\n",
      "1945/1945 [==============================] - 3s 1ms/step - loss: 0.0997 - categorical_accuracy: 0.0259\n",
      "Epoch 172/175\n",
      "1945/1945 [==============================] - 3s 1ms/step - loss: 0.0969 - categorical_accuracy: 0.0264\n",
      "Epoch 173/175\n",
      "1945/1945 [==============================] - 2s 1ms/step - loss: 0.0945 - categorical_accuracy: 0.0275\n",
      "Epoch 174/175\n",
      "1945/1945 [==============================] - 2s 1ms/step - loss: 0.0904 - categorical_accuracy: 0.0274\n",
      "Epoch 175/175\n",
      "1945/1945 [==============================] - 3s 1ms/step - loss: 0.0908 - categorical_accuracy: 0.0249\n"
     ]
    },
    {
     "data": {
      "text/plain": [
       "<tensorflow.python.keras.callbacks.History at 0x7fee38bce910>"
      ]
     },
     "execution_count": 106,
     "metadata": {},
     "output_type": "execute_result"
    }
   ],
   "source": [
    "class_weight = {0:1.2,\n",
    "               1:1.2,\n",
    "               2:0.1}\n",
    "model.fit(x_train, y_train, epochs=175, class_weight=class_weight)"
   ]
  },
  {
   "cell_type": "code",
   "execution_count": 107,
   "id": "adda3d59-452e-41f4-980c-b044c5ad8703",
   "metadata": {},
   "outputs": [
    {
     "name": "stdout",
     "output_type": "stream",
     "text": [
      "266/266 - 0s - loss: 0.5350 - categorical_accuracy: 0.0152\n"
     ]
    },
    {
     "data": {
      "text/plain": [
       "[0.5350283980369568, 0.015201508067548275]"
      ]
     },
     "execution_count": 107,
     "metadata": {},
     "output_type": "execute_result"
    }
   ],
   "source": [
    "model.evaluate(x_test,  y_test, verbose=2)\n",
    "\n"
   ]
  },
  {
   "cell_type": "code",
   "execution_count": 109,
   "id": "883d65b1-6c24-4b62-933c-75d042adae65",
   "metadata": {},
   "outputs": [],
   "source": [
    "logits = model.predict(x_test)\n",
    "results = tf.math.argmax(tf.nn.softmax(logits).numpy(), axis =1)"
   ]
  },
  {
   "cell_type": "code",
   "execution_count": 110,
   "id": "e4438ba7-4c81-4d82-be98-0c1cb5b88297",
   "metadata": {},
   "outputs": [],
   "source": [
    "cm = confusion_matrix(results, y_test)\n",
    "score2 = cohen_kappa_score(results, y_test)"
   ]
  },
  {
   "cell_type": "code",
   "execution_count": 111,
   "id": "fef7490a-a2ea-437f-9225-574e801863b1",
   "metadata": {},
   "outputs": [
    {
     "data": {
      "text/plain": [
       "array([[  14,   20,   95],\n",
       "       [  36,   40,  605],\n",
       "       [ 189,  288, 7199]])"
      ]
     },
     "execution_count": 111,
     "metadata": {},
     "output_type": "execute_result"
    }
   ],
   "source": [
    "cm"
   ]
  },
  {
   "cell_type": "code",
   "execution_count": 98,
   "id": "c0e9a9f6-cbc6-4fa7-a9ab-e157cc0a4bd9",
   "metadata": {},
   "outputs": [
    {
     "data": {
      "text/plain": [
       "0.033693250556926735"
      ]
     },
     "execution_count": 98,
     "metadata": {},
     "output_type": "execute_result"
    }
   ],
   "source": [
    "score2"
   ]
  },
  {
   "cell_type": "markdown",
   "id": "d62f2442-6ce3-46d1-97dd-26a6015c5c13",
   "metadata": {},
   "source": [
    "## New Predictions"
   ]
  },
  {
   "cell_type": "code",
   "execution_count": 71,
   "id": "9c2ffce0-fb02-4fa7-a9d2-b2541dd4670b",
   "metadata": {},
   "outputs": [],
   "source": [
    "X = pd.read_pickle(join(data_folder, \"test.pk\"))\n",
    "X_mat = X.values"
   ]
  },
  {
   "cell_type": "code",
   "execution_count": 72,
   "id": "a11e60c5-cf5c-42ab-8235-fb4fc8653086",
   "metadata": {},
   "outputs": [],
   "source": [
    "X_mat = scaler.transform(X_mat)"
   ]
  },
  {
   "cell_type": "code",
   "execution_count": 74,
   "id": "bcc9b6d9-22ee-4168-91d9-97dace71a5a4",
   "metadata": {},
   "outputs": [],
   "source": [
    "logits = model.predict(X_mat)\n",
    "results = tf.math.argmax(tf.nn.softmax(logits).numpy(), axis =1)"
   ]
  },
  {
   "cell_type": "code",
   "execution_count": 79,
   "id": "5e398bbb-49ad-4b82-8a2c-00bb84b965b0",
   "metadata": {},
   "outputs": [],
   "source": [
    "predicted_vals = results.numpy()"
   ]
  },
  {
   "cell_type": "code",
   "execution_count": 80,
   "id": "523474ed-2967-4e01-9e8e-5a60b19fb651",
   "metadata": {},
   "outputs": [],
   "source": [
    "\n",
    "report = pd.DataFrame({'Id': X.index, 'pred': predicted_vals})\n",
    "report.to_csv(\"submission.csv\", index=False)"
   ]
  }
 ],
 "metadata": {
  "kernelspec": {
   "display_name": "Python 3 (ipykernel)",
   "language": "python",
   "name": "python3"
  },
  "language_info": {
   "codemirror_mode": {
    "name": "ipython",
    "version": 3
   },
   "file_extension": ".py",
   "mimetype": "text/x-python",
   "name": "python",
   "nbconvert_exporter": "python",
   "pygments_lexer": "ipython3",
   "version": "3.9.12"
  }
 },
 "nbformat": 4,
 "nbformat_minor": 5
}
